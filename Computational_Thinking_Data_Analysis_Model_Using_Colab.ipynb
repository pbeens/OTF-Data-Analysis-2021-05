{
  "nbformat": 4,
  "nbformat_minor": 0,
  "metadata": {
    "colab": {
      "name": "Computational Thinking Data Analysis Model Using Colab.ipynb",
      "provenance": [],
      "collapsed_sections": [],
      "toc_visible": true,
      "authorship_tag": "ABX9TyMYx4qdBdPCvIR/Z+3VB9WT",
      "include_colab_link": true
    },
    "kernelspec": {
      "name": "python3",
      "display_name": "Python 3"
    },
    "language_info": {
      "name": "python"
    }
  },
  "cells": [
    {
      "cell_type": "markdown",
      "metadata": {
        "id": "view-in-github",
        "colab_type": "text"
      },
      "source": [
        "<a href=\"https://colab.research.google.com/github/pbeens/OTF-Data-Analysis-2021-05/blob/main/Computational_Thinking_Data_Analysis_Model_Using_Colab.ipynb\" target=\"_parent\"><img src=\"https://colab.research.google.com/assets/colab-badge.svg\" alt=\"Open In Colab\"/></a>"
      ]
    },
    {
      "cell_type": "markdown",
      "metadata": {
        "id": "3dD2gVVjyodq"
      },
      "source": [
        "# Objective?"
      ]
    },
    {
      "cell_type": "markdown",
      "metadata": {
        "id": "j5OOAWhEy7qF"
      },
      "source": [
        "- What do you want to analyze?\n",
        "- Where is the data coming from?"
      ]
    },
    {
      "cell_type": "markdown",
      "metadata": {
        "id": "BjoOfabZyojV"
      },
      "source": [
        "# Get the Data"
      ]
    },
    {
      "cell_type": "markdown",
      "metadata": {
        "id": "nf1cM4rJzmg8"
      },
      "source": [
        "- You need to import the Pandas library.\n",
        "- You need to define the source file or URL.\n",
        "- you need to create the dataframe"
      ]
    },
    {
      "cell_type": "code",
      "metadata": {
        "id": "IKSGDsTByyUn"
      },
      "source": [
        "import pandas as pd"
      ],
      "execution_count": 1,
      "outputs": []
    },
    {
      "cell_type": "code",
      "metadata": {
        "id": "z4288ey2z_Sl"
      },
      "source": [
        "url = 'insert url here'\n",
        "\n",
        "# use one of the following:\n",
        "\n",
        "# for a CSV file (very popular)\n",
        "df = pd.read_csv(url)\n",
        "\n",
        "# for an Excel file\n",
        "df = pd.read_excel(url)\n",
        "\n",
        "# for a table from a webpage\n",
        "df_list_of_tables = pd.read_html(url) \n",
        "df = df_list_of_tables[2] # enter the index number of the table\n"
      ],
      "execution_count": 3,
      "outputs": []
    },
    {
      "cell_type": "markdown",
      "metadata": {
        "id": "kwnZ532qyoni"
      },
      "source": [
        "# Quick Look at the Data"
      ]
    },
    {
      "cell_type": "markdown",
      "metadata": {
        "id": "nATaBmVI1nGz"
      },
      "source": [
        "Common techniques are to look at the head, the columns, and the data types."
      ]
    },
    {
      "cell_type": "code",
      "metadata": {
        "id": "vTCcAGUt1mGJ"
      },
      "source": [
        "df.head()"
      ],
      "execution_count": null,
      "outputs": []
    },
    {
      "cell_type": "code",
      "metadata": {
        "id": "5kg19gjAy4Iz"
      },
      "source": [
        "df.columns"
      ],
      "execution_count": null,
      "outputs": []
    },
    {
      "cell_type": "code",
      "metadata": {
        "id": "CCA9Zp1o1y5w"
      },
      "source": [
        "df.dtypes"
      ],
      "execution_count": null,
      "outputs": []
    },
    {
      "cell_type": "markdown",
      "metadata": {
        "id": "jUHJ26tZyorH"
      },
      "source": [
        "# Clean/Fix the Data"
      ]
    },
    {
      "cell_type": "markdown",
      "metadata": {
        "id": "8KUkxE6m185n"
      },
      "source": [
        "This will depend on the data we're looking at. Some issues may be:\n",
        "\n",
        "- extraneous text in the data\n",
        "- incorrect data type\n",
        "- invalid (or no) data"
      ]
    },
    {
      "cell_type": "code",
      "metadata": {
        "id": "UdLz4ekmzWPp"
      },
      "source": [
        "# code goes here\n",
        "\n"
      ],
      "execution_count": null,
      "outputs": []
    },
    {
      "cell_type": "markdown",
      "metadata": {
        "id": "TQ6TzpTryouO"
      },
      "source": [
        "# Plot the Data"
      ]
    },
    {
      "cell_type": "markdown",
      "metadata": {
        "id": "ACrnP6OB20A_"
      },
      "source": [
        "Types of plots:\n",
        "\n",
        "- ‘bar’ or ‘barh’ for bar plots\n",
        "- ‘hist’ for histogram\n",
        "- ‘box’ for boxplot\n",
        "- ‘kde’ or ‘density’ for density plots\n",
        "- ‘area’ for area plots\n",
        "- ‘scatter’ for scatter plots\n",
        "- ‘hexbin’ for hexagonal bin plots\n",
        "- ‘pie’ for pie plots\n",
        "\n",
        "The following code is a good starting point to modify:"
      ]
    },
    {
      "cell_type": "code",
      "metadata": {
        "id": "2ej63Xzpzatd"
      },
      "source": [
        "df.plot(kind='line',\n",
        "          x='column-name', \n",
        "          y='column-name', # if plotting more than one column, use a list\n",
        "          rot=90, # to rotate labels\n",
        "          figsize=(10,5), # in inches\n",
        "          style='-.', # '-', '--', '-.', ':'\n",
        "          grid=True,\n",
        "          legend=False,\n",
        "          xlim=(2000,2020), \n",
        "          ylim=(30e3,50e3),\n",
        "          xlabel='X Label',\n",
        "          ylabel='Y Label',\n",
        "          title='Title')"
      ],
      "execution_count": null,
      "outputs": []
    }
  ]
}