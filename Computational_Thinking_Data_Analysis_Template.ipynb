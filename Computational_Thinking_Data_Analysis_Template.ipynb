{
  "nbformat": 4,
  "nbformat_minor": 0,
  "metadata": {
    "colab": {
      "name": "Computational Thinking Data Analysis Template.ipynb",
      "provenance": [],
      "collapsed_sections": [],
      "toc_visible": true,
      "authorship_tag": "ABX9TyMS9+3fanokQDDTznuaRusd",
      "include_colab_link": true
    },
    "kernelspec": {
      "name": "python3",
      "display_name": "Python 3"
    },
    "language_info": {
      "name": "python"
    }
  },
  "cells": [
    {
      "cell_type": "markdown",
      "metadata": {
        "id": "view-in-github",
        "colab_type": "text"
      },
      "source": [
        "<a href=\"https://colab.research.google.com/github/pbeens/OTF-Data-Analysis-2021-05/blob/main/Computational_Thinking_Data_Analysis_Template.ipynb\" target=\"_parent\"><img src=\"https://colab.research.google.com/assets/colab-badge.svg\" alt=\"Open In Colab\"/></a>"
      ]
    },
    {
      "cell_type": "markdown",
      "metadata": {
        "id": "5KZcImhpLr3c"
      },
      "source": [
        "# Enter Title Here\n",
        "\n",
        "---"
      ]
    },
    {
      "cell_type": "markdown",
      "metadata": {
        "id": "3dD2gVVjyodq"
      },
      "source": [
        "# What is the Objective?"
      ]
    },
    {
      "cell_type": "markdown",
      "metadata": {
        "id": "j5OOAWhEy7qF"
      },
      "source": [
        "- What do you want to analyze?\n",
        "- Where is the data coming from?"
      ]
    },
    {
      "cell_type": "markdown",
      "metadata": {
        "id": "BjoOfabZyojV"
      },
      "source": [
        "# Get the Data"
      ]
    },
    {
      "cell_type": "markdown",
      "metadata": {
        "id": "nf1cM4rJzmg8"
      },
      "source": [
        "- You need to import the Pandas library.\n",
        "- You need to define the source file or URL.\n",
        "- You need to create the dataframe.\n",
        "- The data can be from within the notebook or from a remote site.\n",
        "- You may want to include some additional notes here about the data."
      ]
    },
    {
      "cell_type": "code",
      "metadata": {
        "id": "IKSGDsTByyUn"
      },
      "source": [
        "import pandas as pd"
      ],
      "execution_count": null,
      "outputs": []
    },
    {
      "cell_type": "markdown",
      "metadata": {
        "id": "JrP4Z1Plfd5k"
      },
      "source": [
        "## From a Website"
      ]
    },
    {
      "cell_type": "code",
      "metadata": {
        "id": "z4288ey2z_Sl"
      },
      "source": [
        "# enter the URL here\n",
        "url = 'insert url here'\n",
        "\n",
        "# use one of the following:\n",
        "\n",
        "# for a CSV file (very popular)\n",
        "df = pd.read_csv(url)\n",
        "\n",
        "# for an Excel file\n",
        "df = pd.read_excel(url)\n",
        "\n",
        "# for a table from a webpage\n",
        "df_list_of_tables = pd.read_html(url) \n",
        "df = df_list_of_tables[2] # enter the index number of the table\n",
        "\n",
        "# quick look at the data...\n",
        "df"
      ],
      "execution_count": null,
      "outputs": []
    },
    {
      "cell_type": "markdown",
      "metadata": {
        "id": "3IIuY07KfqOg"
      },
      "source": [
        "## From Within the Notebook"
      ]
    },
    {
      "cell_type": "code",
      "metadata": {
        "id": "aZzju6dtf1S1"
      },
      "source": [
        "x_data = [1, 2, 3, 4, 5]\n",
        "y_data = [1, 4, 9, 16, 25]\n",
        "\n",
        "data_dict = {'x': x_data,\n",
        "             'y': y_data}\n",
        "\n",
        "df = pd.DataFrame(data_dict)\n",
        "\n",
        "df"
      ],
      "execution_count": null,
      "outputs": []
    },
    {
      "cell_type": "markdown",
      "metadata": {
        "id": "kwnZ532qyoni"
      },
      "source": [
        "# Quick Look at the Data"
      ]
    },
    {
      "cell_type": "markdown",
      "metadata": {
        "id": "nATaBmVI1nGz"
      },
      "source": [
        "Common techniques are to look at the head, the columns, and the data types."
      ]
    },
    {
      "cell_type": "code",
      "metadata": {
        "id": "vTCcAGUt1mGJ"
      },
      "source": [
        "# The first few records\n",
        "\n",
        "df.head()"
      ],
      "execution_count": null,
      "outputs": []
    },
    {
      "cell_type": "code",
      "metadata": {
        "id": "5kg19gjAy4Iz"
      },
      "source": [
        "# The names of the columns\n",
        "\n",
        "df.columns"
      ],
      "execution_count": null,
      "outputs": []
    },
    {
      "cell_type": "code",
      "metadata": {
        "id": "CCA9Zp1o1y5w"
      },
      "source": [
        "# The datatypes\n",
        "\n",
        "df.dtypes"
      ],
      "execution_count": null,
      "outputs": []
    },
    {
      "cell_type": "code",
      "metadata": {
        "id": "Z3ykknRwpyM-"
      },
      "source": [
        "# A statistical summary\n",
        "\n",
        "df.describe()"
      ],
      "execution_count": null,
      "outputs": []
    },
    {
      "cell_type": "code",
      "metadata": {
        "id": "8r3Pfb2-L6FE"
      },
      "source": [
        "# Looking at one column only\n",
        "\n",
        "df['name_of_column'] # insert the name of the column! "
      ],
      "execution_count": null,
      "outputs": []
    },
    {
      "cell_type": "code",
      "metadata": {
        "id": "3H6PpQpQy4_A"
      },
      "source": [
        "# Want to look at unique values?\n",
        "\n",
        "df['name_of_column'].unique # insert the name of the column! "
      ],
      "execution_count": null,
      "outputs": []
    },
    {
      "cell_type": "markdown",
      "metadata": {
        "id": "jUHJ26tZyorH"
      },
      "source": [
        "# Clean/Fix the Data"
      ]
    },
    {
      "cell_type": "markdown",
      "metadata": {
        "id": "8KUkxE6m185n"
      },
      "source": [
        "This will depend on the data we're looking at. Some issues may be:\n",
        "\n",
        "- extraneous text in the data\n",
        "- incorrect data type\n",
        "- invalid (or no) data"
      ]
    },
    {
      "cell_type": "code",
      "metadata": {
        "id": "UdLz4ekmzWPp"
      },
      "source": [
        "# code goes here\n",
        "\n"
      ],
      "execution_count": null,
      "outputs": []
    },
    {
      "cell_type": "markdown",
      "metadata": {
        "id": "hbSCQrwrhS5r"
      },
      "source": [
        "# Filter the Data"
      ]
    },
    {
      "cell_type": "markdown",
      "metadata": {
        "id": "lsawbvVJhWKp"
      },
      "source": [
        "You might want a subset of the data. This video is a great intro for how to do this: [https://www.youtube.com/watch?v=Lw2rlcxScZY](https://www.youtube.com/watch?v=Lw2rlcxScZY)\n",
        "\n",
        "If you don't need to filter the data then delete these rows. "
      ]
    },
    {
      "cell_type": "code",
      "metadata": {
        "id": "VwZp3T5FhsJU"
      },
      "source": [
        "# create the filter. This is an example filter only! \n",
        "filt = (df['x'] > 2) \n",
        "\n",
        "# apply the filter\n",
        "df_subset = df.loc[filt] # Note the new dataframe name\n",
        "\n",
        "# check that it worked\n",
        "df_subset"
      ],
      "execution_count": null,
      "outputs": []
    },
    {
      "cell_type": "markdown",
      "metadata": {
        "id": "TQ6TzpTryouO"
      },
      "source": [
        "# Plot the Data"
      ]
    },
    {
      "cell_type": "markdown",
      "metadata": {
        "id": "ACrnP6OB20A_"
      },
      "source": [
        "Types of plots:\n",
        "\n",
        "- ‘bar’ or ‘barh’ for bar plots\n",
        "- ‘hist’ for histogram\n",
        "- ‘box’ for boxplot\n",
        "- ‘kde’ or ‘density’ for density plots\n",
        "- ‘area’ for area plots\n",
        "- ‘scatter’ for scatter plots\n",
        "- ‘hexbin’ for hexagonal bin plots\n",
        "- ‘pie’ for pie plots\n",
        "\n",
        "The following code is a good starting point to modify:"
      ]
    },
    {
      "cell_type": "code",
      "metadata": {
        "id": "2ej63Xzpzatd"
      },
      "source": [
        "df_subset.plot(kind='line',\n",
        "               x='column-name', \n",
        "               y='column-name', # if plotting more than one column, use a list\n",
        "               rot=90, # to rotate labels\n",
        "               figsize=(10,5), # in inches\n",
        "               style='-.', # styles are '-', '--', '-.', ':'\n",
        "               grid=True, # grid on\n",
        "               legend=False, # legend off \n",
        "               xlim=(2000,2020), # set the x-axis start and end values\n",
        "               ylim=(30e3,50e3), # set the y-axis start and end values\n",
        "               xlabel='X Label', \n",
        "               ylabel='Y Label',\n",
        "               title='Title')"
      ],
      "execution_count": null,
      "outputs": []
    }
  ]
}