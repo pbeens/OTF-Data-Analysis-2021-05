{
  "nbformat": 4,
  "nbformat_minor": 0,
  "metadata": {
    "colab": {
      "name": "Data Analysis Template.ipynb",
      "provenance": [],
      "collapsed_sections": [],
      "toc_visible": true,
      "authorship_tag": "ABX9TyOOwkpnBK4Ji4iQjWmbldXv",
      "include_colab_link": true
    },
    "kernelspec": {
      "name": "python3",
      "display_name": "Python 3"
    },
    "language_info": {
      "name": "python"
    }
  },
  "cells": [
    {
      "cell_type": "markdown",
      "metadata": {
        "id": "view-in-github",
        "colab_type": "text"
      },
      "source": [
        "<a href=\"https://colab.research.google.com/github/pbeens/OTF-Data-Analysis-2021-05/blob/main/Data_Analysis_Template.ipynb\" target=\"_parent\"><img src=\"https://colab.research.google.com/assets/colab-badge.svg\" alt=\"Open In Colab\"/></a>"
      ]
    },
    {
      "cell_type": "markdown",
      "metadata": {
        "id": "Prz_IhNcPyOi"
      },
      "source": [
        "# Title\n",
        "\n",
        "---\n",
        "\n"
      ]
    },
    {
      "cell_type": "markdown",
      "metadata": {
        "id": "OY4D2XOWP8C_"
      },
      "source": [
        "**Use this template *as a starting point*. Delete anything you don't need.**\n",
        "\n",
        "Change the title at the top and any text under the headings to make your code and comments relevant. "
      ]
    },
    {
      "cell_type": "markdown",
      "metadata": {
        "id": "3dD2gVVjyodq"
      },
      "source": [
        "# What is the Objective?"
      ]
    },
    {
      "cell_type": "markdown",
      "metadata": {
        "id": "j5OOAWhEy7qF"
      },
      "source": [
        "- What do you want to analyze?\n",
        "- Where is the data coming from?\n",
        "- What output do you want?"
      ]
    },
    {
      "cell_type": "markdown",
      "metadata": {
        "id": "BjoOfabZyojV"
      },
      "source": [
        "# Get the Data"
      ]
    },
    {
      "cell_type": "markdown",
      "metadata": {
        "id": "nf1cM4rJzmg8"
      },
      "source": [
        "- You need to import the Pandas library.\n",
        "- You need to define the URL of the source file or create the data within this notebook. There are two sections here for that. Delete the one you don't use.\n",
        "- You need to create the dataframe.\n",
        "- You may want to include some additional notes here about the data."
      ]
    },
    {
      "cell_type": "code",
      "metadata": {
        "id": "IKSGDsTByyUn"
      },
      "source": [
        "import pandas as pd"
      ],
      "execution_count": null,
      "outputs": []
    },
    {
      "cell_type": "markdown",
      "metadata": {
        "id": "JrP4Z1Plfd5k"
      },
      "source": [
        "## From a Website"
      ]
    },
    {
      "cell_type": "code",
      "metadata": {
        "id": "z4288ey2z_Sl"
      },
      "source": [
        "# Enter the URL here\n",
        "url = 'insert_url_here'\n",
        "\n",
        "# Use one of the following:\n",
        "\n",
        "# For a CSV file (very popular)\n",
        "df = pd.read_csv(url)\n",
        "\n",
        "# From a Google Sheet\n",
        "# Note: You must change the last part of the URL to /export?format=csv\n",
        "# Note 2: The Google Sheet must be public! \n",
        "df = pd.read_csv(url)\n",
        "\n",
        "# For an Excel file\n",
        "df = pd.read_excel(url)\n",
        "\n",
        "# For a table from a webpage\n",
        "df_list_of_tables = pd.read_html(url) \n",
        "df = df_list_of_tables[2] # enter the index number of the table\n",
        "\n",
        "# Quick look at the data...\n",
        "df"
      ],
      "execution_count": null,
      "outputs": []
    },
    {
      "cell_type": "markdown",
      "metadata": {
        "id": "3IIuY07KfqOg"
      },
      "source": [
        "## Or From Within the Notebook"
      ]
    },
    {
      "cell_type": "code",
      "metadata": {
        "id": "aZzju6dtf1S1"
      },
      "source": [
        "x_data = [1, 2, 3, 4, 5]\n",
        "y_data = [1, 4, 9, 16, 25]\n",
        "\n",
        "data_dict = {'x': x_data,\n",
        "             'y': y_data}\n",
        "\n",
        "df = pd.DataFrame(data_dict)\n",
        "\n",
        "df"
      ],
      "execution_count": null,
      "outputs": []
    },
    {
      "cell_type": "markdown",
      "metadata": {
        "id": "kwnZ532qyoni"
      },
      "source": [
        "# Quick Look at the Data"
      ]
    },
    {
      "cell_type": "markdown",
      "metadata": {
        "id": "nATaBmVI1nGz"
      },
      "source": [
        "Common techniques are to look at the first few rows (`head()`), the column names (`columns`), and the data types (`dtypes`). A statistical summary (`describe()`) is sometimes useful, especially if the data is numeric."
      ]
    },
    {
      "cell_type": "code",
      "metadata": {
        "id": "vTCcAGUt1mGJ"
      },
      "source": [
        "# The first few records\n",
        "\n",
        "df.head()"
      ],
      "execution_count": null,
      "outputs": []
    },
    {
      "cell_type": "code",
      "metadata": {
        "id": "wRFvtnlu_8Zv"
      },
      "source": [
        "# The last few records\n",
        "\n",
        "df.tail()"
      ],
      "execution_count": null,
      "outputs": []
    },
    {
      "cell_type": "code",
      "metadata": {
        "id": "2hs_iY30-Pp-"
      },
      "source": [
        "# A random sample\n",
        "\n",
        "df.sample(n=5) # or frac=0.2"
      ],
      "execution_count": null,
      "outputs": []
    },
    {
      "cell_type": "code",
      "metadata": {
        "id": "5kg19gjAy4Iz"
      },
      "source": [
        "# The names of the columns\n",
        "\n",
        "df.columns"
      ],
      "execution_count": null,
      "outputs": []
    },
    {
      "cell_type": "code",
      "metadata": {
        "id": "CCA9Zp1o1y5w"
      },
      "source": [
        "# The datatypes\n",
        "\n",
        "df.dtypes"
      ],
      "execution_count": null,
      "outputs": []
    },
    {
      "cell_type": "code",
      "metadata": {
        "id": "Z3ykknRwpyM-"
      },
      "source": [
        "# A statistical summary\n",
        "\n",
        "df.describe()"
      ],
      "execution_count": null,
      "outputs": []
    },
    {
      "cell_type": "code",
      "metadata": {
        "id": "8r3Pfb2-L6FE"
      },
      "source": [
        "# Looking at one column only\n",
        "\n",
        "df['name_of_column'] # insert the name of the column! "
      ],
      "execution_count": null,
      "outputs": []
    },
    {
      "cell_type": "code",
      "metadata": {
        "id": "3H6PpQpQy4_A"
      },
      "source": [
        "# Want to look at unique values?\n",
        "\n",
        "df['name_of_column'].unique() # insert the name of the column! "
      ],
      "execution_count": null,
      "outputs": []
    },
    {
      "cell_type": "markdown",
      "metadata": {
        "id": "jUHJ26tZyorH"
      },
      "source": [
        "# Clean/Fix the Data"
      ]
    },
    {
      "cell_type": "markdown",
      "metadata": {
        "id": "8KUkxE6m185n"
      },
      "source": [
        "This will depend on the data we're looking at. Some issues may be:\n",
        "\n",
        "- extraneous text in the data\n",
        "- incorrect data type\n",
        "- invalid (or no) data\n",
        "- we need to add columns\n",
        "\n",
        "Use this [notebook](https://github.com/pbeens/OTF-Data-Analysis-2021-05/blob/main/Demo_Fixing_Data.ipynb) for hints on how to clean or fix the data. It is recommended to open the notebook in Colab so you can see the table of contents, which will make it much easier to use."
      ]
    },
    {
      "cell_type": "code",
      "metadata": {
        "id": "_Ys9EVMI2GpZ"
      },
      "source": [
        "# Want to rename any columns?\n",
        "\n",
        "df.rename(columns={'old_column_name_1': 'New_Name_1',\n",
        "                   'old_column_name_2': 'New_Name_2',\n",
        "                   'old_column_name_3': 'New_Name_3'}, inplace=True)"
      ],
      "execution_count": null,
      "outputs": []
    },
    {
      "cell_type": "code",
      "metadata": {
        "id": "UdLz4ekmzWPp"
      },
      "source": [
        "# Additional code goes here\n",
        "# See https://bit.ly/3nOqXY7 for example fixes\n",
        "\n"
      ],
      "execution_count": null,
      "outputs": []
    },
    {
      "cell_type": "markdown",
      "metadata": {
        "id": "hbSCQrwrhS5r"
      },
      "source": [
        "# Filter the Data"
      ]
    },
    {
      "cell_type": "markdown",
      "metadata": {
        "id": "lsawbvVJhWKp"
      },
      "source": [
        "You might want a subset of the data. This video is a great intro for how to do this: [https://www.youtube.com/watch?v=Lw2rlcxScZY](https://www.youtube.com/watch?v=Lw2rlcxScZY)\n",
        "\n",
        "If you don't need to filter the data then delete these rows. "
      ]
    },
    {
      "cell_type": "code",
      "metadata": {
        "id": "VwZp3T5FhsJU"
      },
      "source": [
        "# create the filter. This is an example filter only! \n",
        "filt = (df['x'] > 2) \n",
        "\n",
        "# apply the filter\n",
        "df_subset = df.loc[filt] # Note the new dataframe name\n",
        "\n",
        "# check that it worked\n",
        "df_subset"
      ],
      "execution_count": null,
      "outputs": []
    },
    {
      "cell_type": "markdown",
      "metadata": {
        "id": "TQ6TzpTryouO"
      },
      "source": [
        "# Plot the Data"
      ]
    },
    {
      "cell_type": "markdown",
      "metadata": {
        "id": "ACrnP6OB20A_"
      },
      "source": [
        "Kinds of plots:\n",
        "\n",
        "- ‘bar’ or ‘barh’ for bar plots\n",
        "- ‘hist’ for histogram\n",
        "- ‘box’ for boxplot\n",
        "- ‘kde’ or ‘density’ for density plots\n",
        "- ‘area’ for area plots\n",
        "- ‘scatter’ for scatter plots\n",
        "- ‘hexbin’ for hexagonal bin plots\n",
        "- ‘pie’ for pie plots\n",
        "\n",
        "The following code is a good starting point to modify:"
      ]
    },
    {
      "cell_type": "code",
      "metadata": {
        "id": "2ej63Xzpzatd"
      },
      "source": [
        "# Plot the data. Be sure to edit all the options!\n",
        "\n",
        "plot = df_subset.plot(kind='line',\n",
        "                      x='column_name',\n",
        "                      y='column_name',  # if plotting more than one column, use a list\n",
        "                      rot=90,  # to rotate labels\n",
        "                      figsize=(10, 5),  # in inches\n",
        "                      style='-.',  # line styles are '-', '--', '-.', ':'\n",
        "                      grid=True,  # grid on\n",
        "                      legend=False,  # legend off \n",
        "                      # xlim=(2000, 2020),  # set the x-axis start and end values\n",
        "                      # ylim=(30e3, 50e3),  # set the y-axis start and end values\n",
        "                      xlabel='X_Label',\n",
        "                      ylabel='Y_Label',\n",
        "                      title='Title')"
      ],
      "execution_count": null,
      "outputs": []
    },
    {
      "cell_type": "code",
      "metadata": {
        "id": "b_FMLHMRbhd3"
      },
      "source": [
        "# Want to save the plot?\n",
        "\n",
        "fig = plot.get_figure()\n",
        "fig.savefig(\"output.png\")"
      ],
      "execution_count": null,
      "outputs": []
    },
    {
      "cell_type": "markdown",
      "metadata": {
        "id": "_scZ_F_JTqip"
      },
      "source": [
        "<br>\n",
        "\n",
        "---\n",
        "Note: The original of this template can be found on Google Colab at [is.gd/BeensDataTemplate](https://is.gd/BeensDataTemplate).\n"
      ]
    }
  ]
}