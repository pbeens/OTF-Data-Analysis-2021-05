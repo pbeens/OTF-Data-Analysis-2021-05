{
  "nbformat": 4,
  "nbformat_minor": 0,
  "metadata": {
    "colab": {
      "name": "Demo - Bar Chart - Mass of Planets.ipynb",
      "provenance": [],
      "collapsed_sections": [],
      "toc_visible": true,
      "include_colab_link": true
    },
    "kernelspec": {
      "name": "python3",
      "display_name": "Python 3"
    },
    "language_info": {
      "name": "python"
    }
  },
  "cells": [
    {
      "cell_type": "markdown",
      "metadata": {
        "id": "view-in-github",
        "colab_type": "text"
      },
      "source": [
        "<a href=\"https://colab.research.google.com/github/pbeens/OTF-Data-Analysis-2021-05/blob/main/Demo_Bar_Chart_Mass_of_Planets.ipynb\" target=\"_parent\"><img src=\"https://colab.research.google.com/assets/colab-badge.svg\" alt=\"Open In Colab\"/></a>"
      ]
    },
    {
      "cell_type": "markdown",
      "metadata": {
        "id": "5KZcImhpLr3c"
      },
      "source": [
        "# Mass of Planets - Bar Chart\n",
        "\n",
        "---\n",
        "\n",
        "This notebook is based on the template found [here](https://github.com/pbeens/OTF-Data-Analysis-2021-05/blob/main/Data_Analysis_Template.ipynb).\n"
      ]
    },
    {
      "cell_type": "markdown",
      "metadata": {
        "id": "3dD2gVVjyodq"
      },
      "source": [
        "# What is the Objective?"
      ]
    },
    {
      "cell_type": "markdown",
      "metadata": {
        "id": "j5OOAWhEy7qF"
      },
      "source": [
        "To produce a bar chart of the mass of the planets. Data source: https://en.wikipedia.org/wiki/Planet"
      ]
    },
    {
      "cell_type": "markdown",
      "metadata": {
        "id": "BjoOfabZyojV"
      },
      "source": [
        "# Get the Data"
      ]
    },
    {
      "cell_type": "markdown",
      "metadata": {
        "id": "nf1cM4rJzmg8"
      },
      "source": [
        "- You need to import the Pandas library.\n",
        "- You need to define the source file or URL.\n",
        "- You need to create the dataframe.\n",
        "- The data can be from within the notebook or from a remote site.\n",
        "- You may want to include some additional notes here about the data."
      ]
    },
    {
      "cell_type": "code",
      "metadata": {
        "id": "IKSGDsTByyUn"
      },
      "source": [
        "import pandas as pd"
      ],
      "execution_count": 1,
      "outputs": []
    },
    {
      "cell_type": "markdown",
      "metadata": {
        "id": "JrP4Z1Plfd5k"
      },
      "source": [
        "## From a Website"
      ]
    },
    {
      "cell_type": "code",
      "metadata": {
        "id": "z4288ey2z_Sl",
        "colab": {
          "base_uri": "https://localhost:8080/",
          "height": 379
        },
        "outputId": "b2a8cfbd-72e3-4991-c619-4eddd7d68cf5"
      },
      "source": [
        "# enter the URL here\n",
        "url = 'https://en.wikipedia.org/wiki/Planet'\n",
        "\n",
        "df_list_of_tables = pd.read_html(url) \n",
        "df = df_list_of_tables[7] # enter the index number of the table\n",
        "\n",
        "# quick look at the data...\n",
        "df"
      ],
      "execution_count": 2,
      "outputs": [
        {
          "output_type": "execute_result",
          "data": {
            "text/html": [
              "<div>\n",
              "<style scoped>\n",
              "    .dataframe tbody tr th:only-of-type {\n",
              "        vertical-align: middle;\n",
              "    }\n",
              "\n",
              "    .dataframe tbody tr th {\n",
              "        vertical-align: top;\n",
              "    }\n",
              "\n",
              "    .dataframe thead th {\n",
              "        text-align: right;\n",
              "    }\n",
              "</style>\n",
              "<table border=\"1\" class=\"dataframe\">\n",
              "  <thead>\n",
              "    <tr style=\"text-align: right;\">\n",
              "      <th></th>\n",
              "      <th>Unnamed: 0</th>\n",
              "      <th>Name</th>\n",
              "      <th>Equatorialdiameter [i]</th>\n",
              "      <th>Mass [i]</th>\n",
              "      <th>Semi-major axis (AU)</th>\n",
              "      <th>Orbital period(years)</th>\n",
              "      <th>Inclinationto Sun's equator (°)</th>\n",
              "      <th>Orbitaleccentricity</th>\n",
              "      <th>Rotation period(days)</th>\n",
              "      <th>Confirmedmoons</th>\n",
              "      <th>Axial tilt (°)</th>\n",
              "      <th>Rings</th>\n",
              "      <th>Atmosphere</th>\n",
              "    </tr>\n",
              "  </thead>\n",
              "  <tbody>\n",
              "    <tr>\n",
              "      <th>0</th>\n",
              "      <td>1.</td>\n",
              "      <td>Mercury</td>\n",
              "      <td>0.383</td>\n",
              "      <td>0.06</td>\n",
              "      <td>0.39</td>\n",
              "      <td>0.24</td>\n",
              "      <td>3.38</td>\n",
              "      <td>0.206</td>\n",
              "      <td>58.65</td>\n",
              "      <td>0</td>\n",
              "      <td>0.10</td>\n",
              "      <td>no</td>\n",
              "      <td>minimal</td>\n",
              "    </tr>\n",
              "    <tr>\n",
              "      <th>1</th>\n",
              "      <td>2.</td>\n",
              "      <td>Venus</td>\n",
              "      <td>0.949</td>\n",
              "      <td>0.81</td>\n",
              "      <td>0.72</td>\n",
              "      <td>0.62</td>\n",
              "      <td>3.86</td>\n",
              "      <td>0.007</td>\n",
              "      <td>−243.02</td>\n",
              "      <td>0</td>\n",
              "      <td>177.30</td>\n",
              "      <td>no</td>\n",
              "      <td>CO2, N2</td>\n",
              "    </tr>\n",
              "    <tr>\n",
              "      <th>2</th>\n",
              "      <td>3.</td>\n",
              "      <td>Earth (a)</td>\n",
              "      <td>1.000</td>\n",
              "      <td>1.00</td>\n",
              "      <td>1.00</td>\n",
              "      <td>1.00</td>\n",
              "      <td>7.25</td>\n",
              "      <td>0.017</td>\n",
              "      <td>1.00</td>\n",
              "      <td>1</td>\n",
              "      <td>23.44</td>\n",
              "      <td>no</td>\n",
              "      <td>N2, O2, Ar</td>\n",
              "    </tr>\n",
              "    <tr>\n",
              "      <th>3</th>\n",
              "      <td>4.</td>\n",
              "      <td>Mars</td>\n",
              "      <td>0.532</td>\n",
              "      <td>0.11</td>\n",
              "      <td>1.52</td>\n",
              "      <td>1.88</td>\n",
              "      <td>5.65</td>\n",
              "      <td>0.093</td>\n",
              "      <td>1.03</td>\n",
              "      <td>2</td>\n",
              "      <td>25.19</td>\n",
              "      <td>no</td>\n",
              "      <td>CO2, N2, Ar</td>\n",
              "    </tr>\n",
              "    <tr>\n",
              "      <th>4</th>\n",
              "      <td>5.</td>\n",
              "      <td>Jupiter</td>\n",
              "      <td>11.209</td>\n",
              "      <td>317.83</td>\n",
              "      <td>5.20</td>\n",
              "      <td>11.86</td>\n",
              "      <td>6.09</td>\n",
              "      <td>0.048</td>\n",
              "      <td>0.41</td>\n",
              "      <td>79</td>\n",
              "      <td>3.12</td>\n",
              "      <td>yes</td>\n",
              "      <td>H2, He</td>\n",
              "    </tr>\n",
              "    <tr>\n",
              "      <th>5</th>\n",
              "      <td>6.</td>\n",
              "      <td>Saturn</td>\n",
              "      <td>9.449</td>\n",
              "      <td>95.16</td>\n",
              "      <td>9.54</td>\n",
              "      <td>29.45</td>\n",
              "      <td>5.51</td>\n",
              "      <td>0.054</td>\n",
              "      <td>0.44</td>\n",
              "      <td>82</td>\n",
              "      <td>26.73</td>\n",
              "      <td>yes</td>\n",
              "      <td>H2, He</td>\n",
              "    </tr>\n",
              "    <tr>\n",
              "      <th>6</th>\n",
              "      <td>7.</td>\n",
              "      <td>Uranus</td>\n",
              "      <td>4.007</td>\n",
              "      <td>14.54</td>\n",
              "      <td>19.19</td>\n",
              "      <td>84.02</td>\n",
              "      <td>6.48</td>\n",
              "      <td>0.047</td>\n",
              "      <td>−0.72</td>\n",
              "      <td>27</td>\n",
              "      <td>97.86</td>\n",
              "      <td>yes</td>\n",
              "      <td>H2, He, CH4</td>\n",
              "    </tr>\n",
              "    <tr>\n",
              "      <th>7</th>\n",
              "      <td>8.</td>\n",
              "      <td>Neptune</td>\n",
              "      <td>3.883</td>\n",
              "      <td>17.15</td>\n",
              "      <td>30.07</td>\n",
              "      <td>164.79</td>\n",
              "      <td>6.43</td>\n",
              "      <td>0.009</td>\n",
              "      <td>0.67</td>\n",
              "      <td>14</td>\n",
              "      <td>29.60</td>\n",
              "      <td>yes</td>\n",
              "      <td>H2, He, CH4</td>\n",
              "    </tr>\n",
              "    <tr>\n",
              "      <th>8</th>\n",
              "      <td>Color legend: .mw-parser-output .legend{page-b...</td>\n",
              "      <td>Color legend: .mw-parser-output .legend{page-b...</td>\n",
              "      <td>Color legend: .mw-parser-output .legend{page-b...</td>\n",
              "      <td>Color legend: .mw-parser-output .legend{page-b...</td>\n",
              "      <td>Color legend: .mw-parser-output .legend{page-b...</td>\n",
              "      <td>Color legend: .mw-parser-output .legend{page-b...</td>\n",
              "      <td>Color legend: .mw-parser-output .legend{page-b...</td>\n",
              "      <td>Color legend: .mw-parser-output .legend{page-b...</td>\n",
              "      <td>Color legend: .mw-parser-output .legend{page-b...</td>\n",
              "      <td>Color legend: .mw-parser-output .legend{page-b...</td>\n",
              "      <td>Color legend: .mw-parser-output .legend{page-b...</td>\n",
              "      <td>Color legend: .mw-parser-output .legend{page-b...</td>\n",
              "      <td>Color legend: .mw-parser-output .legend{page-b...</td>\n",
              "    </tr>\n",
              "  </tbody>\n",
              "</table>\n",
              "</div>"
            ],
            "text/plain": [
              "                                          Unnamed: 0  ...                                         Atmosphere\n",
              "0                                                 1.  ...                                            minimal\n",
              "1                                                 2.  ...                                            CO2, N2\n",
              "2                                                 3.  ...                                         N2, O2, Ar\n",
              "3                                                 4.  ...                                        CO2, N2, Ar\n",
              "4                                                 5.  ...                                             H2, He\n",
              "5                                                 6.  ...                                             H2, He\n",
              "6                                                 7.  ...                                        H2, He, CH4\n",
              "7                                                 8.  ...                                        H2, He, CH4\n",
              "8  Color legend: .mw-parser-output .legend{page-b...  ...  Color legend: .mw-parser-output .legend{page-b...\n",
              "\n",
              "[9 rows x 13 columns]"
            ]
          },
          "metadata": {
            "tags": []
          },
          "execution_count": 2
        }
      ]
    },
    {
      "cell_type": "markdown",
      "metadata": {
        "id": "kwnZ532qyoni"
      },
      "source": [
        "# Quick Look at the Data"
      ]
    },
    {
      "cell_type": "markdown",
      "metadata": {
        "id": "nATaBmVI1nGz"
      },
      "source": [
        "Common techniques are to look at the first few rows (head), the columns, and the data types (dtypes)."
      ]
    },
    {
      "cell_type": "code",
      "metadata": {
        "id": "vTCcAGUt1mGJ",
        "colab": {
          "base_uri": "https://localhost:8080/",
          "height": 204
        },
        "outputId": "0fbcb87e-9a06-4883-db54-08cc9200e5ad"
      },
      "source": [
        "# The first few records\n",
        "\n",
        "df.head()"
      ],
      "execution_count": 3,
      "outputs": [
        {
          "output_type": "execute_result",
          "data": {
            "text/html": [
              "<div>\n",
              "<style scoped>\n",
              "    .dataframe tbody tr th:only-of-type {\n",
              "        vertical-align: middle;\n",
              "    }\n",
              "\n",
              "    .dataframe tbody tr th {\n",
              "        vertical-align: top;\n",
              "    }\n",
              "\n",
              "    .dataframe thead th {\n",
              "        text-align: right;\n",
              "    }\n",
              "</style>\n",
              "<table border=\"1\" class=\"dataframe\">\n",
              "  <thead>\n",
              "    <tr style=\"text-align: right;\">\n",
              "      <th></th>\n",
              "      <th>Unnamed: 0</th>\n",
              "      <th>Name</th>\n",
              "      <th>Equatorialdiameter [i]</th>\n",
              "      <th>Mass [i]</th>\n",
              "      <th>Semi-major axis (AU)</th>\n",
              "      <th>Orbital period(years)</th>\n",
              "      <th>Inclinationto Sun's equator (°)</th>\n",
              "      <th>Orbitaleccentricity</th>\n",
              "      <th>Rotation period(days)</th>\n",
              "      <th>Confirmedmoons</th>\n",
              "      <th>Axial tilt (°)</th>\n",
              "      <th>Rings</th>\n",
              "      <th>Atmosphere</th>\n",
              "    </tr>\n",
              "  </thead>\n",
              "  <tbody>\n",
              "    <tr>\n",
              "      <th>0</th>\n",
              "      <td>1.</td>\n",
              "      <td>Mercury</td>\n",
              "      <td>0.383</td>\n",
              "      <td>0.06</td>\n",
              "      <td>0.39</td>\n",
              "      <td>0.24</td>\n",
              "      <td>3.38</td>\n",
              "      <td>0.206</td>\n",
              "      <td>58.65</td>\n",
              "      <td>0</td>\n",
              "      <td>0.10</td>\n",
              "      <td>no</td>\n",
              "      <td>minimal</td>\n",
              "    </tr>\n",
              "    <tr>\n",
              "      <th>1</th>\n",
              "      <td>2.</td>\n",
              "      <td>Venus</td>\n",
              "      <td>0.949</td>\n",
              "      <td>0.81</td>\n",
              "      <td>0.72</td>\n",
              "      <td>0.62</td>\n",
              "      <td>3.86</td>\n",
              "      <td>0.007</td>\n",
              "      <td>−243.02</td>\n",
              "      <td>0</td>\n",
              "      <td>177.30</td>\n",
              "      <td>no</td>\n",
              "      <td>CO2, N2</td>\n",
              "    </tr>\n",
              "    <tr>\n",
              "      <th>2</th>\n",
              "      <td>3.</td>\n",
              "      <td>Earth (a)</td>\n",
              "      <td>1.000</td>\n",
              "      <td>1.00</td>\n",
              "      <td>1.00</td>\n",
              "      <td>1.00</td>\n",
              "      <td>7.25</td>\n",
              "      <td>0.017</td>\n",
              "      <td>1.00</td>\n",
              "      <td>1</td>\n",
              "      <td>23.44</td>\n",
              "      <td>no</td>\n",
              "      <td>N2, O2, Ar</td>\n",
              "    </tr>\n",
              "    <tr>\n",
              "      <th>3</th>\n",
              "      <td>4.</td>\n",
              "      <td>Mars</td>\n",
              "      <td>0.532</td>\n",
              "      <td>0.11</td>\n",
              "      <td>1.52</td>\n",
              "      <td>1.88</td>\n",
              "      <td>5.65</td>\n",
              "      <td>0.093</td>\n",
              "      <td>1.03</td>\n",
              "      <td>2</td>\n",
              "      <td>25.19</td>\n",
              "      <td>no</td>\n",
              "      <td>CO2, N2, Ar</td>\n",
              "    </tr>\n",
              "    <tr>\n",
              "      <th>4</th>\n",
              "      <td>5.</td>\n",
              "      <td>Jupiter</td>\n",
              "      <td>11.209</td>\n",
              "      <td>317.83</td>\n",
              "      <td>5.20</td>\n",
              "      <td>11.86</td>\n",
              "      <td>6.09</td>\n",
              "      <td>0.048</td>\n",
              "      <td>0.41</td>\n",
              "      <td>79</td>\n",
              "      <td>3.12</td>\n",
              "      <td>yes</td>\n",
              "      <td>H2, He</td>\n",
              "    </tr>\n",
              "  </tbody>\n",
              "</table>\n",
              "</div>"
            ],
            "text/plain": [
              "  Unnamed: 0       Name  ... Rings   Atmosphere\n",
              "0         1.    Mercury  ...    no      minimal\n",
              "1         2.      Venus  ...    no      CO2, N2\n",
              "2         3.  Earth (a)  ...    no   N2, O2, Ar\n",
              "3         4.       Mars  ...    no  CO2, N2, Ar\n",
              "4         5.    Jupiter  ...   yes       H2, He\n",
              "\n",
              "[5 rows x 13 columns]"
            ]
          },
          "metadata": {
            "tags": []
          },
          "execution_count": 3
        }
      ]
    },
    {
      "cell_type": "code",
      "metadata": {
        "id": "5kg19gjAy4Iz",
        "colab": {
          "base_uri": "https://localhost:8080/"
        },
        "outputId": "84817be1-48a5-4ee8-81f8-7ce92307e5ca"
      },
      "source": [
        "# The names of the columns\n",
        "\n",
        "df.columns"
      ],
      "execution_count": 4,
      "outputs": [
        {
          "output_type": "execute_result",
          "data": {
            "text/plain": [
              "Index(['Unnamed: 0', 'Name', 'Equatorialdiameter [i]', 'Mass [i]',\n",
              "       'Semi-major axis (AU)', 'Orbital period(years)',\n",
              "       'Inclinationto Sun's equator (°)', 'Orbitaleccentricity',\n",
              "       'Rotation period(days)', 'Confirmedmoons', 'Axial tilt (°)', 'Rings',\n",
              "       'Atmosphere'],\n",
              "      dtype='object')"
            ]
          },
          "metadata": {
            "tags": []
          },
          "execution_count": 4
        }
      ]
    },
    {
      "cell_type": "code",
      "metadata": {
        "id": "CCA9Zp1o1y5w",
        "colab": {
          "base_uri": "https://localhost:8080/"
        },
        "outputId": "6a0a091c-bcae-482a-c425-5d5b826c29c2"
      },
      "source": [
        "# The datatypes\n",
        "\n",
        "df.dtypes"
      ],
      "execution_count": 5,
      "outputs": [
        {
          "output_type": "execute_result",
          "data": {
            "text/plain": [
              "Unnamed: 0                         object\n",
              "Name                               object\n",
              "Equatorialdiameter [i]             object\n",
              "Mass [i]                           object\n",
              "Semi-major axis (AU)               object\n",
              "Orbital period(years)              object\n",
              "Inclinationto Sun's equator (°)    object\n",
              "Orbitaleccentricity                object\n",
              "Rotation period(days)              object\n",
              "Confirmedmoons                     object\n",
              "Axial tilt (°)                     object\n",
              "Rings                              object\n",
              "Atmosphere                         object\n",
              "dtype: object"
            ]
          },
          "metadata": {
            "tags": []
          },
          "execution_count": 5
        }
      ]
    },
    {
      "cell_type": "code",
      "metadata": {
        "id": "Z3ykknRwpyM-",
        "colab": {
          "base_uri": "https://localhost:8080/",
          "height": 173
        },
        "outputId": "03888aaa-403f-4f49-dbd0-951eab56670c"
      },
      "source": [
        "# A statistical summary\n",
        "\n",
        "df.describe()"
      ],
      "execution_count": 6,
      "outputs": [
        {
          "output_type": "execute_result",
          "data": {
            "text/html": [
              "<div>\n",
              "<style scoped>\n",
              "    .dataframe tbody tr th:only-of-type {\n",
              "        vertical-align: middle;\n",
              "    }\n",
              "\n",
              "    .dataframe tbody tr th {\n",
              "        vertical-align: top;\n",
              "    }\n",
              "\n",
              "    .dataframe thead th {\n",
              "        text-align: right;\n",
              "    }\n",
              "</style>\n",
              "<table border=\"1\" class=\"dataframe\">\n",
              "  <thead>\n",
              "    <tr style=\"text-align: right;\">\n",
              "      <th></th>\n",
              "      <th>Unnamed: 0</th>\n",
              "      <th>Name</th>\n",
              "      <th>Equatorialdiameter [i]</th>\n",
              "      <th>Mass [i]</th>\n",
              "      <th>Semi-major axis (AU)</th>\n",
              "      <th>Orbital period(years)</th>\n",
              "      <th>Inclinationto Sun's equator (°)</th>\n",
              "      <th>Orbitaleccentricity</th>\n",
              "      <th>Rotation period(days)</th>\n",
              "      <th>Confirmedmoons</th>\n",
              "      <th>Axial tilt (°)</th>\n",
              "      <th>Rings</th>\n",
              "      <th>Atmosphere</th>\n",
              "    </tr>\n",
              "  </thead>\n",
              "  <tbody>\n",
              "    <tr>\n",
              "      <th>count</th>\n",
              "      <td>9</td>\n",
              "      <td>9</td>\n",
              "      <td>9</td>\n",
              "      <td>9</td>\n",
              "      <td>9</td>\n",
              "      <td>9</td>\n",
              "      <td>9</td>\n",
              "      <td>9</td>\n",
              "      <td>9</td>\n",
              "      <td>9</td>\n",
              "      <td>9</td>\n",
              "      <td>9</td>\n",
              "      <td>9</td>\n",
              "    </tr>\n",
              "    <tr>\n",
              "      <th>unique</th>\n",
              "      <td>9</td>\n",
              "      <td>9</td>\n",
              "      <td>9</td>\n",
              "      <td>9</td>\n",
              "      <td>9</td>\n",
              "      <td>9</td>\n",
              "      <td>9</td>\n",
              "      <td>9</td>\n",
              "      <td>9</td>\n",
              "      <td>8</td>\n",
              "      <td>9</td>\n",
              "      <td>3</td>\n",
              "      <td>7</td>\n",
              "    </tr>\n",
              "    <tr>\n",
              "      <th>top</th>\n",
              "      <td>1.</td>\n",
              "      <td>Neptune</td>\n",
              "      <td>0.383</td>\n",
              "      <td>95.16</td>\n",
              "      <td>5.20</td>\n",
              "      <td>0.62</td>\n",
              "      <td>7.25</td>\n",
              "      <td>0.047</td>\n",
              "      <td>Color legend: .mw-parser-output .legend{page-b...</td>\n",
              "      <td>0</td>\n",
              "      <td>29.60</td>\n",
              "      <td>no</td>\n",
              "      <td>H2, He</td>\n",
              "    </tr>\n",
              "    <tr>\n",
              "      <th>freq</th>\n",
              "      <td>1</td>\n",
              "      <td>1</td>\n",
              "      <td>1</td>\n",
              "      <td>1</td>\n",
              "      <td>1</td>\n",
              "      <td>1</td>\n",
              "      <td>1</td>\n",
              "      <td>1</td>\n",
              "      <td>1</td>\n",
              "      <td>2</td>\n",
              "      <td>1</td>\n",
              "      <td>4</td>\n",
              "      <td>2</td>\n",
              "    </tr>\n",
              "  </tbody>\n",
              "</table>\n",
              "</div>"
            ],
            "text/plain": [
              "       Unnamed: 0     Name  ... Rings Atmosphere\n",
              "count           9        9  ...     9          9\n",
              "unique          9        9  ...     3          7\n",
              "top            1.  Neptune  ...    no     H2, He\n",
              "freq            1        1  ...     4          2\n",
              "\n",
              "[4 rows x 13 columns]"
            ]
          },
          "metadata": {
            "tags": []
          },
          "execution_count": 6
        }
      ]
    },
    {
      "cell_type": "code",
      "metadata": {
        "id": "8r3Pfb2-L6FE",
        "colab": {
          "base_uri": "https://localhost:8080/"
        },
        "outputId": "e537e760-e970-4ed8-9b67-b095663067df"
      },
      "source": [
        "# Looking at one column only\n",
        "\n",
        "df['Mass [i]'] "
      ],
      "execution_count": 7,
      "outputs": [
        {
          "output_type": "execute_result",
          "data": {
            "text/plain": [
              "0                                                 0.06\n",
              "1                                                 0.81\n",
              "2                                                 1.00\n",
              "3                                                 0.11\n",
              "4                                               317.83\n",
              "5                                                95.16\n",
              "6                                                14.54\n",
              "7                                                17.15\n",
              "8    Color legend: .mw-parser-output .legend{page-b...\n",
              "Name: Mass [i], dtype: object"
            ]
          },
          "metadata": {
            "tags": []
          },
          "execution_count": 7
        }
      ]
    },
    {
      "cell_type": "code",
      "metadata": {
        "colab": {
          "base_uri": "https://localhost:8080/",
          "height": 328
        },
        "id": "vten5elLP96o",
        "outputId": "f679e260-4ec9-4aa3-b8a2-114152afdb79"
      },
      "source": [
        "# Looking at multiple columns\n",
        "\n",
        "df[['Name', 'Mass [i]']]"
      ],
      "execution_count": 8,
      "outputs": [
        {
          "output_type": "execute_result",
          "data": {
            "text/html": [
              "<div>\n",
              "<style scoped>\n",
              "    .dataframe tbody tr th:only-of-type {\n",
              "        vertical-align: middle;\n",
              "    }\n",
              "\n",
              "    .dataframe tbody tr th {\n",
              "        vertical-align: top;\n",
              "    }\n",
              "\n",
              "    .dataframe thead th {\n",
              "        text-align: right;\n",
              "    }\n",
              "</style>\n",
              "<table border=\"1\" class=\"dataframe\">\n",
              "  <thead>\n",
              "    <tr style=\"text-align: right;\">\n",
              "      <th></th>\n",
              "      <th>Name</th>\n",
              "      <th>Mass [i]</th>\n",
              "    </tr>\n",
              "  </thead>\n",
              "  <tbody>\n",
              "    <tr>\n",
              "      <th>0</th>\n",
              "      <td>Mercury</td>\n",
              "      <td>0.06</td>\n",
              "    </tr>\n",
              "    <tr>\n",
              "      <th>1</th>\n",
              "      <td>Venus</td>\n",
              "      <td>0.81</td>\n",
              "    </tr>\n",
              "    <tr>\n",
              "      <th>2</th>\n",
              "      <td>Earth (a)</td>\n",
              "      <td>1.00</td>\n",
              "    </tr>\n",
              "    <tr>\n",
              "      <th>3</th>\n",
              "      <td>Mars</td>\n",
              "      <td>0.11</td>\n",
              "    </tr>\n",
              "    <tr>\n",
              "      <th>4</th>\n",
              "      <td>Jupiter</td>\n",
              "      <td>317.83</td>\n",
              "    </tr>\n",
              "    <tr>\n",
              "      <th>5</th>\n",
              "      <td>Saturn</td>\n",
              "      <td>95.16</td>\n",
              "    </tr>\n",
              "    <tr>\n",
              "      <th>6</th>\n",
              "      <td>Uranus</td>\n",
              "      <td>14.54</td>\n",
              "    </tr>\n",
              "    <tr>\n",
              "      <th>7</th>\n",
              "      <td>Neptune</td>\n",
              "      <td>17.15</td>\n",
              "    </tr>\n",
              "    <tr>\n",
              "      <th>8</th>\n",
              "      <td>Color legend: .mw-parser-output .legend{page-b...</td>\n",
              "      <td>Color legend: .mw-parser-output .legend{page-b...</td>\n",
              "    </tr>\n",
              "  </tbody>\n",
              "</table>\n",
              "</div>"
            ],
            "text/plain": [
              "                                                Name                                           Mass [i]\n",
              "0                                            Mercury                                               0.06\n",
              "1                                              Venus                                               0.81\n",
              "2                                          Earth (a)                                               1.00\n",
              "3                                               Mars                                               0.11\n",
              "4                                            Jupiter                                             317.83\n",
              "5                                             Saturn                                              95.16\n",
              "6                                             Uranus                                              14.54\n",
              "7                                            Neptune                                              17.15\n",
              "8  Color legend: .mw-parser-output .legend{page-b...  Color legend: .mw-parser-output .legend{page-b..."
            ]
          },
          "metadata": {
            "tags": []
          },
          "execution_count": 8
        }
      ]
    },
    {
      "cell_type": "code",
      "metadata": {
        "id": "3H6PpQpQy4_A",
        "colab": {
          "base_uri": "https://localhost:8080/"
        },
        "outputId": "5a7c0acf-ef84-44df-cc6e-c9c2dde9f4ee"
      },
      "source": [
        "# Want to look at unique values?\n",
        "\n",
        "df['Rings'].unique() # insert the name of the column! "
      ],
      "execution_count": 9,
      "outputs": [
        {
          "output_type": "execute_result",
          "data": {
            "text/plain": [
              "array(['no', 'yes',\n",
              "       'Color legend: .mw-parser-output .legend{page-break-inside:avoid;break-inside:avoid-column}.mw-parser-output .legend-color{display:inline-block;min-width:1.25em;height:1.25em;line-height:1.25;margin:1px 0;text-align:center;border:1px solid black;background-color:transparent;color:black}.mw-parser-output .legend-text{} terrestrial planets gas giants ice giants (both are giant planets). (a)\\u2009Find absolute values in article Earth'],\n",
              "      dtype=object)"
            ]
          },
          "metadata": {
            "tags": []
          },
          "execution_count": 9
        }
      ]
    },
    {
      "cell_type": "markdown",
      "metadata": {
        "id": "jUHJ26tZyorH"
      },
      "source": [
        "# Clean/Fix/Filter the Data"
      ]
    },
    {
      "cell_type": "markdown",
      "metadata": {
        "id": "8KUkxE6m185n"
      },
      "source": [
        "This will depend on the data we're looking at. Some issues may be:\n",
        "\n",
        "- extraneous text in the data\n",
        "- incorrect data type\n",
        "- invalid (or no) data"
      ]
    },
    {
      "cell_type": "code",
      "metadata": {
        "colab": {
          "base_uri": "https://localhost:8080/",
          "height": 297
        },
        "id": "XUybRYoss_u6",
        "outputId": "3f784446-762c-4b48-c322-8cc5a6a032a4"
      },
      "source": [
        "# We need to get rid of the last row\n",
        "\n",
        "df = df.loc[0:7] # note: loc[] is end-inclusive! (vs Python which is end-exclusive)\n",
        "df"
      ],
      "execution_count": 10,
      "outputs": [
        {
          "output_type": "execute_result",
          "data": {
            "text/html": [
              "<div>\n",
              "<style scoped>\n",
              "    .dataframe tbody tr th:only-of-type {\n",
              "        vertical-align: middle;\n",
              "    }\n",
              "\n",
              "    .dataframe tbody tr th {\n",
              "        vertical-align: top;\n",
              "    }\n",
              "\n",
              "    .dataframe thead th {\n",
              "        text-align: right;\n",
              "    }\n",
              "</style>\n",
              "<table border=\"1\" class=\"dataframe\">\n",
              "  <thead>\n",
              "    <tr style=\"text-align: right;\">\n",
              "      <th></th>\n",
              "      <th>Unnamed: 0</th>\n",
              "      <th>Name</th>\n",
              "      <th>Equatorialdiameter [i]</th>\n",
              "      <th>Mass [i]</th>\n",
              "      <th>Semi-major axis (AU)</th>\n",
              "      <th>Orbital period(years)</th>\n",
              "      <th>Inclinationto Sun's equator (°)</th>\n",
              "      <th>Orbitaleccentricity</th>\n",
              "      <th>Rotation period(days)</th>\n",
              "      <th>Confirmedmoons</th>\n",
              "      <th>Axial tilt (°)</th>\n",
              "      <th>Rings</th>\n",
              "      <th>Atmosphere</th>\n",
              "    </tr>\n",
              "  </thead>\n",
              "  <tbody>\n",
              "    <tr>\n",
              "      <th>0</th>\n",
              "      <td>1.</td>\n",
              "      <td>Mercury</td>\n",
              "      <td>0.383</td>\n",
              "      <td>0.06</td>\n",
              "      <td>0.39</td>\n",
              "      <td>0.24</td>\n",
              "      <td>3.38</td>\n",
              "      <td>0.206</td>\n",
              "      <td>58.65</td>\n",
              "      <td>0</td>\n",
              "      <td>0.10</td>\n",
              "      <td>no</td>\n",
              "      <td>minimal</td>\n",
              "    </tr>\n",
              "    <tr>\n",
              "      <th>1</th>\n",
              "      <td>2.</td>\n",
              "      <td>Venus</td>\n",
              "      <td>0.949</td>\n",
              "      <td>0.81</td>\n",
              "      <td>0.72</td>\n",
              "      <td>0.62</td>\n",
              "      <td>3.86</td>\n",
              "      <td>0.007</td>\n",
              "      <td>−243.02</td>\n",
              "      <td>0</td>\n",
              "      <td>177.30</td>\n",
              "      <td>no</td>\n",
              "      <td>CO2, N2</td>\n",
              "    </tr>\n",
              "    <tr>\n",
              "      <th>2</th>\n",
              "      <td>3.</td>\n",
              "      <td>Earth (a)</td>\n",
              "      <td>1.000</td>\n",
              "      <td>1.00</td>\n",
              "      <td>1.00</td>\n",
              "      <td>1.00</td>\n",
              "      <td>7.25</td>\n",
              "      <td>0.017</td>\n",
              "      <td>1.00</td>\n",
              "      <td>1</td>\n",
              "      <td>23.44</td>\n",
              "      <td>no</td>\n",
              "      <td>N2, O2, Ar</td>\n",
              "    </tr>\n",
              "    <tr>\n",
              "      <th>3</th>\n",
              "      <td>4.</td>\n",
              "      <td>Mars</td>\n",
              "      <td>0.532</td>\n",
              "      <td>0.11</td>\n",
              "      <td>1.52</td>\n",
              "      <td>1.88</td>\n",
              "      <td>5.65</td>\n",
              "      <td>0.093</td>\n",
              "      <td>1.03</td>\n",
              "      <td>2</td>\n",
              "      <td>25.19</td>\n",
              "      <td>no</td>\n",
              "      <td>CO2, N2, Ar</td>\n",
              "    </tr>\n",
              "    <tr>\n",
              "      <th>4</th>\n",
              "      <td>5.</td>\n",
              "      <td>Jupiter</td>\n",
              "      <td>11.209</td>\n",
              "      <td>317.83</td>\n",
              "      <td>5.20</td>\n",
              "      <td>11.86</td>\n",
              "      <td>6.09</td>\n",
              "      <td>0.048</td>\n",
              "      <td>0.41</td>\n",
              "      <td>79</td>\n",
              "      <td>3.12</td>\n",
              "      <td>yes</td>\n",
              "      <td>H2, He</td>\n",
              "    </tr>\n",
              "    <tr>\n",
              "      <th>5</th>\n",
              "      <td>6.</td>\n",
              "      <td>Saturn</td>\n",
              "      <td>9.449</td>\n",
              "      <td>95.16</td>\n",
              "      <td>9.54</td>\n",
              "      <td>29.45</td>\n",
              "      <td>5.51</td>\n",
              "      <td>0.054</td>\n",
              "      <td>0.44</td>\n",
              "      <td>82</td>\n",
              "      <td>26.73</td>\n",
              "      <td>yes</td>\n",
              "      <td>H2, He</td>\n",
              "    </tr>\n",
              "    <tr>\n",
              "      <th>6</th>\n",
              "      <td>7.</td>\n",
              "      <td>Uranus</td>\n",
              "      <td>4.007</td>\n",
              "      <td>14.54</td>\n",
              "      <td>19.19</td>\n",
              "      <td>84.02</td>\n",
              "      <td>6.48</td>\n",
              "      <td>0.047</td>\n",
              "      <td>−0.72</td>\n",
              "      <td>27</td>\n",
              "      <td>97.86</td>\n",
              "      <td>yes</td>\n",
              "      <td>H2, He, CH4</td>\n",
              "    </tr>\n",
              "    <tr>\n",
              "      <th>7</th>\n",
              "      <td>8.</td>\n",
              "      <td>Neptune</td>\n",
              "      <td>3.883</td>\n",
              "      <td>17.15</td>\n",
              "      <td>30.07</td>\n",
              "      <td>164.79</td>\n",
              "      <td>6.43</td>\n",
              "      <td>0.009</td>\n",
              "      <td>0.67</td>\n",
              "      <td>14</td>\n",
              "      <td>29.60</td>\n",
              "      <td>yes</td>\n",
              "      <td>H2, He, CH4</td>\n",
              "    </tr>\n",
              "  </tbody>\n",
              "</table>\n",
              "</div>"
            ],
            "text/plain": [
              "  Unnamed: 0       Name  ... Rings   Atmosphere\n",
              "0         1.    Mercury  ...    no      minimal\n",
              "1         2.      Venus  ...    no      CO2, N2\n",
              "2         3.  Earth (a)  ...    no   N2, O2, Ar\n",
              "3         4.       Mars  ...    no  CO2, N2, Ar\n",
              "4         5.    Jupiter  ...   yes       H2, He\n",
              "5         6.     Saturn  ...   yes       H2, He\n",
              "6         7.     Uranus  ...   yes  H2, He, CH4\n",
              "7         8.    Neptune  ...   yes  H2, He, CH4\n",
              "\n",
              "[8 rows x 13 columns]"
            ]
          },
          "metadata": {
            "tags": []
          },
          "execution_count": 10
        }
      ]
    },
    {
      "cell_type": "code",
      "metadata": {
        "colab": {
          "base_uri": "https://localhost:8080/"
        },
        "id": "_xR5HLMlsL0S",
        "outputId": "061ea28a-4116-431e-e361-2ad58676e14f"
      },
      "source": [
        "# Let's rename Earth(a) to Earth\n",
        "\n",
        "df.loc[2,'Name'] = 'Earth'\n",
        "df.loc[2]"
      ],
      "execution_count": 11,
      "outputs": [
        {
          "output_type": "stream",
          "text": [
            "/usr/local/lib/python3.7/dist-packages/pandas/core/indexing.py:670: SettingWithCopyWarning: \n",
            "A value is trying to be set on a copy of a slice from a DataFrame\n",
            "\n",
            "See the caveats in the documentation: https://pandas.pydata.org/pandas-docs/stable/user_guide/indexing.html#returning-a-view-versus-a-copy\n",
            "  iloc._setitem_with_indexer(indexer, value)\n",
            "/usr/local/lib/python3.7/dist-packages/ipykernel_launcher.py:3: SettingWithCopyWarning: \n",
            "A value is trying to be set on a copy of a slice from a DataFrame\n",
            "\n",
            "See the caveats in the documentation: https://pandas.pydata.org/pandas-docs/stable/user_guide/indexing.html#returning-a-view-versus-a-copy\n",
            "  This is separate from the ipykernel package so we can avoid doing imports until\n"
          ],
          "name": "stderr"
        },
        {
          "output_type": "execute_result",
          "data": {
            "text/plain": [
              "Unnamed: 0                                 3.\n",
              "Name                                    Earth\n",
              "Equatorialdiameter [i]                  1.000\n",
              "Mass [i]                                 1.00\n",
              "Semi-major axis (AU)                     1.00\n",
              "Orbital period(years)                    1.00\n",
              "Inclinationto Sun's equator (°)          7.25\n",
              "Orbitaleccentricity                     0.017\n",
              "Rotation period(days)                    1.00\n",
              "Confirmedmoons                              1\n",
              "Axial tilt (°)                          23.44\n",
              "Rings                                      no\n",
              "Atmosphere                         N2, O2, Ar\n",
              "Name: 2, dtype: object"
            ]
          },
          "metadata": {
            "tags": []
          },
          "execution_count": 11
        }
      ]
    },
    {
      "cell_type": "code",
      "metadata": {
        "colab": {
          "base_uri": "https://localhost:8080/",
          "height": 204
        },
        "id": "qDx-QX8UQbKT",
        "outputId": "7333fbdd-2201-42a7-b4ab-668c66d400c4"
      },
      "source": [
        "df.head()"
      ],
      "execution_count": 12,
      "outputs": [
        {
          "output_type": "execute_result",
          "data": {
            "text/html": [
              "<div>\n",
              "<style scoped>\n",
              "    .dataframe tbody tr th:only-of-type {\n",
              "        vertical-align: middle;\n",
              "    }\n",
              "\n",
              "    .dataframe tbody tr th {\n",
              "        vertical-align: top;\n",
              "    }\n",
              "\n",
              "    .dataframe thead th {\n",
              "        text-align: right;\n",
              "    }\n",
              "</style>\n",
              "<table border=\"1\" class=\"dataframe\">\n",
              "  <thead>\n",
              "    <tr style=\"text-align: right;\">\n",
              "      <th></th>\n",
              "      <th>Unnamed: 0</th>\n",
              "      <th>Name</th>\n",
              "      <th>Equatorialdiameter [i]</th>\n",
              "      <th>Mass [i]</th>\n",
              "      <th>Semi-major axis (AU)</th>\n",
              "      <th>Orbital period(years)</th>\n",
              "      <th>Inclinationto Sun's equator (°)</th>\n",
              "      <th>Orbitaleccentricity</th>\n",
              "      <th>Rotation period(days)</th>\n",
              "      <th>Confirmedmoons</th>\n",
              "      <th>Axial tilt (°)</th>\n",
              "      <th>Rings</th>\n",
              "      <th>Atmosphere</th>\n",
              "    </tr>\n",
              "  </thead>\n",
              "  <tbody>\n",
              "    <tr>\n",
              "      <th>0</th>\n",
              "      <td>1.</td>\n",
              "      <td>Mercury</td>\n",
              "      <td>0.383</td>\n",
              "      <td>0.06</td>\n",
              "      <td>0.39</td>\n",
              "      <td>0.24</td>\n",
              "      <td>3.38</td>\n",
              "      <td>0.206</td>\n",
              "      <td>58.65</td>\n",
              "      <td>0</td>\n",
              "      <td>0.10</td>\n",
              "      <td>no</td>\n",
              "      <td>minimal</td>\n",
              "    </tr>\n",
              "    <tr>\n",
              "      <th>1</th>\n",
              "      <td>2.</td>\n",
              "      <td>Venus</td>\n",
              "      <td>0.949</td>\n",
              "      <td>0.81</td>\n",
              "      <td>0.72</td>\n",
              "      <td>0.62</td>\n",
              "      <td>3.86</td>\n",
              "      <td>0.007</td>\n",
              "      <td>−243.02</td>\n",
              "      <td>0</td>\n",
              "      <td>177.30</td>\n",
              "      <td>no</td>\n",
              "      <td>CO2, N2</td>\n",
              "    </tr>\n",
              "    <tr>\n",
              "      <th>2</th>\n",
              "      <td>3.</td>\n",
              "      <td>Earth</td>\n",
              "      <td>1.000</td>\n",
              "      <td>1.00</td>\n",
              "      <td>1.00</td>\n",
              "      <td>1.00</td>\n",
              "      <td>7.25</td>\n",
              "      <td>0.017</td>\n",
              "      <td>1.00</td>\n",
              "      <td>1</td>\n",
              "      <td>23.44</td>\n",
              "      <td>no</td>\n",
              "      <td>N2, O2, Ar</td>\n",
              "    </tr>\n",
              "    <tr>\n",
              "      <th>3</th>\n",
              "      <td>4.</td>\n",
              "      <td>Mars</td>\n",
              "      <td>0.532</td>\n",
              "      <td>0.11</td>\n",
              "      <td>1.52</td>\n",
              "      <td>1.88</td>\n",
              "      <td>5.65</td>\n",
              "      <td>0.093</td>\n",
              "      <td>1.03</td>\n",
              "      <td>2</td>\n",
              "      <td>25.19</td>\n",
              "      <td>no</td>\n",
              "      <td>CO2, N2, Ar</td>\n",
              "    </tr>\n",
              "    <tr>\n",
              "      <th>4</th>\n",
              "      <td>5.</td>\n",
              "      <td>Jupiter</td>\n",
              "      <td>11.209</td>\n",
              "      <td>317.83</td>\n",
              "      <td>5.20</td>\n",
              "      <td>11.86</td>\n",
              "      <td>6.09</td>\n",
              "      <td>0.048</td>\n",
              "      <td>0.41</td>\n",
              "      <td>79</td>\n",
              "      <td>3.12</td>\n",
              "      <td>yes</td>\n",
              "      <td>H2, He</td>\n",
              "    </tr>\n",
              "  </tbody>\n",
              "</table>\n",
              "</div>"
            ],
            "text/plain": [
              "  Unnamed: 0     Name Equatorialdiameter [i]  ... Axial tilt (°) Rings   Atmosphere\n",
              "0         1.  Mercury                  0.383  ...           0.10    no      minimal\n",
              "1         2.    Venus                  0.949  ...         177.30    no      CO2, N2\n",
              "2         3.    Earth                  1.000  ...          23.44    no   N2, O2, Ar\n",
              "3         4.     Mars                  0.532  ...          25.19    no  CO2, N2, Ar\n",
              "4         5.  Jupiter                 11.209  ...           3.12   yes       H2, He\n",
              "\n",
              "[5 rows x 13 columns]"
            ]
          },
          "metadata": {
            "tags": []
          },
          "execution_count": 12
        }
      ]
    },
    {
      "cell_type": "code",
      "metadata": {
        "id": "UdLz4ekmzWPp",
        "colab": {
          "base_uri": "https://localhost:8080/"
        },
        "outputId": "c42cd010-09be-4fb0-e559-e5db652f17c1"
      },
      "source": [
        "# Convert Mass column to numbers so they can be graphed\n",
        "\n",
        "df['Mass [i]'] = pd.to_numeric(df['Mass [i]'])\n"
      ],
      "execution_count": 13,
      "outputs": [
        {
          "output_type": "stream",
          "text": [
            "/usr/local/lib/python3.7/dist-packages/ipykernel_launcher.py:3: SettingWithCopyWarning: \n",
            "A value is trying to be set on a copy of a slice from a DataFrame.\n",
            "Try using .loc[row_indexer,col_indexer] = value instead\n",
            "\n",
            "See the caveats in the documentation: https://pandas.pydata.org/pandas-docs/stable/user_guide/indexing.html#returning-a-view-versus-a-copy\n",
            "  This is separate from the ipykernel package so we can avoid doing imports until\n"
          ],
          "name": "stderr"
        }
      ]
    },
    {
      "cell_type": "code",
      "metadata": {
        "colab": {
          "base_uri": "https://localhost:8080/"
        },
        "id": "63oA3YHMSGUa",
        "outputId": "b6dea655-4f33-4524-f0cc-0bd7ca55955d"
      },
      "source": [
        "df['Mass [i]']"
      ],
      "execution_count": 14,
      "outputs": [
        {
          "output_type": "execute_result",
          "data": {
            "text/plain": [
              "0      0.06\n",
              "1      0.81\n",
              "2      1.00\n",
              "3      0.11\n",
              "4    317.83\n",
              "5     95.16\n",
              "6     14.54\n",
              "7     17.15\n",
              "Name: Mass [i], dtype: float64"
            ]
          },
          "metadata": {
            "tags": []
          },
          "execution_count": 14
        }
      ]
    },
    {
      "cell_type": "markdown",
      "metadata": {
        "id": "TQ6TzpTryouO"
      },
      "source": [
        "# Plot the Data"
      ]
    },
    {
      "cell_type": "markdown",
      "metadata": {
        "id": "ACrnP6OB20A_"
      },
      "source": [
        "Types of plots:\n",
        "\n",
        "- ‘bar’ or ‘barh’ for bar plots\n",
        "- ‘hist’ for histogram\n",
        "- ‘box’ for boxplot\n",
        "- ‘kde’ or ‘density’ for density plots\n",
        "- ‘area’ for area plots\n",
        "- ‘scatter’ for scatter plots\n",
        "- ‘hexbin’ for hexagonal bin plots\n",
        "- ‘pie’ for pie plots\n",
        "\n",
        "The following code is a good starting point to modify:"
      ]
    },
    {
      "cell_type": "code",
      "metadata": {
        "id": "2ej63Xzpzatd",
        "colab": {
          "base_uri": "https://localhost:8080/",
          "height": 319
        },
        "outputId": "8ad7fdce-94e0-4454-b408-6042484d00d0"
      },
      "source": [
        "# Plot the data. Be sure to edit all the options!\n",
        "plot = df.plot(kind='pie', \n",
        "          x='Name',\n",
        "          y='Mass [i]', # if plotting more than one column, use a list\n",
        "          rot=20,  # to rotate labels\n",
        "          figsize=(10, 5),  # in inches\n",
        "          grid=True,  # grid on\n",
        "          legend=True,  # legend off \n",
        "          logy=True,\n",
        "          xlabel='Planet',\n",
        "          ylabel='Mass (Relative to Earth)',\n",
        "          title='Relative Mass of Planets')"
      ],
      "execution_count": 15,
      "outputs": [
        {
          "output_type": "display_data",
          "data": {
            "image/png": "[encoded data removed]",
            "text/plain": [
              "<Figure size 720x360 with 1 Axes>"
            ]
          },
          "metadata": {
            "tags": []
          }
        }
      ]
    },
    {
      "cell_type": "code",
      "metadata": {
        "id": "b_FMLHMRbhd3"
      },
      "source": [
        "# Want to save the plot?\n",
        "fig = plot.get_figure()\n",
        "fig.savefig(\"mass-of-plants.png\")"
      ],
      "execution_count": 16,
      "outputs": []
    }
  ]
}