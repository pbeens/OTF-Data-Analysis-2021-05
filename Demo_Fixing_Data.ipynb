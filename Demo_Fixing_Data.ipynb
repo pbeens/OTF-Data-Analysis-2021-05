{
  "nbformat": 4,
  "nbformat_minor": 0,
  "metadata": {
    "colab": {
      "name": "Demo - Fixing Data.ipynb",
      "provenance": [],
      "collapsed_sections": [],
      "toc_visible": true,
      "authorship_tag": "ABX9TyMMfeLAvIWBrTJipxY6y0R8",
      "include_colab_link": true
    },
    "kernelspec": {
      "name": "python3",
      "display_name": "Python 3"
    },
    "language_info": {
      "name": "python"
    }
  },
  "cells": [
    {
      "cell_type": "markdown",
      "metadata": {
        "id": "view-in-github",
        "colab_type": "text"
      },
      "source": [
        "<a href=\"https://colab.research.google.com/github/pbeens/OTF-Data-Analysis-2021-05/blob/main/Demo_Fixing_Data.ipynb\" target=\"_parent\"><img src=\"https://colab.research.google.com/assets/colab-badge.svg\" alt=\"Open In Colab\"/></a>"
      ]
    },
    {
      "cell_type": "markdown",
      "metadata": {
        "id": "ukh14rYvP5wL"
      },
      "source": [
        "**If you open this document in Colab, use the Table of Contents on the left to go directly to the section you are interested in.**\n",
        "\n",
        "Short URL of this document on GitHub: https://bit.ly/3nOqXY7"
      ]
    },
    {
      "cell_type": "markdown",
      "metadata": {
        "id": "lgY8DrHlMPWo"
      },
      "source": [
        "# Deleting Rows"
      ]
    },
    {
      "cell_type": "markdown",
      "metadata": {
        "id": "1CY-lRJv1fJF"
      },
      "source": [
        "## Deleting Rows at the Beginning or End"
      ]
    },
    {
      "cell_type": "code",
      "metadata": {
        "colab": {
          "base_uri": "https://localhost:8080/",
          "height": 235
        },
        "id": "bRe9tWdXMTOP",
        "outputId": "077b8f62-5836-4668-d86a-11d979c17c67"
      },
      "source": [
        "# Read in and prep the test data\n",
        "# The data is a partial extract from https://dieselnet.com/standards/us/fe.php\n",
        "# Observation: The last line is not needed and needs to be deleted\n",
        "\n",
        "import pandas as pd\n",
        "\n",
        "url = 'https://raw.githubusercontent.com/pbeens/OTF-Data-Analysis-2021-05/main/datafiles/bad_cafe_data.csv'\n",
        "\n",
        "df = pd.read_csv(url)\n",
        "df"
      ],
      "execution_count": 1,
      "outputs": [
        {
          "output_type": "execute_result",
          "data": {
            "text/html": [
              "<div>\n",
              "<style scoped>\n",
              "    .dataframe tbody tr th:only-of-type {\n",
              "        vertical-align: middle;\n",
              "    }\n",
              "\n",
              "    .dataframe tbody tr th {\n",
              "        vertical-align: top;\n",
              "    }\n",
              "\n",
              "    .dataframe thead th {\n",
              "        text-align: right;\n",
              "    }\n",
              "</style>\n",
              "<table border=\"1\" class=\"dataframe\">\n",
              "  <thead>\n",
              "    <tr style=\"text-align: right;\">\n",
              "      <th></th>\n",
              "      <th>Year</th>\n",
              "      <th>CAFE MPG</th>\n",
              "      <th>All Light Trucks CAFE MPG</th>\n",
              "    </tr>\n",
              "  </thead>\n",
              "  <tbody>\n",
              "    <tr>\n",
              "      <th>0</th>\n",
              "      <td>2007</td>\n",
              "      <td>27.5</td>\n",
              "      <td>22.2</td>\n",
              "    </tr>\n",
              "    <tr>\n",
              "      <th>1</th>\n",
              "      <td>2008</td>\n",
              "      <td>27.5</td>\n",
              "      <td>22.5</td>\n",
              "    </tr>\n",
              "    <tr>\n",
              "      <th>2</th>\n",
              "      <td>2009</td>\n",
              "      <td>27.5</td>\n",
              "      <td>23.1</td>\n",
              "    </tr>\n",
              "    <tr>\n",
              "      <th>3</th>\n",
              "      <td>2010</td>\n",
              "      <td>27.5</td>\n",
              "      <td>23.5</td>\n",
              "    </tr>\n",
              "    <tr>\n",
              "      <th>4</th>\n",
              "      <td>2011</td>\n",
              "      <td>27.5</td>\n",
              "      <td>a</td>\n",
              "    </tr>\n",
              "    <tr>\n",
              "      <th>5</th>\n",
              "      <td>a Reformed CAFE standards</td>\n",
              "      <td>a Reformed CAFE standards</td>\n",
              "      <td>a Reformed CAFE standards</td>\n",
              "    </tr>\n",
              "  </tbody>\n",
              "</table>\n",
              "</div>"
            ],
            "text/plain": [
              "                        Year  ...  All Light Trucks CAFE MPG\n",
              "0                       2007  ...                       22.2\n",
              "1                       2008  ...                       22.5\n",
              "2                       2009  ...                       23.1\n",
              "3                       2010  ...                       23.5\n",
              "4                       2011  ...                          a\n",
              "5  a Reformed CAFE standards  ...  a Reformed CAFE standards\n",
              "\n",
              "[6 rows x 3 columns]"
            ]
          },
          "metadata": {
            "tags": []
          },
          "execution_count": 1
        }
      ]
    },
    {
      "cell_type": "code",
      "metadata": {
        "colab": {
          "base_uri": "https://localhost:8080/",
          "height": 204
        },
        "id": "fRgYWkXvMysY",
        "outputId": "f06b5214-957f-4a90-b092-995b9db692ae"
      },
      "source": [
        "# Let's use slicing to only keep the lines we want (0-4).\n",
        "# For more info on slicing, see https://realpython.com/lessons/indexing-and-slicing/\n",
        "\n",
        "df = df[:-1] \n",
        "df"
      ],
      "execution_count": 2,
      "outputs": [
        {
          "output_type": "execute_result",
          "data": {
            "text/html": [
              "<div>\n",
              "<style scoped>\n",
              "    .dataframe tbody tr th:only-of-type {\n",
              "        vertical-align: middle;\n",
              "    }\n",
              "\n",
              "    .dataframe tbody tr th {\n",
              "        vertical-align: top;\n",
              "    }\n",
              "\n",
              "    .dataframe thead th {\n",
              "        text-align: right;\n",
              "    }\n",
              "</style>\n",
              "<table border=\"1\" class=\"dataframe\">\n",
              "  <thead>\n",
              "    <tr style=\"text-align: right;\">\n",
              "      <th></th>\n",
              "      <th>Year</th>\n",
              "      <th>CAFE MPG</th>\n",
              "      <th>All Light Trucks CAFE MPG</th>\n",
              "    </tr>\n",
              "  </thead>\n",
              "  <tbody>\n",
              "    <tr>\n",
              "      <th>0</th>\n",
              "      <td>2007</td>\n",
              "      <td>27.5</td>\n",
              "      <td>22.2</td>\n",
              "    </tr>\n",
              "    <tr>\n",
              "      <th>1</th>\n",
              "      <td>2008</td>\n",
              "      <td>27.5</td>\n",
              "      <td>22.5</td>\n",
              "    </tr>\n",
              "    <tr>\n",
              "      <th>2</th>\n",
              "      <td>2009</td>\n",
              "      <td>27.5</td>\n",
              "      <td>23.1</td>\n",
              "    </tr>\n",
              "    <tr>\n",
              "      <th>3</th>\n",
              "      <td>2010</td>\n",
              "      <td>27.5</td>\n",
              "      <td>23.5</td>\n",
              "    </tr>\n",
              "    <tr>\n",
              "      <th>4</th>\n",
              "      <td>2011</td>\n",
              "      <td>27.5</td>\n",
              "      <td>a</td>\n",
              "    </tr>\n",
              "  </tbody>\n",
              "</table>\n",
              "</div>"
            ],
            "text/plain": [
              "   Year CAFE MPG All Light Trucks CAFE MPG\n",
              "0  2007     27.5                      22.2\n",
              "1  2008     27.5                      22.5\n",
              "2  2009     27.5                      23.1\n",
              "3  2010     27.5                      23.5\n",
              "4  2011     27.5                         a"
            ]
          },
          "metadata": {
            "tags": []
          },
          "execution_count": 2
        }
      ]
    },
    {
      "cell_type": "markdown",
      "metadata": {
        "id": "2NtNshtB1k1o"
      },
      "source": [
        "## Deleting Rows in the Middle"
      ]
    },
    {
      "cell_type": "code",
      "metadata": {
        "colab": {
          "base_uri": "https://localhost:8080/",
          "height": 173
        },
        "id": "Szbh-O-ztHhC",
        "outputId": "633a03b0-0e70-426e-ea9c-6f842f9a482e"
      },
      "source": [
        "# What if we want to drop a row in the middle?\n",
        "# Let's delete 2009 (row 2)\n",
        "\n",
        "df = df.drop(2)\n",
        "df"
      ],
      "execution_count": 3,
      "outputs": [
        {
          "output_type": "execute_result",
          "data": {
            "text/html": [
              "<div>\n",
              "<style scoped>\n",
              "    .dataframe tbody tr th:only-of-type {\n",
              "        vertical-align: middle;\n",
              "    }\n",
              "\n",
              "    .dataframe tbody tr th {\n",
              "        vertical-align: top;\n",
              "    }\n",
              "\n",
              "    .dataframe thead th {\n",
              "        text-align: right;\n",
              "    }\n",
              "</style>\n",
              "<table border=\"1\" class=\"dataframe\">\n",
              "  <thead>\n",
              "    <tr style=\"text-align: right;\">\n",
              "      <th></th>\n",
              "      <th>Year</th>\n",
              "      <th>CAFE MPG</th>\n",
              "      <th>All Light Trucks CAFE MPG</th>\n",
              "    </tr>\n",
              "  </thead>\n",
              "  <tbody>\n",
              "    <tr>\n",
              "      <th>0</th>\n",
              "      <td>2007</td>\n",
              "      <td>27.5</td>\n",
              "      <td>22.2</td>\n",
              "    </tr>\n",
              "    <tr>\n",
              "      <th>1</th>\n",
              "      <td>2008</td>\n",
              "      <td>27.5</td>\n",
              "      <td>22.5</td>\n",
              "    </tr>\n",
              "    <tr>\n",
              "      <th>3</th>\n",
              "      <td>2010</td>\n",
              "      <td>27.5</td>\n",
              "      <td>23.5</td>\n",
              "    </tr>\n",
              "    <tr>\n",
              "      <th>4</th>\n",
              "      <td>2011</td>\n",
              "      <td>27.5</td>\n",
              "      <td>a</td>\n",
              "    </tr>\n",
              "  </tbody>\n",
              "</table>\n",
              "</div>"
            ],
            "text/plain": [
              "   Year CAFE MPG All Light Trucks CAFE MPG\n",
              "0  2007     27.5                      22.2\n",
              "1  2008     27.5                      22.5\n",
              "3  2010     27.5                      23.5\n",
              "4  2011     27.5                         a"
            ]
          },
          "metadata": {
            "tags": []
          },
          "execution_count": 3
        }
      ]
    },
    {
      "cell_type": "markdown",
      "metadata": {
        "id": "vNciNNZjR3Am"
      },
      "source": [
        "# Replacing Specific Data"
      ]
    },
    {
      "cell_type": "markdown",
      "metadata": {
        "id": "mHkGHAjnSKiN"
      },
      "source": [
        "This example shows corrupt data that needs to be manually replaced."
      ]
    },
    {
      "cell_type": "code",
      "metadata": {
        "colab": {
          "base_uri": "https://localhost:8080/",
          "height": 379
        },
        "id": "xT_HYRtCR_XS",
        "outputId": "416827e3-e23b-4851-adfe-e1db6b2423b5"
      },
      "source": [
        "# Read in and prep the test data\n",
        "# Observation: \"Earth\" in the name column is \"Earth(a)\" and has to be replaced.\n",
        "\n",
        "url = 'https://en.wikipedia.org/wiki/Planet'\n",
        "\n",
        "df_list_of_tables = pd.read_html(url) \n",
        "df = df_list_of_tables[7] # enter the index number of the table\n",
        "\n",
        "df"
      ],
      "execution_count": 4,
      "outputs": [
        {
          "output_type": "execute_result",
          "data": {
            "text/html": [
              "<div>\n",
              "<style scoped>\n",
              "    .dataframe tbody tr th:only-of-type {\n",
              "        vertical-align: middle;\n",
              "    }\n",
              "\n",
              "    .dataframe tbody tr th {\n",
              "        vertical-align: top;\n",
              "    }\n",
              "\n",
              "    .dataframe thead th {\n",
              "        text-align: right;\n",
              "    }\n",
              "</style>\n",
              "<table border=\"1\" class=\"dataframe\">\n",
              "  <thead>\n",
              "    <tr style=\"text-align: right;\">\n",
              "      <th></th>\n",
              "      <th>Unnamed: 0</th>\n",
              "      <th>Name</th>\n",
              "      <th>Equatorialdiameter [i]</th>\n",
              "      <th>Mass [i]</th>\n",
              "      <th>Semi-major axis (AU)</th>\n",
              "      <th>Orbital period(years)</th>\n",
              "      <th>Inclinationto Sun's equator (°)</th>\n",
              "      <th>Orbitaleccentricity</th>\n",
              "      <th>Rotation period(days)</th>\n",
              "      <th>Confirmedmoons</th>\n",
              "      <th>Axial tilt (°)</th>\n",
              "      <th>Rings</th>\n",
              "      <th>Atmosphere</th>\n",
              "    </tr>\n",
              "  </thead>\n",
              "  <tbody>\n",
              "    <tr>\n",
              "      <th>0</th>\n",
              "      <td>1.</td>\n",
              "      <td>Mercury</td>\n",
              "      <td>0.383</td>\n",
              "      <td>0.06</td>\n",
              "      <td>0.39</td>\n",
              "      <td>0.24</td>\n",
              "      <td>3.38</td>\n",
              "      <td>0.206</td>\n",
              "      <td>58.65</td>\n",
              "      <td>0</td>\n",
              "      <td>0.10</td>\n",
              "      <td>no</td>\n",
              "      <td>minimal</td>\n",
              "    </tr>\n",
              "    <tr>\n",
              "      <th>1</th>\n",
              "      <td>2.</td>\n",
              "      <td>Venus</td>\n",
              "      <td>0.949</td>\n",
              "      <td>0.81</td>\n",
              "      <td>0.72</td>\n",
              "      <td>0.62</td>\n",
              "      <td>3.86</td>\n",
              "      <td>0.007</td>\n",
              "      <td>−243.02</td>\n",
              "      <td>0</td>\n",
              "      <td>177.30</td>\n",
              "      <td>no</td>\n",
              "      <td>CO2, N2</td>\n",
              "    </tr>\n",
              "    <tr>\n",
              "      <th>2</th>\n",
              "      <td>3.</td>\n",
              "      <td>Earth (a)</td>\n",
              "      <td>1.000</td>\n",
              "      <td>1.00</td>\n",
              "      <td>1.00</td>\n",
              "      <td>1.00</td>\n",
              "      <td>7.25</td>\n",
              "      <td>0.017</td>\n",
              "      <td>1.00</td>\n",
              "      <td>1</td>\n",
              "      <td>23.44</td>\n",
              "      <td>no</td>\n",
              "      <td>N2, O2, Ar</td>\n",
              "    </tr>\n",
              "    <tr>\n",
              "      <th>3</th>\n",
              "      <td>4.</td>\n",
              "      <td>Mars</td>\n",
              "      <td>0.532</td>\n",
              "      <td>0.11</td>\n",
              "      <td>1.52</td>\n",
              "      <td>1.88</td>\n",
              "      <td>5.65</td>\n",
              "      <td>0.093</td>\n",
              "      <td>1.03</td>\n",
              "      <td>2</td>\n",
              "      <td>25.19</td>\n",
              "      <td>no</td>\n",
              "      <td>CO2, N2, Ar</td>\n",
              "    </tr>\n",
              "    <tr>\n",
              "      <th>4</th>\n",
              "      <td>5.</td>\n",
              "      <td>Jupiter</td>\n",
              "      <td>11.209</td>\n",
              "      <td>317.83</td>\n",
              "      <td>5.20</td>\n",
              "      <td>11.86</td>\n",
              "      <td>6.09</td>\n",
              "      <td>0.048</td>\n",
              "      <td>0.41</td>\n",
              "      <td>79</td>\n",
              "      <td>3.12</td>\n",
              "      <td>yes</td>\n",
              "      <td>H2, He</td>\n",
              "    </tr>\n",
              "    <tr>\n",
              "      <th>5</th>\n",
              "      <td>6.</td>\n",
              "      <td>Saturn</td>\n",
              "      <td>9.449</td>\n",
              "      <td>95.16</td>\n",
              "      <td>9.54</td>\n",
              "      <td>29.45</td>\n",
              "      <td>5.51</td>\n",
              "      <td>0.054</td>\n",
              "      <td>0.44</td>\n",
              "      <td>82</td>\n",
              "      <td>26.73</td>\n",
              "      <td>yes</td>\n",
              "      <td>H2, He</td>\n",
              "    </tr>\n",
              "    <tr>\n",
              "      <th>6</th>\n",
              "      <td>7.</td>\n",
              "      <td>Uranus</td>\n",
              "      <td>4.007</td>\n",
              "      <td>14.54</td>\n",
              "      <td>19.19</td>\n",
              "      <td>84.02</td>\n",
              "      <td>6.48</td>\n",
              "      <td>0.047</td>\n",
              "      <td>−0.72</td>\n",
              "      <td>27</td>\n",
              "      <td>97.86</td>\n",
              "      <td>yes</td>\n",
              "      <td>H2, He, CH4</td>\n",
              "    </tr>\n",
              "    <tr>\n",
              "      <th>7</th>\n",
              "      <td>8.</td>\n",
              "      <td>Neptune</td>\n",
              "      <td>3.883</td>\n",
              "      <td>17.15</td>\n",
              "      <td>30.07</td>\n",
              "      <td>164.79</td>\n",
              "      <td>6.43</td>\n",
              "      <td>0.009</td>\n",
              "      <td>0.67</td>\n",
              "      <td>14</td>\n",
              "      <td>29.60</td>\n",
              "      <td>yes</td>\n",
              "      <td>H2, He, CH4</td>\n",
              "    </tr>\n",
              "    <tr>\n",
              "      <th>8</th>\n",
              "      <td>Color legend: .mw-parser-output .legend{page-b...</td>\n",
              "      <td>Color legend: .mw-parser-output .legend{page-b...</td>\n",
              "      <td>Color legend: .mw-parser-output .legend{page-b...</td>\n",
              "      <td>Color legend: .mw-parser-output .legend{page-b...</td>\n",
              "      <td>Color legend: .mw-parser-output .legend{page-b...</td>\n",
              "      <td>Color legend: .mw-parser-output .legend{page-b...</td>\n",
              "      <td>Color legend: .mw-parser-output .legend{page-b...</td>\n",
              "      <td>Color legend: .mw-parser-output .legend{page-b...</td>\n",
              "      <td>Color legend: .mw-parser-output .legend{page-b...</td>\n",
              "      <td>Color legend: .mw-parser-output .legend{page-b...</td>\n",
              "      <td>Color legend: .mw-parser-output .legend{page-b...</td>\n",
              "      <td>Color legend: .mw-parser-output .legend{page-b...</td>\n",
              "      <td>Color legend: .mw-parser-output .legend{page-b...</td>\n",
              "    </tr>\n",
              "  </tbody>\n",
              "</table>\n",
              "</div>"
            ],
            "text/plain": [
              "                                          Unnamed: 0  ...                                         Atmosphere\n",
              "0                                                 1.  ...                                            minimal\n",
              "1                                                 2.  ...                                            CO2, N2\n",
              "2                                                 3.  ...                                         N2, O2, Ar\n",
              "3                                                 4.  ...                                        CO2, N2, Ar\n",
              "4                                                 5.  ...                                             H2, He\n",
              "5                                                 6.  ...                                             H2, He\n",
              "6                                                 7.  ...                                        H2, He, CH4\n",
              "7                                                 8.  ...                                        H2, He, CH4\n",
              "8  Color legend: .mw-parser-output .legend{page-b...  ...  Color legend: .mw-parser-output .legend{page-b...\n",
              "\n",
              "[9 rows x 13 columns]"
            ]
          },
          "metadata": {
            "tags": []
          },
          "execution_count": 4
        }
      ]
    },
    {
      "cell_type": "markdown",
      "metadata": {
        "id": "W8jdRBbT103i"
      },
      "source": [
        "## Replace One Item"
      ]
    },
    {
      "cell_type": "code",
      "metadata": {
        "colab": {
          "base_uri": "https://localhost:8080/"
        },
        "id": "SzHbfGyTSQhc",
        "outputId": "6138a37e-247a-4e96-9307-91f1ed646b7f"
      },
      "source": [
        "# This is how we access the Earth line. It is index #2.\n",
        "\n",
        "df.loc[2]"
      ],
      "execution_count": 5,
      "outputs": [
        {
          "output_type": "execute_result",
          "data": {
            "text/plain": [
              "Unnamed: 0                                 3.\n",
              "Name                                Earth (a)\n",
              "Equatorialdiameter [i]                  1.000\n",
              "Mass [i]                                 1.00\n",
              "Semi-major axis (AU)                     1.00\n",
              "Orbital period(years)                    1.00\n",
              "Inclinationto Sun's equator (°)          7.25\n",
              "Orbitaleccentricity                     0.017\n",
              "Rotation period(days)                    1.00\n",
              "Confirmedmoons                              1\n",
              "Axial tilt (°)                          23.44\n",
              "Rings                                      no\n",
              "Atmosphere                         N2, O2, Ar\n",
              "Name: 2, dtype: object"
            ]
          },
          "metadata": {
            "tags": []
          },
          "execution_count": 5
        }
      ]
    },
    {
      "cell_type": "code",
      "metadata": {
        "colab": {
          "base_uri": "https://localhost:8080/",
          "height": 35
        },
        "id": "zUkNpTYASfyg",
        "outputId": "01c3622d-f405-4ad0-f752-601caa118029"
      },
      "source": [
        "# This is how we access the Name column in index 2.bit_length\n",
        "# Note: the \\u2009 we see in the output is unicode for \"thin space\"\n",
        "\n",
        "df.loc[2]['Name']"
      ],
      "execution_count": 6,
      "outputs": [
        {
          "output_type": "execute_result",
          "data": {
            "application/vnd.google.colaboratory.intrinsic+json": {
              "type": "string"
            },
            "text/plain": [
              "'Earth\\u2009(a)'"
            ]
          },
          "metadata": {
            "tags": []
          },
          "execution_count": 6
        }
      ]
    },
    {
      "cell_type": "code",
      "metadata": {
        "colab": {
          "base_uri": "https://localhost:8080/"
        },
        "id": "BlMcJlC8Stnq",
        "outputId": "9f31b94f-02e8-4195-f0d1-a55aed705558"
      },
      "source": [
        "# Let's replace it...\n",
        "\n",
        "df.loc[2,'Name'] = 'Earth'\n",
        "\n",
        "df.loc[2]"
      ],
      "execution_count": 7,
      "outputs": [
        {
          "output_type": "execute_result",
          "data": {
            "text/plain": [
              "Unnamed: 0                                 3.\n",
              "Name                                    Earth\n",
              "Equatorialdiameter [i]                  1.000\n",
              "Mass [i]                                 1.00\n",
              "Semi-major axis (AU)                     1.00\n",
              "Orbital period(years)                    1.00\n",
              "Inclinationto Sun's equator (°)          7.25\n",
              "Orbitaleccentricity                     0.017\n",
              "Rotation period(days)                    1.00\n",
              "Confirmedmoons                              1\n",
              "Axial tilt (°)                          23.44\n",
              "Rings                                      no\n",
              "Atmosphere                         N2, O2, Ar\n",
              "Name: 2, dtype: object"
            ]
          },
          "metadata": {
            "tags": []
          },
          "execution_count": 7
        }
      ]
    },
    {
      "cell_type": "markdown",
      "metadata": {
        "id": "tSTkGgvH19pH"
      },
      "source": [
        "## Replacing Something in Each Column Heading"
      ]
    },
    {
      "cell_type": "code",
      "metadata": {
        "colab": {
          "base_uri": "https://localhost:8080/"
        },
        "id": "xoiIGSZ0Rd1W",
        "outputId": "c8733cd7-c149-4505-9dfe-ce65b25b0678"
      },
      "source": [
        "# Replace something in all the headings\n",
        "# Let's replace (°) with (deg)\n",
        "\n",
        "df.columns = [col.replace('(°)', '(deg)') for col in df.columns] # list comprehension\n",
        "df.columns"
      ],
      "execution_count": 8,
      "outputs": [
        {
          "output_type": "execute_result",
          "data": {
            "text/plain": [
              "Index(['Unnamed: 0', 'Name', 'Equatorialdiameter [i]', 'Mass [i]',\n",
              "       'Semi-major axis (AU)', 'Orbital period(years)',\n",
              "       'Inclinationto Sun's equator (deg)', 'Orbitaleccentricity',\n",
              "       'Rotation period(days)', 'Confirmedmoons', 'Axial tilt (deg)', 'Rings',\n",
              "       'Atmosphere'],\n",
              "      dtype='object')"
            ]
          },
          "metadata": {
            "tags": []
          },
          "execution_count": 8
        }
      ]
    },
    {
      "cell_type": "markdown",
      "metadata": {
        "id": "z1me1mD81t7g"
      },
      "source": [
        "# Converting to Dates"
      ]
    },
    {
      "cell_type": "markdown",
      "metadata": {
        "id": "3XaPrZC58f_O"
      },
      "source": [
        "This examples shows a date field (FILE_DATE) that need to be converted from \"object\" to \"datetime\" so the data can be plotted correctly.\n",
        "\n",
        "The data is Ontario Covid-19, organized by health region."
      ]
    },
    {
      "cell_type": "code",
      "metadata": {
        "colab": {
          "base_uri": "https://localhost:8080/"
        },
        "id": "Y4hYPzw013iT",
        "outputId": "a7d27b59-0310-44db-e91a-9c0961c9614c"
      },
      "source": [
        "# Read in and prep the test data\n",
        "# Observation: FILE_DATE is an \"object\" not a valid date format\n",
        "\n",
        "import pandas as pd\n",
        "from datetime import date\n",
        "\n",
        "url = 'https://data.ontario.ca/dataset/1115d5fe-dd84-4c69-b5ed-05bf0c0a0ff9/resource/d1bfe1ad-6575-4352-8302-09ca81f7ddfc/download/cases_by_status_and_phu.csv'\n",
        "df = pd.read_csv(url)\n",
        "df.info()"
      ],
      "execution_count": 9,
      "outputs": [
        {
          "output_type": "stream",
          "text": [
            "<class 'pandas.core.frame.DataFrame'>\n",
            "RangeIndex: 13804 entries, 0 to 13803\n",
            "Data columns (total 6 columns):\n",
            " #   Column          Non-Null Count  Dtype  \n",
            "---  ------          --------------  -----  \n",
            " 0   FILE_DATE       13804 non-null  object \n",
            " 1   PHU_NAME        13803 non-null  object \n",
            " 2   PHU_NUM         13803 non-null  float64\n",
            " 3   ACTIVE_CASES    13804 non-null  int64  \n",
            " 4   RESOLVED_CASES  13804 non-null  int64  \n",
            " 5   DEATHS          13804 non-null  int64  \n",
            "dtypes: float64(1), int64(3), object(2)\n",
            "memory usage: 647.2+ KB\n"
          ],
          "name": "stdout"
        }
      ]
    },
    {
      "cell_type": "code",
      "metadata": {
        "colab": {
          "base_uri": "https://localhost:8080/"
        },
        "id": "7f0MNAu58c8C",
        "outputId": "533df63f-30c7-4bef-bc45-89d9c46223b2"
      },
      "source": [
        "# The method we need is to_datetime()\n",
        "# Observation: FILE_DATE has been converted to datetime64[ns]\n",
        "\n",
        "df['FILE_DATE']= pd.to_datetime(df['FILE_DATE'])\n",
        "df.info()"
      ],
      "execution_count": 10,
      "outputs": [
        {
          "output_type": "stream",
          "text": [
            "<class 'pandas.core.frame.DataFrame'>\n",
            "RangeIndex: 13804 entries, 0 to 13803\n",
            "Data columns (total 6 columns):\n",
            " #   Column          Non-Null Count  Dtype         \n",
            "---  ------          --------------  -----         \n",
            " 0   FILE_DATE       13804 non-null  datetime64[ns]\n",
            " 1   PHU_NAME        13803 non-null  object        \n",
            " 2   PHU_NUM         13803 non-null  float64       \n",
            " 3   ACTIVE_CASES    13804 non-null  int64         \n",
            " 4   RESOLVED_CASES  13804 non-null  int64         \n",
            " 5   DEATHS          13804 non-null  int64         \n",
            "dtypes: datetime64[ns](1), float64(1), int64(3), object(1)\n",
            "memory usage: 647.2+ KB\n"
          ],
          "name": "stdout"
        }
      ]
    },
    {
      "cell_type": "markdown",
      "metadata": {
        "id": "_yJeo7u9UtBA"
      },
      "source": [
        "# Deleting Columns"
      ]
    },
    {
      "cell_type": "markdown",
      "metadata": {
        "id": "LJoYcMZ-U5ML"
      },
      "source": [
        "It's generally not necessary to delete columns with the exception of wanting to export the data to a new data file. "
      ]
    },
    {
      "cell_type": "markdown",
      "metadata": {
        "id": "qzeqb_N96ZTX"
      },
      "source": [
        "## Delete a Single Column"
      ]
    },
    {
      "cell_type": "code",
      "metadata": {
        "colab": {
          "base_uri": "https://localhost:8080/",
          "height": 204
        },
        "id": "h_Vc1tF1VI0-",
        "outputId": "818669cd-48f7-4553-f9e6-fdd86262413c"
      },
      "source": [
        "# Read in and prep the test data\n",
        "# The data is a partial extract from https://dieselnet.com/standards/us/fe.php\n",
        "# Here we want delete the \"All Light Trucks CAFE MPG\" column\n",
        "\n",
        "import pandas as pd\n",
        "\n",
        "url = 'https://raw.githubusercontent.com/pbeens/OTF-Data-Analysis-2021-05/main/datafiles/bad_cafe_data.csv'\n",
        "\n",
        "df = pd.read_csv(url)\n",
        "df = df[:-1] \n",
        "df"
      ],
      "execution_count": 11,
      "outputs": [
        {
          "output_type": "execute_result",
          "data": {
            "text/html": [
              "<div>\n",
              "<style scoped>\n",
              "    .dataframe tbody tr th:only-of-type {\n",
              "        vertical-align: middle;\n",
              "    }\n",
              "\n",
              "    .dataframe tbody tr th {\n",
              "        vertical-align: top;\n",
              "    }\n",
              "\n",
              "    .dataframe thead th {\n",
              "        text-align: right;\n",
              "    }\n",
              "</style>\n",
              "<table border=\"1\" class=\"dataframe\">\n",
              "  <thead>\n",
              "    <tr style=\"text-align: right;\">\n",
              "      <th></th>\n",
              "      <th>Year</th>\n",
              "      <th>CAFE MPG</th>\n",
              "      <th>All Light Trucks CAFE MPG</th>\n",
              "    </tr>\n",
              "  </thead>\n",
              "  <tbody>\n",
              "    <tr>\n",
              "      <th>0</th>\n",
              "      <td>2007</td>\n",
              "      <td>27.5</td>\n",
              "      <td>22.2</td>\n",
              "    </tr>\n",
              "    <tr>\n",
              "      <th>1</th>\n",
              "      <td>2008</td>\n",
              "      <td>27.5</td>\n",
              "      <td>22.5</td>\n",
              "    </tr>\n",
              "    <tr>\n",
              "      <th>2</th>\n",
              "      <td>2009</td>\n",
              "      <td>27.5</td>\n",
              "      <td>23.1</td>\n",
              "    </tr>\n",
              "    <tr>\n",
              "      <th>3</th>\n",
              "      <td>2010</td>\n",
              "      <td>27.5</td>\n",
              "      <td>23.5</td>\n",
              "    </tr>\n",
              "    <tr>\n",
              "      <th>4</th>\n",
              "      <td>2011</td>\n",
              "      <td>27.5</td>\n",
              "      <td>a</td>\n",
              "    </tr>\n",
              "  </tbody>\n",
              "</table>\n",
              "</div>"
            ],
            "text/plain": [
              "   Year CAFE MPG All Light Trucks CAFE MPG\n",
              "0  2007     27.5                      22.2\n",
              "1  2008     27.5                      22.5\n",
              "2  2009     27.5                      23.1\n",
              "3  2010     27.5                      23.5\n",
              "4  2011     27.5                         a"
            ]
          },
          "metadata": {
            "tags": []
          },
          "execution_count": 11
        }
      ]
    },
    {
      "cell_type": "code",
      "metadata": {
        "colab": {
          "base_uri": "https://localhost:8080/",
          "height": 204
        },
        "id": "wEXbn123VPs6",
        "outputId": "368ce613-7540-4731-96e3-6a70898a6d4a"
      },
      "source": [
        "# The command we want for deleting a column is \"del\"\n",
        "\n",
        "del df['All Light Trucks CAFE MPG'] # insert the name of the column\n",
        "df"
      ],
      "execution_count": 12,
      "outputs": [
        {
          "output_type": "execute_result",
          "data": {
            "text/html": [
              "<div>\n",
              "<style scoped>\n",
              "    .dataframe tbody tr th:only-of-type {\n",
              "        vertical-align: middle;\n",
              "    }\n",
              "\n",
              "    .dataframe tbody tr th {\n",
              "        vertical-align: top;\n",
              "    }\n",
              "\n",
              "    .dataframe thead th {\n",
              "        text-align: right;\n",
              "    }\n",
              "</style>\n",
              "<table border=\"1\" class=\"dataframe\">\n",
              "  <thead>\n",
              "    <tr style=\"text-align: right;\">\n",
              "      <th></th>\n",
              "      <th>Year</th>\n",
              "      <th>CAFE MPG</th>\n",
              "    </tr>\n",
              "  </thead>\n",
              "  <tbody>\n",
              "    <tr>\n",
              "      <th>0</th>\n",
              "      <td>2007</td>\n",
              "      <td>27.5</td>\n",
              "    </tr>\n",
              "    <tr>\n",
              "      <th>1</th>\n",
              "      <td>2008</td>\n",
              "      <td>27.5</td>\n",
              "    </tr>\n",
              "    <tr>\n",
              "      <th>2</th>\n",
              "      <td>2009</td>\n",
              "      <td>27.5</td>\n",
              "    </tr>\n",
              "    <tr>\n",
              "      <th>3</th>\n",
              "      <td>2010</td>\n",
              "      <td>27.5</td>\n",
              "    </tr>\n",
              "    <tr>\n",
              "      <th>4</th>\n",
              "      <td>2011</td>\n",
              "      <td>27.5</td>\n",
              "    </tr>\n",
              "  </tbody>\n",
              "</table>\n",
              "</div>"
            ],
            "text/plain": [
              "   Year CAFE MPG\n",
              "0  2007     27.5\n",
              "1  2008     27.5\n",
              "2  2009     27.5\n",
              "3  2010     27.5\n",
              "4  2011     27.5"
            ]
          },
          "metadata": {
            "tags": []
          },
          "execution_count": 12
        }
      ]
    },
    {
      "cell_type": "markdown",
      "metadata": {
        "id": "8pxKUHYm24bv"
      },
      "source": [
        "## Delete All Columns Except..."
      ]
    },
    {
      "cell_type": "code",
      "metadata": {
        "colab": {
          "base_uri": "https://localhost:8080/"
        },
        "id": "vghvoWFmVsgN",
        "outputId": "a82af67c-6384-4003-98fe-c6ed75e9c936"
      },
      "source": [
        "# Read in and prep the test data\n",
        "\n",
        "import pandas as pd\n",
        "from datetime import date\n",
        "\n",
        "url = 'https://data.ontario.ca/dataset/1115d5fe-dd84-4c69-b5ed-05bf0c0a0ff9/resource/d1bfe1ad-6575-4352-8302-09ca81f7ddfc/download/cases_by_status_and_phu.csv'\n",
        "df = pd.read_csv(url)\n",
        "df.columns"
      ],
      "execution_count": 13,
      "outputs": [
        {
          "output_type": "execute_result",
          "data": {
            "text/plain": [
              "Index(['FILE_DATE', 'PHU_NAME', 'PHU_NUM', 'ACTIVE_CASES', 'RESOLVED_CASES',\n",
              "       'DEATHS'],\n",
              "      dtype='object')"
            ]
          },
          "metadata": {
            "tags": []
          },
          "execution_count": 13
        }
      ]
    },
    {
      "cell_type": "code",
      "metadata": {
        "colab": {
          "base_uri": "https://localhost:8080/",
          "height": 419
        },
        "id": "vkAEqEMb3FBY",
        "outputId": "4ae8c462-e035-46c5-d201-7c5dcada2887"
      },
      "source": [
        "# We only want to keep 'FILE_DATE' and 'PHU_NAME'\n",
        "# Put the columns you want to keep in the command\n",
        "\n",
        "df = df.drop(df.columns.difference(['FILE_DATE', 'PHU_NAME']), 1)\n",
        "df"
      ],
      "execution_count": 14,
      "outputs": [
        {
          "output_type": "execute_result",
          "data": {
            "text/html": [
              "<div>\n",
              "<style scoped>\n",
              "    .dataframe tbody tr th:only-of-type {\n",
              "        vertical-align: middle;\n",
              "    }\n",
              "\n",
              "    .dataframe tbody tr th {\n",
              "        vertical-align: top;\n",
              "    }\n",
              "\n",
              "    .dataframe thead th {\n",
              "        text-align: right;\n",
              "    }\n",
              "</style>\n",
              "<table border=\"1\" class=\"dataframe\">\n",
              "  <thead>\n",
              "    <tr style=\"text-align: right;\">\n",
              "      <th></th>\n",
              "      <th>FILE_DATE</th>\n",
              "      <th>PHU_NAME</th>\n",
              "    </tr>\n",
              "  </thead>\n",
              "  <tbody>\n",
              "    <tr>\n",
              "      <th>0</th>\n",
              "      <td>2020-04-10</td>\n",
              "      <td>HALIBURTON, KAWARTHA, PINE RIDGE</td>\n",
              "    </tr>\n",
              "    <tr>\n",
              "      <th>1</th>\n",
              "      <td>2020-04-10</td>\n",
              "      <td>HALTON REGION</td>\n",
              "    </tr>\n",
              "    <tr>\n",
              "      <th>2</th>\n",
              "      <td>2020-04-10</td>\n",
              "      <td>HASTINGS &amp; PRINCE EDWARD COUNTIES</td>\n",
              "    </tr>\n",
              "    <tr>\n",
              "      <th>3</th>\n",
              "      <td>2020-04-10</td>\n",
              "      <td>HURON PERTH</td>\n",
              "    </tr>\n",
              "    <tr>\n",
              "      <th>4</th>\n",
              "      <td>2020-04-10</td>\n",
              "      <td>KINGSTON, FRONTENAC, LENNOX &amp; ADDINGTON</td>\n",
              "    </tr>\n",
              "    <tr>\n",
              "      <th>...</th>\n",
              "      <td>...</td>\n",
              "      <td>...</td>\n",
              "    </tr>\n",
              "    <tr>\n",
              "      <th>13799</th>\n",
              "      <td>2021-05-05</td>\n",
              "      <td>TORONTO</td>\n",
              "    </tr>\n",
              "    <tr>\n",
              "      <th>13800</th>\n",
              "      <td>2021-05-05</td>\n",
              "      <td>WATERLOO REGION</td>\n",
              "    </tr>\n",
              "    <tr>\n",
              "      <th>13801</th>\n",
              "      <td>2021-05-05</td>\n",
              "      <td>WELLINGTON-DUFFERIN-GUELPH</td>\n",
              "    </tr>\n",
              "    <tr>\n",
              "      <th>13802</th>\n",
              "      <td>2021-05-05</td>\n",
              "      <td>WINDSOR-ESSEX COUNTY</td>\n",
              "    </tr>\n",
              "    <tr>\n",
              "      <th>13803</th>\n",
              "      <td>2021-05-05</td>\n",
              "      <td>YORK REGION</td>\n",
              "    </tr>\n",
              "  </tbody>\n",
              "</table>\n",
              "<p>13804 rows × 2 columns</p>\n",
              "</div>"
            ],
            "text/plain": [
              "        FILE_DATE                                 PHU_NAME\n",
              "0      2020-04-10         HALIBURTON, KAWARTHA, PINE RIDGE\n",
              "1      2020-04-10                            HALTON REGION\n",
              "2      2020-04-10        HASTINGS & PRINCE EDWARD COUNTIES\n",
              "3      2020-04-10                              HURON PERTH\n",
              "4      2020-04-10  KINGSTON, FRONTENAC, LENNOX & ADDINGTON\n",
              "...           ...                                      ...\n",
              "13799  2021-05-05                                  TORONTO\n",
              "13800  2021-05-05                          WATERLOO REGION\n",
              "13801  2021-05-05               WELLINGTON-DUFFERIN-GUELPH\n",
              "13802  2021-05-05                     WINDSOR-ESSEX COUNTY\n",
              "13803  2021-05-05                              YORK REGION\n",
              "\n",
              "[13804 rows x 2 columns]"
            ]
          },
          "metadata": {
            "tags": []
          },
          "execution_count": 14
        }
      ]
    },
    {
      "cell_type": "markdown",
      "metadata": {
        "id": "bzrkJGpC3-26"
      },
      "source": [
        "# Editing Headings"
      ]
    },
    {
      "cell_type": "markdown",
      "metadata": {
        "id": "JchszspL4K-9"
      },
      "source": [
        "Often we don't like the way the headings look when we import them. Here are some typical fixes you might want to make."
      ]
    },
    {
      "cell_type": "code",
      "metadata": {
        "colab": {
          "base_uri": "https://localhost:8080/"
        },
        "id": "LEmHgoIB4MI6",
        "outputId": "342f4691-467a-4c36-8df4-6c870d391115"
      },
      "source": [
        "# Read in and prep the test data\n",
        "\n",
        "import pandas as pd\n",
        "\n",
        "url = 'https://data.ontario.ca/dataset/1115d5fe-dd84-4c69-b5ed-05bf0c0a0ff9/resource/d1bfe1ad-6575-4352-8302-09ca81f7ddfc/download/cases_by_status_and_phu.csv'\n",
        "df = pd.read_csv(url)\n",
        "df.columns"
      ],
      "execution_count": 15,
      "outputs": [
        {
          "output_type": "execute_result",
          "data": {
            "text/plain": [
              "Index(['FILE_DATE', 'PHU_NAME', 'PHU_NUM', 'ACTIVE_CASES', 'RESOLVED_CASES',\n",
              "       'DEATHS'],\n",
              "      dtype='object')"
            ]
          },
          "metadata": {
            "tags": []
          },
          "execution_count": 15
        }
      ]
    },
    {
      "cell_type": "markdown",
      "metadata": {
        "id": "QjFooO657W6Y"
      },
      "source": [
        "## Replace Characters"
      ]
    },
    {
      "cell_type": "code",
      "metadata": {
        "colab": {
          "base_uri": "https://localhost:8080/"
        },
        "id": "o_JGdBPN4X8k",
        "outputId": "3a494f38-3997-4941-97c0-26f1ef2fc91a"
      },
      "source": [
        "# Let's replace all the underscores with spaces\n",
        "\n",
        "df.columns = df.columns.str.replace('_', ' ')\n",
        "df.columns"
      ],
      "execution_count": 16,
      "outputs": [
        {
          "output_type": "execute_result",
          "data": {
            "text/plain": [
              "Index(['FILE DATE', 'PHU NAME', 'PHU NUM', 'ACTIVE CASES', 'RESOLVED CASES',\n",
              "       'DEATHS'],\n",
              "      dtype='object')"
            ]
          },
          "metadata": {
            "tags": []
          },
          "execution_count": 16
        }
      ]
    },
    {
      "cell_type": "markdown",
      "metadata": {
        "id": "RLA8Kd8L7am0"
      },
      "source": [
        "## Change Case"
      ]
    },
    {
      "cell_type": "code",
      "metadata": {
        "colab": {
          "base_uri": "https://localhost:8080/"
        },
        "id": "UQWfykRO4oIR",
        "outputId": "578ed9eb-5bb9-4ebd-b6c6-870034815dd1"
      },
      "source": [
        "# title case\n",
        "\n",
        "df.columns = df.columns.str.title()\n",
        "df.columns"
      ],
      "execution_count": 17,
      "outputs": [
        {
          "output_type": "execute_result",
          "data": {
            "text/plain": [
              "Index(['File Date', 'Phu Name', 'Phu Num', 'Active Cases', 'Resolved Cases',\n",
              "       'Deaths'],\n",
              "      dtype='object')"
            ]
          },
          "metadata": {
            "tags": []
          },
          "execution_count": 17
        }
      ]
    },
    {
      "cell_type": "code",
      "metadata": {
        "colab": {
          "base_uri": "https://localhost:8080/"
        },
        "id": "TrCqs-Gf5KXQ",
        "outputId": "53e337cc-1fc4-4a55-94e2-42bdaf39380a"
      },
      "source": [
        "# upper case\n",
        "\n",
        "df.columns = df.columns.str.upper() # see also lower()\n",
        "df.columns"
      ],
      "execution_count": 18,
      "outputs": [
        {
          "output_type": "execute_result",
          "data": {
            "text/plain": [
              "Index(['FILE DATE', 'PHU NAME', 'PHU NUM', 'ACTIVE CASES', 'RESOLVED CASES',\n",
              "       'DEATHS'],\n",
              "      dtype='object')"
            ]
          },
          "metadata": {
            "tags": []
          },
          "execution_count": 18
        }
      ]
    },
    {
      "cell_type": "markdown",
      "metadata": {
        "id": "UPKo9UN07hb_"
      },
      "source": [
        "## Renaming One Heading"
      ]
    },
    {
      "cell_type": "code",
      "metadata": {
        "colab": {
          "base_uri": "https://localhost:8080/"
        },
        "id": "H0Zvp5TH5wjq",
        "outputId": "13fce698-d461-4587-cbb4-72435ffe7dff"
      },
      "source": [
        "# renaming one heading\n",
        "# not very friendly syntax\n",
        "# note inplace=True\n",
        "\n",
        "df.rename(columns={'FILE DATE': 'DATE'}, inplace=True)\n",
        "df.columns"
      ],
      "execution_count": 19,
      "outputs": [
        {
          "output_type": "execute_result",
          "data": {
            "text/plain": [
              "Index(['DATE', 'PHU NAME', 'PHU NUM', 'ACTIVE CASES', 'RESOLVED CASES',\n",
              "       'DEATHS'],\n",
              "      dtype='object')"
            ]
          },
          "metadata": {
            "tags": []
          },
          "execution_count": 19
        }
      ]
    },
    {
      "cell_type": "markdown",
      "metadata": {
        "id": "lavIZzHC7k8x"
      },
      "source": [
        "## Renaming Multiple Headings"
      ]
    },
    {
      "cell_type": "code",
      "metadata": {
        "colab": {
          "base_uri": "https://localhost:8080/"
        },
        "id": "wwJ1i3ES5_t0",
        "outputId": "780da779-2fb9-46e4-d69b-b73806b5ac89"
      },
      "source": [
        "# renaming multiple headings\n",
        "\n",
        "df.rename(columns={'PHU NAME': 'REGION',\n",
        "                   'PHU NUM': 'NUMBER'}, inplace=True)\n",
        "df.columns"
      ],
      "execution_count": 20,
      "outputs": [
        {
          "output_type": "execute_result",
          "data": {
            "text/plain": [
              "Index(['DATE', 'REGION', 'NUMBER', 'ACTIVE CASES', 'RESOLVED CASES', 'DEATHS'], dtype='object')"
            ]
          },
          "metadata": {
            "tags": []
          },
          "execution_count": 20
        }
      ]
    },
    {
      "cell_type": "code",
      "metadata": {
        "colab": {
          "base_uri": "https://localhost:8080/",
          "height": 204
        },
        "id": "gfu-U_sm7utS",
        "outputId": "b376ea6c-7c3e-4e36-ce3e-698dd3db4413"
      },
      "source": [
        "df.head()"
      ],
      "execution_count": 21,
      "outputs": [
        {
          "output_type": "execute_result",
          "data": {
            "text/html": [
              "<div>\n",
              "<style scoped>\n",
              "    .dataframe tbody tr th:only-of-type {\n",
              "        vertical-align: middle;\n",
              "    }\n",
              "\n",
              "    .dataframe tbody tr th {\n",
              "        vertical-align: top;\n",
              "    }\n",
              "\n",
              "    .dataframe thead th {\n",
              "        text-align: right;\n",
              "    }\n",
              "</style>\n",
              "<table border=\"1\" class=\"dataframe\">\n",
              "  <thead>\n",
              "    <tr style=\"text-align: right;\">\n",
              "      <th></th>\n",
              "      <th>DATE</th>\n",
              "      <th>REGION</th>\n",
              "      <th>NUMBER</th>\n",
              "      <th>ACTIVE CASES</th>\n",
              "      <th>RESOLVED CASES</th>\n",
              "      <th>DEATHS</th>\n",
              "    </tr>\n",
              "  </thead>\n",
              "  <tbody>\n",
              "    <tr>\n",
              "      <th>0</th>\n",
              "      <td>2020-04-10</td>\n",
              "      <td>HALIBURTON, KAWARTHA, PINE RIDGE</td>\n",
              "      <td>2235.0</td>\n",
              "      <td>23</td>\n",
              "      <td>69</td>\n",
              "      <td>18</td>\n",
              "    </tr>\n",
              "    <tr>\n",
              "      <th>1</th>\n",
              "      <td>2020-04-10</td>\n",
              "      <td>HALTON REGION</td>\n",
              "      <td>2236.0</td>\n",
              "      <td>112</td>\n",
              "      <td>137</td>\n",
              "      <td>9</td>\n",
              "    </tr>\n",
              "    <tr>\n",
              "      <th>2</th>\n",
              "      <td>2020-04-10</td>\n",
              "      <td>HASTINGS &amp; PRINCE EDWARD COUNTIES</td>\n",
              "      <td>2238.0</td>\n",
              "      <td>12</td>\n",
              "      <td>11</td>\n",
              "      <td>1</td>\n",
              "    </tr>\n",
              "    <tr>\n",
              "      <th>3</th>\n",
              "      <td>2020-04-10</td>\n",
              "      <td>HURON PERTH</td>\n",
              "      <td>5183.0</td>\n",
              "      <td>20</td>\n",
              "      <td>8</td>\n",
              "      <td>1</td>\n",
              "    </tr>\n",
              "    <tr>\n",
              "      <th>4</th>\n",
              "      <td>2020-04-10</td>\n",
              "      <td>KINGSTON, FRONTENAC, LENNOX &amp; ADDINGTON</td>\n",
              "      <td>2241.0</td>\n",
              "      <td>13</td>\n",
              "      <td>39</td>\n",
              "      <td>0</td>\n",
              "    </tr>\n",
              "  </tbody>\n",
              "</table>\n",
              "</div>"
            ],
            "text/plain": [
              "         DATE                                   REGION  ...  RESOLVED CASES  DEATHS\n",
              "0  2020-04-10         HALIBURTON, KAWARTHA, PINE RIDGE  ...              69      18\n",
              "1  2020-04-10                            HALTON REGION  ...             137       9\n",
              "2  2020-04-10        HASTINGS & PRINCE EDWARD COUNTIES  ...              11       1\n",
              "3  2020-04-10                              HURON PERTH  ...               8       1\n",
              "4  2020-04-10  KINGSTON, FRONTENAC, LENNOX & ADDINGTON  ...              39       0\n",
              "\n",
              "[5 rows x 6 columns]"
            ]
          },
          "metadata": {
            "tags": []
          },
          "execution_count": 21
        }
      ]
    },
    {
      "cell_type": "markdown",
      "metadata": {
        "id": "l-tV-TwLWk5h"
      },
      "source": [
        "# Filtering Data"
      ]
    },
    {
      "cell_type": "markdown",
      "metadata": {
        "id": "pW3_esMaWxIZ"
      },
      "source": [
        "Often we only want to work with a subset of the data. Here's an example of how to filter your data. We'll concentrate on one day and only the largest values of ACTIVE_CASES."
      ]
    },
    {
      "cell_type": "code",
      "metadata": {
        "colab": {
          "base_uri": "https://localhost:8080/",
          "height": 419
        },
        "id": "4Nl3tYGA8pIK",
        "outputId": "d4aba3b2-921e-4b9c-81bf-1309fb65e69a"
      },
      "source": [
        "# Read in and prep the test data\n",
        "# This is Ontario's active COVID data, by region\n",
        "\n",
        "import pandas as pd\n",
        "\n",
        "url = 'https://data.ontario.ca/dataset/1115d5fe-dd84-4c69-b5ed-05bf0c0a0ff9/resource/d1bfe1ad-6575-4352-8302-09ca81f7ddfc/download/cases_by_status_and_phu.csv'\n",
        "df = pd.read_csv(url)\n",
        "df"
      ],
      "execution_count": 22,
      "outputs": [
        {
          "output_type": "execute_result",
          "data": {
            "text/html": [
              "<div>\n",
              "<style scoped>\n",
              "    .dataframe tbody tr th:only-of-type {\n",
              "        vertical-align: middle;\n",
              "    }\n",
              "\n",
              "    .dataframe tbody tr th {\n",
              "        vertical-align: top;\n",
              "    }\n",
              "\n",
              "    .dataframe thead th {\n",
              "        text-align: right;\n",
              "    }\n",
              "</style>\n",
              "<table border=\"1\" class=\"dataframe\">\n",
              "  <thead>\n",
              "    <tr style=\"text-align: right;\">\n",
              "      <th></th>\n",
              "      <th>FILE_DATE</th>\n",
              "      <th>PHU_NAME</th>\n",
              "      <th>PHU_NUM</th>\n",
              "      <th>ACTIVE_CASES</th>\n",
              "      <th>RESOLVED_CASES</th>\n",
              "      <th>DEATHS</th>\n",
              "    </tr>\n",
              "  </thead>\n",
              "  <tbody>\n",
              "    <tr>\n",
              "      <th>0</th>\n",
              "      <td>2020-04-10</td>\n",
              "      <td>HALIBURTON, KAWARTHA, PINE RIDGE</td>\n",
              "      <td>2235.0</td>\n",
              "      <td>23</td>\n",
              "      <td>69</td>\n",
              "      <td>18</td>\n",
              "    </tr>\n",
              "    <tr>\n",
              "      <th>1</th>\n",
              "      <td>2020-04-10</td>\n",
              "      <td>HALTON REGION</td>\n",
              "      <td>2236.0</td>\n",
              "      <td>112</td>\n",
              "      <td>137</td>\n",
              "      <td>9</td>\n",
              "    </tr>\n",
              "    <tr>\n",
              "      <th>2</th>\n",
              "      <td>2020-04-10</td>\n",
              "      <td>HASTINGS &amp; PRINCE EDWARD COUNTIES</td>\n",
              "      <td>2238.0</td>\n",
              "      <td>12</td>\n",
              "      <td>11</td>\n",
              "      <td>1</td>\n",
              "    </tr>\n",
              "    <tr>\n",
              "      <th>3</th>\n",
              "      <td>2020-04-10</td>\n",
              "      <td>HURON PERTH</td>\n",
              "      <td>5183.0</td>\n",
              "      <td>20</td>\n",
              "      <td>8</td>\n",
              "      <td>1</td>\n",
              "    </tr>\n",
              "    <tr>\n",
              "      <th>4</th>\n",
              "      <td>2020-04-10</td>\n",
              "      <td>KINGSTON, FRONTENAC, LENNOX &amp; ADDINGTON</td>\n",
              "      <td>2241.0</td>\n",
              "      <td>13</td>\n",
              "      <td>39</td>\n",
              "      <td>0</td>\n",
              "    </tr>\n",
              "    <tr>\n",
              "      <th>...</th>\n",
              "      <td>...</td>\n",
              "      <td>...</td>\n",
              "      <td>...</td>\n",
              "      <td>...</td>\n",
              "      <td>...</td>\n",
              "      <td>...</td>\n",
              "    </tr>\n",
              "    <tr>\n",
              "      <th>13799</th>\n",
              "      <td>2021-05-05</td>\n",
              "      <td>TORONTO</td>\n",
              "      <td>3895.0</td>\n",
              "      <td>11854</td>\n",
              "      <td>132897</td>\n",
              "      <td>3103</td>\n",
              "    </tr>\n",
              "    <tr>\n",
              "      <th>13800</th>\n",
              "      <td>2021-05-05</td>\n",
              "      <td>WATERLOO REGION</td>\n",
              "      <td>2265.0</td>\n",
              "      <td>465</td>\n",
              "      <td>13752</td>\n",
              "      <td>252</td>\n",
              "    </tr>\n",
              "    <tr>\n",
              "      <th>13801</th>\n",
              "      <td>2021-05-05</td>\n",
              "      <td>WELLINGTON-DUFFERIN-GUELPH</td>\n",
              "      <td>2266.0</td>\n",
              "      <td>453</td>\n",
              "      <td>6671</td>\n",
              "      <td>108</td>\n",
              "    </tr>\n",
              "    <tr>\n",
              "      <th>13802</th>\n",
              "      <td>2021-05-05</td>\n",
              "      <td>WINDSOR-ESSEX COUNTY</td>\n",
              "      <td>2268.0</td>\n",
              "      <td>412</td>\n",
              "      <td>14801</td>\n",
              "      <td>417</td>\n",
              "    </tr>\n",
              "    <tr>\n",
              "      <th>13803</th>\n",
              "      <td>2021-05-05</td>\n",
              "      <td>YORK REGION</td>\n",
              "      <td>2270.0</td>\n",
              "      <td>2804</td>\n",
              "      <td>43891</td>\n",
              "      <td>677</td>\n",
              "    </tr>\n",
              "  </tbody>\n",
              "</table>\n",
              "<p>13804 rows × 6 columns</p>\n",
              "</div>"
            ],
            "text/plain": [
              "        FILE_DATE  ... DEATHS\n",
              "0      2020-04-10  ...     18\n",
              "1      2020-04-10  ...      9\n",
              "2      2020-04-10  ...      1\n",
              "3      2020-04-10  ...      1\n",
              "4      2020-04-10  ...      0\n",
              "...           ...  ...    ...\n",
              "13799  2021-05-05  ...   3103\n",
              "13800  2021-05-05  ...    252\n",
              "13801  2021-05-05  ...    108\n",
              "13802  2021-05-05  ...    417\n",
              "13803  2021-05-05  ...    677\n",
              "\n",
              "[13804 rows x 6 columns]"
            ]
          },
          "metadata": {
            "tags": []
          },
          "execution_count": 22
        }
      ]
    },
    {
      "cell_type": "code",
      "metadata": {
        "colab": {
          "base_uri": "https://localhost:8080/",
          "height": 328
        },
        "id": "fNb4qyQJXAtJ",
        "outputId": "9ebcb9d4-46be-4749-f279-f086369a58f5"
      },
      "source": [
        "# First we configure the filter, then we use is in the dataframe\n",
        "# The boolean expressions are <, <=, >, >=, ==, and !=\n",
        "# This example puts the filtered data in a new dataframe (today_df). \n",
        "#     This isn't necessary.\n",
        "\n",
        "filt = (df['FILE_DATE'] == '2021-05-01') & (df['ACTIVE_CASES'] > 1000)\n",
        "today_df = df[filt].sort_values('ACTIVE_CASES', ascending=False) # note new dataframe name\n",
        "today_df"
      ],
      "execution_count": 23,
      "outputs": [
        {
          "output_type": "execute_result",
          "data": {
            "text/html": [
              "<div>\n",
              "<style scoped>\n",
              "    .dataframe tbody tr th:only-of-type {\n",
              "        vertical-align: middle;\n",
              "    }\n",
              "\n",
              "    .dataframe tbody tr th {\n",
              "        vertical-align: top;\n",
              "    }\n",
              "\n",
              "    .dataframe thead th {\n",
              "        text-align: right;\n",
              "    }\n",
              "</style>\n",
              "<table border=\"1\" class=\"dataframe\">\n",
              "  <thead>\n",
              "    <tr style=\"text-align: right;\">\n",
              "      <th></th>\n",
              "      <th>FILE_DATE</th>\n",
              "      <th>PHU_NAME</th>\n",
              "      <th>PHU_NUM</th>\n",
              "      <th>ACTIVE_CASES</th>\n",
              "      <th>RESOLVED_CASES</th>\n",
              "      <th>DEATHS</th>\n",
              "    </tr>\n",
              "  </thead>\n",
              "  <tbody>\n",
              "    <tr>\n",
              "      <th>13663</th>\n",
              "      <td>2021-05-01</td>\n",
              "      <td>TORONTO</td>\n",
              "      <td>3895.0</td>\n",
              "      <td>12425</td>\n",
              "      <td>128342</td>\n",
              "      <td>3049</td>\n",
              "    </tr>\n",
              "    <tr>\n",
              "      <th>13655</th>\n",
              "      <td>2021-05-01</td>\n",
              "      <td>PEEL REGION</td>\n",
              "      <td>2253.0</td>\n",
              "      <td>8629</td>\n",
              "      <td>83337</td>\n",
              "      <td>691</td>\n",
              "    </tr>\n",
              "    <tr>\n",
              "      <th>13667</th>\n",
              "      <td>2021-05-01</td>\n",
              "      <td>YORK REGION</td>\n",
              "      <td>2270.0</td>\n",
              "      <td>3289</td>\n",
              "      <td>42232</td>\n",
              "      <td>665</td>\n",
              "    </tr>\n",
              "    <tr>\n",
              "      <th>13638</th>\n",
              "      <td>2021-05-01</td>\n",
              "      <td>CITY OF OTTAWA</td>\n",
              "      <td>2251.0</td>\n",
              "      <td>2162</td>\n",
              "      <td>21633</td>\n",
              "      <td>507</td>\n",
              "    </tr>\n",
              "    <tr>\n",
              "      <th>13639</th>\n",
              "      <td>2021-05-01</td>\n",
              "      <td>DURHAM REGION</td>\n",
              "      <td>2230.0</td>\n",
              "      <td>1752</td>\n",
              "      <td>18637</td>\n",
              "      <td>338</td>\n",
              "    </tr>\n",
              "    <tr>\n",
              "      <th>13651</th>\n",
              "      <td>2021-05-01</td>\n",
              "      <td>NIAGARA REGION</td>\n",
              "      <td>2246.0</td>\n",
              "      <td>1432</td>\n",
              "      <td>11983</td>\n",
              "      <td>394</td>\n",
              "    </tr>\n",
              "    <tr>\n",
              "      <th>13644</th>\n",
              "      <td>2021-05-01</td>\n",
              "      <td>HALTON REGION</td>\n",
              "      <td>2236.0</td>\n",
              "      <td>1270</td>\n",
              "      <td>13135</td>\n",
              "      <td>211</td>\n",
              "    </tr>\n",
              "    <tr>\n",
              "      <th>13637</th>\n",
              "      <td>2021-05-01</td>\n",
              "      <td>CITY OF HAMILTON</td>\n",
              "      <td>2237.0</td>\n",
              "      <td>1087</td>\n",
              "      <td>15783</td>\n",
              "      <td>360</td>\n",
              "    </tr>\n",
              "    <tr>\n",
              "      <th>13650</th>\n",
              "      <td>2021-05-01</td>\n",
              "      <td>MIDDLESEX-LONDON</td>\n",
              "      <td>2244.0</td>\n",
              "      <td>1022</td>\n",
              "      <td>9254</td>\n",
              "      <td>200</td>\n",
              "    </tr>\n",
              "  </tbody>\n",
              "</table>\n",
              "</div>"
            ],
            "text/plain": [
              "        FILE_DATE          PHU_NAME  ...  RESOLVED_CASES  DEATHS\n",
              "13663  2021-05-01           TORONTO  ...          128342    3049\n",
              "13655  2021-05-01       PEEL REGION  ...           83337     691\n",
              "13667  2021-05-01       YORK REGION  ...           42232     665\n",
              "13638  2021-05-01    CITY OF OTTAWA  ...           21633     507\n",
              "13639  2021-05-01     DURHAM REGION  ...           18637     338\n",
              "13651  2021-05-01    NIAGARA REGION  ...           11983     394\n",
              "13644  2021-05-01     HALTON REGION  ...           13135     211\n",
              "13637  2021-05-01  CITY OF HAMILTON  ...           15783     360\n",
              "13650  2021-05-01  MIDDLESEX-LONDON  ...            9254     200\n",
              "\n",
              "[9 rows x 6 columns]"
            ]
          },
          "metadata": {
            "tags": []
          },
          "execution_count": 23
        }
      ]
    },
    {
      "cell_type": "code",
      "metadata": {
        "colab": {
          "base_uri": "https://localhost:8080/",
          "height": 392
        },
        "id": "NDOJSepoXRir",
        "outputId": "042db158-a879-4258-d838-4d942e6df777"
      },
      "source": [
        "# Confirm with a plot!\n",
        "\n",
        "today_df.plot(kind='bar', # also try barh\n",
        "        x='PHU_NAME',\n",
        "        y='ACTIVE_CASES')"
      ],
      "execution_count": 24,
      "outputs": [
        {
          "output_type": "execute_result",
          "data": {
            "text/plain": [
              "<matplotlib.axes._subplots.AxesSubplot at 0x7f6955093bd0>"
            ]
          },
          "metadata": {
            "tags": []
          },
          "execution_count": 24
        },
        {
          "output_type": "display_data",
          "data": {
            "image/png": "[encoded data removed]",
            "text/plain": [
              "<Figure size 432x288 with 1 Axes>"
            ]
          },
          "metadata": {
            "tags": [],
            "needs_background": "light"
          }
        }
      ]
    }
  ]
}