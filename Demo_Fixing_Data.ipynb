{
  "nbformat": 4,
  "nbformat_minor": 0,
  "metadata": {
    "colab": {
      "name": "Demo - Fixing Data.ipynb",
      "provenance": [],
      "collapsed_sections": [],
      "toc_visible": true,
      "authorship_tag": "ABX9TyOtskrhxa/M9HfRoLJNlXE2",
      "include_colab_link": true
    },
    "kernelspec": {
      "name": "python3",
      "display_name": "Python 3"
    },
    "language_info": {
      "name": "python"
    }
  },
  "cells": [
    {
      "cell_type": "markdown",
      "metadata": {
        "id": "view-in-github",
        "colab_type": "text"
      },
      "source": [
        "<a href=\"https://colab.research.google.com/github/pbeens/OTF-Data-Analysis-2021-05/blob/main/Demo_Fixing_Data.ipynb\" target=\"_parent\"><img src=\"https://colab.research.google.com/assets/colab-badge.svg\" alt=\"Open In Colab\"/></a>"
      ]
    },
    {
      "cell_type": "markdown",
      "metadata": {
        "id": "ukh14rYvP5wL"
      },
      "source": [
        "**If you open this document in Colab, use the Table of Contents on the left to go directly to the section you are interested in.**\n",
        "\n",
        "Short URL of this document on GitHub: https://bit.ly/3nOqXY7"
      ]
    },
    {
      "cell_type": "markdown",
      "metadata": {
        "id": "lgY8DrHlMPWo"
      },
      "source": [
        "# Deleting Rows"
      ]
    },
    {
      "cell_type": "markdown",
      "metadata": {
        "id": "1CY-lRJv1fJF"
      },
      "source": [
        "## Deleting Rows at the Beginning or End"
      ]
    },
    {
      "cell_type": "code",
      "metadata": {
        "colab": {
          "base_uri": "https://localhost:8080/",
          "height": 235
        },
        "id": "bRe9tWdXMTOP",
        "outputId": "70036e0e-5915-4cc1-ee5a-bfe3115a83af"
      },
      "source": [
        "# Read in and prep the test data\n",
        "# The data is a partial extract from https://dieselnet.com/standards/us/fe.php\n",
        "# Observation: The last line is not needed and needs to be deleted\n",
        "\n",
        "import pandas as pd\n",
        "\n",
        "url = 'https://raw.githubusercontent.com/pbeens/OTF-Data-Analysis-2021-05/main/datafiles/bad_cafe_data.csv'\n",
        "\n",
        "df = pd.read_csv(url)\n",
        "df"
      ],
      "execution_count": 1,
      "outputs": [
        {
          "output_type": "execute_result",
          "data": {
            "text/html": [
              "<div>\n",
              "<style scoped>\n",
              "    .dataframe tbody tr th:only-of-type {\n",
              "        vertical-align: middle;\n",
              "    }\n",
              "\n",
              "    .dataframe tbody tr th {\n",
              "        vertical-align: top;\n",
              "    }\n",
              "\n",
              "    .dataframe thead th {\n",
              "        text-align: right;\n",
              "    }\n",
              "</style>\n",
              "<table border=\"1\" class=\"dataframe\">\n",
              "  <thead>\n",
              "    <tr style=\"text-align: right;\">\n",
              "      <th></th>\n",
              "      <th>Year</th>\n",
              "      <th>CAFE MPG</th>\n",
              "      <th>All Light Trucks CAFE MPG</th>\n",
              "    </tr>\n",
              "  </thead>\n",
              "  <tbody>\n",
              "    <tr>\n",
              "      <th>0</th>\n",
              "      <td>2007</td>\n",
              "      <td>27.5</td>\n",
              "      <td>22.2</td>\n",
              "    </tr>\n",
              "    <tr>\n",
              "      <th>1</th>\n",
              "      <td>2008</td>\n",
              "      <td>27.5</td>\n",
              "      <td>22.5</td>\n",
              "    </tr>\n",
              "    <tr>\n",
              "      <th>2</th>\n",
              "      <td>2009</td>\n",
              "      <td>27.5</td>\n",
              "      <td>23.1</td>\n",
              "    </tr>\n",
              "    <tr>\n",
              "      <th>3</th>\n",
              "      <td>2010</td>\n",
              "      <td>27.5</td>\n",
              "      <td>23.5</td>\n",
              "    </tr>\n",
              "    <tr>\n",
              "      <th>4</th>\n",
              "      <td>2011</td>\n",
              "      <td>27.5</td>\n",
              "      <td>a</td>\n",
              "    </tr>\n",
              "    <tr>\n",
              "      <th>5</th>\n",
              "      <td>a Reformed CAFE standards</td>\n",
              "      <td>a Reformed CAFE standards</td>\n",
              "      <td>a Reformed CAFE standards</td>\n",
              "    </tr>\n",
              "  </tbody>\n",
              "</table>\n",
              "</div>"
            ],
            "text/plain": [
              "                        Year  ...  All Light Trucks CAFE MPG\n",
              "0                       2007  ...                       22.2\n",
              "1                       2008  ...                       22.5\n",
              "2                       2009  ...                       23.1\n",
              "3                       2010  ...                       23.5\n",
              "4                       2011  ...                          a\n",
              "5  a Reformed CAFE standards  ...  a Reformed CAFE standards\n",
              "\n",
              "[6 rows x 3 columns]"
            ]
          },
          "metadata": {
            "tags": []
          },
          "execution_count": 1
        }
      ]
    },
    {
      "cell_type": "code",
      "metadata": {
        "colab": {
          "base_uri": "https://localhost:8080/",
          "height": 204
        },
        "id": "fRgYWkXvMysY",
        "outputId": "9aae7fa1-7548-413f-fa60-d03859ef30be"
      },
      "source": [
        "# Let's use slicing to only keep the lines we want (0-4).\n",
        "# For more info on slicing, see https://realpython.com/lessons/indexing-and-slicing/\n",
        "\n",
        "df = df[:-1] \n",
        "df"
      ],
      "execution_count": 2,
      "outputs": [
        {
          "output_type": "execute_result",
          "data": {
            "text/html": [
              "<div>\n",
              "<style scoped>\n",
              "    .dataframe tbody tr th:only-of-type {\n",
              "        vertical-align: middle;\n",
              "    }\n",
              "\n",
              "    .dataframe tbody tr th {\n",
              "        vertical-align: top;\n",
              "    }\n",
              "\n",
              "    .dataframe thead th {\n",
              "        text-align: right;\n",
              "    }\n",
              "</style>\n",
              "<table border=\"1\" class=\"dataframe\">\n",
              "  <thead>\n",
              "    <tr style=\"text-align: right;\">\n",
              "      <th></th>\n",
              "      <th>Year</th>\n",
              "      <th>CAFE MPG</th>\n",
              "      <th>All Light Trucks CAFE MPG</th>\n",
              "    </tr>\n",
              "  </thead>\n",
              "  <tbody>\n",
              "    <tr>\n",
              "      <th>0</th>\n",
              "      <td>2007</td>\n",
              "      <td>27.5</td>\n",
              "      <td>22.2</td>\n",
              "    </tr>\n",
              "    <tr>\n",
              "      <th>1</th>\n",
              "      <td>2008</td>\n",
              "      <td>27.5</td>\n",
              "      <td>22.5</td>\n",
              "    </tr>\n",
              "    <tr>\n",
              "      <th>2</th>\n",
              "      <td>2009</td>\n",
              "      <td>27.5</td>\n",
              "      <td>23.1</td>\n",
              "    </tr>\n",
              "    <tr>\n",
              "      <th>3</th>\n",
              "      <td>2010</td>\n",
              "      <td>27.5</td>\n",
              "      <td>23.5</td>\n",
              "    </tr>\n",
              "    <tr>\n",
              "      <th>4</th>\n",
              "      <td>2011</td>\n",
              "      <td>27.5</td>\n",
              "      <td>a</td>\n",
              "    </tr>\n",
              "  </tbody>\n",
              "</table>\n",
              "</div>"
            ],
            "text/plain": [
              "   Year CAFE MPG All Light Trucks CAFE MPG\n",
              "0  2007     27.5                      22.2\n",
              "1  2008     27.5                      22.5\n",
              "2  2009     27.5                      23.1\n",
              "3  2010     27.5                      23.5\n",
              "4  2011     27.5                         a"
            ]
          },
          "metadata": {
            "tags": []
          },
          "execution_count": 2
        }
      ]
    },
    {
      "cell_type": "markdown",
      "metadata": {
        "id": "2NtNshtB1k1o"
      },
      "source": [
        "## Deleting Rows in the Middle"
      ]
    },
    {
      "cell_type": "code",
      "metadata": {
        "colab": {
          "base_uri": "https://localhost:8080/",
          "height": 173
        },
        "id": "Szbh-O-ztHhC",
        "outputId": "24b47172-5d8f-48bc-9352-e2cbdaa68f75"
      },
      "source": [
        "# What if we want to drop a row in the middle?\n",
        "# Let's delete 2009 (row 2)\n",
        "\n",
        "df = df.drop(2)\n",
        "df"
      ],
      "execution_count": 3,
      "outputs": [
        {
          "output_type": "execute_result",
          "data": {
            "text/html": [
              "<div>\n",
              "<style scoped>\n",
              "    .dataframe tbody tr th:only-of-type {\n",
              "        vertical-align: middle;\n",
              "    }\n",
              "\n",
              "    .dataframe tbody tr th {\n",
              "        vertical-align: top;\n",
              "    }\n",
              "\n",
              "    .dataframe thead th {\n",
              "        text-align: right;\n",
              "    }\n",
              "</style>\n",
              "<table border=\"1\" class=\"dataframe\">\n",
              "  <thead>\n",
              "    <tr style=\"text-align: right;\">\n",
              "      <th></th>\n",
              "      <th>Year</th>\n",
              "      <th>CAFE MPG</th>\n",
              "      <th>All Light Trucks CAFE MPG</th>\n",
              "    </tr>\n",
              "  </thead>\n",
              "  <tbody>\n",
              "    <tr>\n",
              "      <th>0</th>\n",
              "      <td>2007</td>\n",
              "      <td>27.5</td>\n",
              "      <td>22.2</td>\n",
              "    </tr>\n",
              "    <tr>\n",
              "      <th>1</th>\n",
              "      <td>2008</td>\n",
              "      <td>27.5</td>\n",
              "      <td>22.5</td>\n",
              "    </tr>\n",
              "    <tr>\n",
              "      <th>3</th>\n",
              "      <td>2010</td>\n",
              "      <td>27.5</td>\n",
              "      <td>23.5</td>\n",
              "    </tr>\n",
              "    <tr>\n",
              "      <th>4</th>\n",
              "      <td>2011</td>\n",
              "      <td>27.5</td>\n",
              "      <td>a</td>\n",
              "    </tr>\n",
              "  </tbody>\n",
              "</table>\n",
              "</div>"
            ],
            "text/plain": [
              "   Year CAFE MPG All Light Trucks CAFE MPG\n",
              "0  2007     27.5                      22.2\n",
              "1  2008     27.5                      22.5\n",
              "3  2010     27.5                      23.5\n",
              "4  2011     27.5                         a"
            ]
          },
          "metadata": {
            "tags": []
          },
          "execution_count": 3
        }
      ]
    },
    {
      "cell_type": "markdown",
      "metadata": {
        "id": "vNciNNZjR3Am"
      },
      "source": [
        "# Replacing Specific Data"
      ]
    },
    {
      "cell_type": "markdown",
      "metadata": {
        "id": "mHkGHAjnSKiN"
      },
      "source": [
        "This example shows corrupt data that needs to be manually replaced."
      ]
    },
    {
      "cell_type": "code",
      "metadata": {
        "colab": {
          "base_uri": "https://localhost:8080/",
          "height": 450
        },
        "id": "xT_HYRtCR_XS",
        "outputId": "8931395f-792c-46ae-8a2f-1a1dccf35885"
      },
      "source": [
        "# Read in and prep the test data\n",
        "# Observation: \"Earth\" in the name column is \"Earth(a)\" and has to be replaced.\n",
        "\n",
        "url = 'https://en.wikipedia.org/wiki/Planet'\n",
        "\n",
        "df_list_of_tables = pd.read_html(url) \n",
        "df = df_list_of_tables[7] # enter the index number of the table\n",
        "\n",
        "df"
      ],
      "execution_count": 4,
      "outputs": [
        {
          "output_type": "execute_result",
          "data": {
            "text/html": [
              "<div>\n",
              "<style scoped>\n",
              "    .dataframe tbody tr th:only-of-type {\n",
              "        vertical-align: middle;\n",
              "    }\n",
              "\n",
              "    .dataframe tbody tr th {\n",
              "        vertical-align: top;\n",
              "    }\n",
              "\n",
              "    .dataframe thead th {\n",
              "        text-align: right;\n",
              "    }\n",
              "</style>\n",
              "<table border=\"1\" class=\"dataframe\">\n",
              "  <thead>\n",
              "    <tr style=\"text-align: right;\">\n",
              "      <th></th>\n",
              "      <th>Unnamed: 0</th>\n",
              "      <th>Name</th>\n",
              "      <th>Equatorialdiameter [i]</th>\n",
              "      <th>Mass [i]</th>\n",
              "      <th>Semi-major axis (AU)</th>\n",
              "      <th>Orbital period(years)</th>\n",
              "      <th>Inclinationto Sun's equator (°)</th>\n",
              "      <th>Orbitaleccentricity</th>\n",
              "      <th>Rotation period(days)</th>\n",
              "      <th>Confirmedmoons</th>\n",
              "      <th>Axial tilt (°)</th>\n",
              "      <th>Rings</th>\n",
              "      <th>Atmosphere</th>\n",
              "    </tr>\n",
              "  </thead>\n",
              "  <tbody>\n",
              "    <tr>\n",
              "      <th>0</th>\n",
              "      <td>1.</td>\n",
              "      <td>Mercury</td>\n",
              "      <td>0.383</td>\n",
              "      <td>0.06</td>\n",
              "      <td>0.39</td>\n",
              "      <td>0.24</td>\n",
              "      <td>3.38</td>\n",
              "      <td>0.206</td>\n",
              "      <td>58.65</td>\n",
              "      <td>0</td>\n",
              "      <td>0.10</td>\n",
              "      <td>no</td>\n",
              "      <td>minimal</td>\n",
              "    </tr>\n",
              "    <tr>\n",
              "      <th>1</th>\n",
              "      <td>2.</td>\n",
              "      <td>Venus</td>\n",
              "      <td>0.949</td>\n",
              "      <td>0.81</td>\n",
              "      <td>0.72</td>\n",
              "      <td>0.62</td>\n",
              "      <td>3.86</td>\n",
              "      <td>0.007</td>\n",
              "      <td>−243.02</td>\n",
              "      <td>0</td>\n",
              "      <td>177.30</td>\n",
              "      <td>no</td>\n",
              "      <td>CO2, N2</td>\n",
              "    </tr>\n",
              "    <tr>\n",
              "      <th>2</th>\n",
              "      <td>3.</td>\n",
              "      <td>Earth (a)</td>\n",
              "      <td>1.000</td>\n",
              "      <td>1.00</td>\n",
              "      <td>1.00</td>\n",
              "      <td>1.00</td>\n",
              "      <td>7.25</td>\n",
              "      <td>0.017</td>\n",
              "      <td>1.00</td>\n",
              "      <td>1</td>\n",
              "      <td>23.44</td>\n",
              "      <td>no</td>\n",
              "      <td>N2, O2, Ar</td>\n",
              "    </tr>\n",
              "    <tr>\n",
              "      <th>3</th>\n",
              "      <td>4.</td>\n",
              "      <td>Mars</td>\n",
              "      <td>0.532</td>\n",
              "      <td>0.11</td>\n",
              "      <td>1.52</td>\n",
              "      <td>1.88</td>\n",
              "      <td>5.65</td>\n",
              "      <td>0.093</td>\n",
              "      <td>1.03</td>\n",
              "      <td>2</td>\n",
              "      <td>25.19</td>\n",
              "      <td>no</td>\n",
              "      <td>CO2, N2, Ar</td>\n",
              "    </tr>\n",
              "    <tr>\n",
              "      <th>4</th>\n",
              "      <td>5.</td>\n",
              "      <td>Jupiter</td>\n",
              "      <td>11.209</td>\n",
              "      <td>317.83</td>\n",
              "      <td>5.20</td>\n",
              "      <td>11.86</td>\n",
              "      <td>6.09</td>\n",
              "      <td>0.048</td>\n",
              "      <td>0.41</td>\n",
              "      <td>79</td>\n",
              "      <td>3.12</td>\n",
              "      <td>yes</td>\n",
              "      <td>H2, He</td>\n",
              "    </tr>\n",
              "    <tr>\n",
              "      <th>5</th>\n",
              "      <td>6.</td>\n",
              "      <td>Saturn</td>\n",
              "      <td>9.449</td>\n",
              "      <td>95.16</td>\n",
              "      <td>9.54</td>\n",
              "      <td>29.45</td>\n",
              "      <td>5.51</td>\n",
              "      <td>0.054</td>\n",
              "      <td>0.44</td>\n",
              "      <td>82</td>\n",
              "      <td>26.73</td>\n",
              "      <td>yes</td>\n",
              "      <td>H2, He</td>\n",
              "    </tr>\n",
              "    <tr>\n",
              "      <th>6</th>\n",
              "      <td>7.</td>\n",
              "      <td>Uranus</td>\n",
              "      <td>4.007</td>\n",
              "      <td>14.54</td>\n",
              "      <td>19.19</td>\n",
              "      <td>84.02</td>\n",
              "      <td>6.48</td>\n",
              "      <td>0.047</td>\n",
              "      <td>−0.72</td>\n",
              "      <td>27</td>\n",
              "      <td>97.86</td>\n",
              "      <td>yes</td>\n",
              "      <td>H2, He, CH4</td>\n",
              "    </tr>\n",
              "    <tr>\n",
              "      <th>7</th>\n",
              "      <td>8.</td>\n",
              "      <td>Neptune</td>\n",
              "      <td>3.883</td>\n",
              "      <td>17.15</td>\n",
              "      <td>30.07</td>\n",
              "      <td>164.79</td>\n",
              "      <td>6.43</td>\n",
              "      <td>0.009</td>\n",
              "      <td>0.67</td>\n",
              "      <td>14</td>\n",
              "      <td>29.60</td>\n",
              "      <td>yes</td>\n",
              "      <td>H2, He, CH4</td>\n",
              "    </tr>\n",
              "    <tr>\n",
              "      <th>8</th>\n",
              "      <td>Color legend: .mw-parser-output .legend{page-b...</td>\n",
              "      <td>Color legend: .mw-parser-output .legend{page-b...</td>\n",
              "      <td>Color legend: .mw-parser-output .legend{page-b...</td>\n",
              "      <td>Color legend: .mw-parser-output .legend{page-b...</td>\n",
              "      <td>Color legend: .mw-parser-output .legend{page-b...</td>\n",
              "      <td>Color legend: .mw-parser-output .legend{page-b...</td>\n",
              "      <td>Color legend: .mw-parser-output .legend{page-b...</td>\n",
              "      <td>Color legend: .mw-parser-output .legend{page-b...</td>\n",
              "      <td>Color legend: .mw-parser-output .legend{page-b...</td>\n",
              "      <td>Color legend: .mw-parser-output .legend{page-b...</td>\n",
              "      <td>Color legend: .mw-parser-output .legend{page-b...</td>\n",
              "      <td>Color legend: .mw-parser-output .legend{page-b...</td>\n",
              "      <td>Color legend: .mw-parser-output .legend{page-b...</td>\n",
              "    </tr>\n",
              "  </tbody>\n",
              "</table>\n",
              "</div>"
            ],
            "text/plain": [
              "                                          Unnamed: 0  ...                                         Atmosphere\n",
              "0                                                 1.  ...                                            minimal\n",
              "1                                                 2.  ...                                            CO2, N2\n",
              "2                                                 3.  ...                                         N2, O2, Ar\n",
              "3                                                 4.  ...                                        CO2, N2, Ar\n",
              "4                                                 5.  ...                                             H2, He\n",
              "5                                                 6.  ...                                             H2, He\n",
              "6                                                 7.  ...                                        H2, He, CH4\n",
              "7                                                 8.  ...                                        H2, He, CH4\n",
              "8  Color legend: .mw-parser-output .legend{page-b...  ...  Color legend: .mw-parser-output .legend{page-b...\n",
              "\n",
              "[9 rows x 13 columns]"
            ]
          },
          "metadata": {
            "tags": []
          },
          "execution_count": 4
        }
      ]
    },
    {
      "cell_type": "markdown",
      "metadata": {
        "id": "W8jdRBbT103i"
      },
      "source": [
        "## Replace One Item"
      ]
    },
    {
      "cell_type": "code",
      "metadata": {
        "colab": {
          "base_uri": "https://localhost:8080/"
        },
        "id": "SzHbfGyTSQhc",
        "outputId": "a5c38680-2174-44d1-f6fc-0e27955f99b2"
      },
      "source": [
        "# This is how we access the Earth line. It is index #2.\n",
        "\n",
        "df.loc[2]"
      ],
      "execution_count": 5,
      "outputs": [
        {
          "output_type": "execute_result",
          "data": {
            "text/plain": [
              "Unnamed: 0                                 3.\n",
              "Name                                Earth (a)\n",
              "Equatorialdiameter [i]                  1.000\n",
              "Mass [i]                                 1.00\n",
              "Semi-major axis (AU)                     1.00\n",
              "Orbital period(years)                    1.00\n",
              "Inclinationto Sun's equator (°)          7.25\n",
              "Orbitaleccentricity                     0.017\n",
              "Rotation period(days)                    1.00\n",
              "Confirmedmoons                              1\n",
              "Axial tilt (°)                          23.44\n",
              "Rings                                      no\n",
              "Atmosphere                         N2, O2, Ar\n",
              "Name: 2, dtype: object"
            ]
          },
          "metadata": {
            "tags": []
          },
          "execution_count": 5
        }
      ]
    },
    {
      "cell_type": "code",
      "metadata": {
        "colab": {
          "base_uri": "https://localhost:8080/",
          "height": 35
        },
        "id": "zUkNpTYASfyg",
        "outputId": "5c0b58ef-efac-48bb-dc0a-599e16815f62"
      },
      "source": [
        "# This is how we access the Name column in index 2.bit_length\n",
        "# Note: the \\u2009 we see in the output is unicode for \"thin space\"\n",
        "\n",
        "df.loc[2]['Name']"
      ],
      "execution_count": 6,
      "outputs": [
        {
          "output_type": "execute_result",
          "data": {
            "application/vnd.google.colaboratory.intrinsic+json": {
              "type": "string"
            },
            "text/plain": [
              "'Earth\\u2009(a)'"
            ]
          },
          "metadata": {
            "tags": []
          },
          "execution_count": 6
        }
      ]
    },
    {
      "cell_type": "code",
      "metadata": {
        "colab": {
          "base_uri": "https://localhost:8080/"
        },
        "id": "BlMcJlC8Stnq",
        "outputId": "3b2454e8-18ac-4887-e124-0c96ec5b8f3a"
      },
      "source": [
        "# Let's replace it...\n",
        "\n",
        "df.loc[2,'Name'] = 'Earth'\n",
        "\n",
        "df.loc[2]"
      ],
      "execution_count": 7,
      "outputs": [
        {
          "output_type": "execute_result",
          "data": {
            "text/plain": [
              "Unnamed: 0                                 3.\n",
              "Name                                    Earth\n",
              "Equatorialdiameter [i]                  1.000\n",
              "Mass [i]                                 1.00\n",
              "Semi-major axis (AU)                     1.00\n",
              "Orbital period(years)                    1.00\n",
              "Inclinationto Sun's equator (°)          7.25\n",
              "Orbitaleccentricity                     0.017\n",
              "Rotation period(days)                    1.00\n",
              "Confirmedmoons                              1\n",
              "Axial tilt (°)                          23.44\n",
              "Rings                                      no\n",
              "Atmosphere                         N2, O2, Ar\n",
              "Name: 2, dtype: object"
            ]
          },
          "metadata": {
            "tags": []
          },
          "execution_count": 7
        }
      ]
    },
    {
      "cell_type": "markdown",
      "metadata": {
        "id": "tSTkGgvH19pH"
      },
      "source": [
        "## Replacing Something in Each Column Heading"
      ]
    },
    {
      "cell_type": "code",
      "metadata": {
        "colab": {
          "base_uri": "https://localhost:8080/"
        },
        "id": "xoiIGSZ0Rd1W",
        "outputId": "39d3b0ef-a1d1-4d23-a70a-f32b8650c3e6"
      },
      "source": [
        "# Replace something in all the headings\n",
        "# Let's replace (°) with (deg)\n",
        "\n",
        "df.columns = [col.replace('(°)', '(deg)') for col in df.columns] # list comprehension\n",
        "df.columns"
      ],
      "execution_count": 8,
      "outputs": [
        {
          "output_type": "execute_result",
          "data": {
            "text/plain": [
              "Index(['Unnamed: 0', 'Name', 'Equatorialdiameter [i]', 'Mass [i]',\n",
              "       'Semi-major axis (AU)', 'Orbital period(years)',\n",
              "       'Inclinationto Sun's equator (deg)', 'Orbitaleccentricity',\n",
              "       'Rotation period(days)', 'Confirmedmoons', 'Axial tilt (deg)', 'Rings',\n",
              "       'Atmosphere'],\n",
              "      dtype='object')"
            ]
          },
          "metadata": {
            "tags": []
          },
          "execution_count": 8
        }
      ]
    },
    {
      "cell_type": "markdown",
      "metadata": {
        "id": "z1me1mD81t7g"
      },
      "source": [
        "# Converting to Dates"
      ]
    },
    {
      "cell_type": "markdown",
      "metadata": {
        "id": "3XaPrZC58f_O"
      },
      "source": [
        "This examples shows a date field (FILE_DATE) that need to be converted from \"object\" to \"datetime\" so the data can be plotted correctly.\n",
        "\n",
        "The data is Ontario Covid-19, organized by health region."
      ]
    },
    {
      "cell_type": "code",
      "metadata": {
        "colab": {
          "base_uri": "https://localhost:8080/"
        },
        "id": "Y4hYPzw013iT",
        "outputId": "c5625e22-b872-4dd7-d679-3ce81e9a1722"
      },
      "source": [
        "# Read in and prep the test data\n",
        "# Observation: FILE_DATE is an \"object\" not a valid date format\n",
        "\n",
        "import pandas as pd\n",
        "from datetime import date\n",
        "\n",
        "url = 'https://data.ontario.ca/dataset/1115d5fe-dd84-4c69-b5ed-05bf0c0a0ff9/resource/d1bfe1ad-6575-4352-8302-09ca81f7ddfc/download/cases_by_status_and_phu.csv'\n",
        "df = pd.read_csv(url)\n",
        "df.info()"
      ],
      "execution_count": 9,
      "outputs": [
        {
          "output_type": "stream",
          "text": [
            "<class 'pandas.core.frame.DataFrame'>\n",
            "RangeIndex: 13974 entries, 0 to 13973\n",
            "Data columns (total 6 columns):\n",
            " #   Column          Non-Null Count  Dtype  \n",
            "---  ------          --------------  -----  \n",
            " 0   FILE_DATE       13974 non-null  object \n",
            " 1   PHU_NAME        13973 non-null  object \n",
            " 2   PHU_NUM         13973 non-null  float64\n",
            " 3   ACTIVE_CASES    13974 non-null  int64  \n",
            " 4   RESOLVED_CASES  13974 non-null  int64  \n",
            " 5   DEATHS          13974 non-null  int64  \n",
            "dtypes: float64(1), int64(3), object(2)\n",
            "memory usage: 655.2+ KB\n"
          ],
          "name": "stdout"
        }
      ]
    },
    {
      "cell_type": "code",
      "metadata": {
        "colab": {
          "base_uri": "https://localhost:8080/"
        },
        "id": "7f0MNAu58c8C",
        "outputId": "72a7fa2f-89e6-4f03-a612-7c3cf653ac97"
      },
      "source": [
        "# The method we need is to_datetime()\n",
        "# Observation: FILE_DATE has been converted to datetime64[ns]\n",
        "\n",
        "df['FILE_DATE']= pd.to_datetime(df['FILE_DATE'])\n",
        "df.info()"
      ],
      "execution_count": 10,
      "outputs": [
        {
          "output_type": "stream",
          "text": [
            "<class 'pandas.core.frame.DataFrame'>\n",
            "RangeIndex: 13974 entries, 0 to 13973\n",
            "Data columns (total 6 columns):\n",
            " #   Column          Non-Null Count  Dtype         \n",
            "---  ------          --------------  -----         \n",
            " 0   FILE_DATE       13974 non-null  datetime64[ns]\n",
            " 1   PHU_NAME        13973 non-null  object        \n",
            " 2   PHU_NUM         13973 non-null  float64       \n",
            " 3   ACTIVE_CASES    13974 non-null  int64         \n",
            " 4   RESOLVED_CASES  13974 non-null  int64         \n",
            " 5   DEATHS          13974 non-null  int64         \n",
            "dtypes: datetime64[ns](1), float64(1), int64(3), object(1)\n",
            "memory usage: 655.2+ KB\n"
          ],
          "name": "stdout"
        }
      ]
    },
    {
      "cell_type": "markdown",
      "metadata": {
        "id": "_yJeo7u9UtBA"
      },
      "source": [
        "# Deleting Columns"
      ]
    },
    {
      "cell_type": "markdown",
      "metadata": {
        "id": "LJoYcMZ-U5ML"
      },
      "source": [
        "It's generally not necessary to delete columns with the exception of wanting to export the data to a new data file. "
      ]
    },
    {
      "cell_type": "markdown",
      "metadata": {
        "id": "qzeqb_N96ZTX"
      },
      "source": [
        "## Delete a Single Column"
      ]
    },
    {
      "cell_type": "code",
      "metadata": {
        "colab": {
          "base_uri": "https://localhost:8080/",
          "height": 204
        },
        "id": "h_Vc1tF1VI0-",
        "outputId": "e7020169-0e6c-4789-ef8a-c05b426c4869"
      },
      "source": [
        "# Read in and prep the test data\n",
        "# The data is a partial extract from https://dieselnet.com/standards/us/fe.php\n",
        "# Here we want delete the \"All Light Trucks CAFE MPG\" column\n",
        "\n",
        "import pandas as pd\n",
        "\n",
        "url = 'https://raw.githubusercontent.com/pbeens/OTF-Data-Analysis-2021-05/main/datafiles/bad_cafe_data.csv'\n",
        "\n",
        "df = pd.read_csv(url)\n",
        "df = df[:-1] \n",
        "df"
      ],
      "execution_count": 11,
      "outputs": [
        {
          "output_type": "execute_result",
          "data": {
            "text/html": [
              "<div>\n",
              "<style scoped>\n",
              "    .dataframe tbody tr th:only-of-type {\n",
              "        vertical-align: middle;\n",
              "    }\n",
              "\n",
              "    .dataframe tbody tr th {\n",
              "        vertical-align: top;\n",
              "    }\n",
              "\n",
              "    .dataframe thead th {\n",
              "        text-align: right;\n",
              "    }\n",
              "</style>\n",
              "<table border=\"1\" class=\"dataframe\">\n",
              "  <thead>\n",
              "    <tr style=\"text-align: right;\">\n",
              "      <th></th>\n",
              "      <th>Year</th>\n",
              "      <th>CAFE MPG</th>\n",
              "      <th>All Light Trucks CAFE MPG</th>\n",
              "    </tr>\n",
              "  </thead>\n",
              "  <tbody>\n",
              "    <tr>\n",
              "      <th>0</th>\n",
              "      <td>2007</td>\n",
              "      <td>27.5</td>\n",
              "      <td>22.2</td>\n",
              "    </tr>\n",
              "    <tr>\n",
              "      <th>1</th>\n",
              "      <td>2008</td>\n",
              "      <td>27.5</td>\n",
              "      <td>22.5</td>\n",
              "    </tr>\n",
              "    <tr>\n",
              "      <th>2</th>\n",
              "      <td>2009</td>\n",
              "      <td>27.5</td>\n",
              "      <td>23.1</td>\n",
              "    </tr>\n",
              "    <tr>\n",
              "      <th>3</th>\n",
              "      <td>2010</td>\n",
              "      <td>27.5</td>\n",
              "      <td>23.5</td>\n",
              "    </tr>\n",
              "    <tr>\n",
              "      <th>4</th>\n",
              "      <td>2011</td>\n",
              "      <td>27.5</td>\n",
              "      <td>a</td>\n",
              "    </tr>\n",
              "  </tbody>\n",
              "</table>\n",
              "</div>"
            ],
            "text/plain": [
              "   Year CAFE MPG All Light Trucks CAFE MPG\n",
              "0  2007     27.5                      22.2\n",
              "1  2008     27.5                      22.5\n",
              "2  2009     27.5                      23.1\n",
              "3  2010     27.5                      23.5\n",
              "4  2011     27.5                         a"
            ]
          },
          "metadata": {
            "tags": []
          },
          "execution_count": 11
        }
      ]
    },
    {
      "cell_type": "code",
      "metadata": {
        "colab": {
          "base_uri": "https://localhost:8080/",
          "height": 204
        },
        "id": "wEXbn123VPs6",
        "outputId": "d68481c6-9cf2-4abc-abd4-ddebe7350a0a"
      },
      "source": [
        "# The command we want for deleting a column is \"del\"\n",
        "\n",
        "del df['All Light Trucks CAFE MPG'] # insert the name of the column\n",
        "df"
      ],
      "execution_count": 12,
      "outputs": [
        {
          "output_type": "execute_result",
          "data": {
            "text/html": [
              "<div>\n",
              "<style scoped>\n",
              "    .dataframe tbody tr th:only-of-type {\n",
              "        vertical-align: middle;\n",
              "    }\n",
              "\n",
              "    .dataframe tbody tr th {\n",
              "        vertical-align: top;\n",
              "    }\n",
              "\n",
              "    .dataframe thead th {\n",
              "        text-align: right;\n",
              "    }\n",
              "</style>\n",
              "<table border=\"1\" class=\"dataframe\">\n",
              "  <thead>\n",
              "    <tr style=\"text-align: right;\">\n",
              "      <th></th>\n",
              "      <th>Year</th>\n",
              "      <th>CAFE MPG</th>\n",
              "    </tr>\n",
              "  </thead>\n",
              "  <tbody>\n",
              "    <tr>\n",
              "      <th>0</th>\n",
              "      <td>2007</td>\n",
              "      <td>27.5</td>\n",
              "    </tr>\n",
              "    <tr>\n",
              "      <th>1</th>\n",
              "      <td>2008</td>\n",
              "      <td>27.5</td>\n",
              "    </tr>\n",
              "    <tr>\n",
              "      <th>2</th>\n",
              "      <td>2009</td>\n",
              "      <td>27.5</td>\n",
              "    </tr>\n",
              "    <tr>\n",
              "      <th>3</th>\n",
              "      <td>2010</td>\n",
              "      <td>27.5</td>\n",
              "    </tr>\n",
              "    <tr>\n",
              "      <th>4</th>\n",
              "      <td>2011</td>\n",
              "      <td>27.5</td>\n",
              "    </tr>\n",
              "  </tbody>\n",
              "</table>\n",
              "</div>"
            ],
            "text/plain": [
              "   Year CAFE MPG\n",
              "0  2007     27.5\n",
              "1  2008     27.5\n",
              "2  2009     27.5\n",
              "3  2010     27.5\n",
              "4  2011     27.5"
            ]
          },
          "metadata": {
            "tags": []
          },
          "execution_count": 12
        }
      ]
    },
    {
      "cell_type": "markdown",
      "metadata": {
        "id": "8pxKUHYm24bv"
      },
      "source": [
        "## Delete All Columns Except..."
      ]
    },
    {
      "cell_type": "code",
      "metadata": {
        "colab": {
          "base_uri": "https://localhost:8080/"
        },
        "id": "vghvoWFmVsgN",
        "outputId": "00251961-f4a7-46b2-c581-c47df69b4e05"
      },
      "source": [
        "# Read in and prep the test data\n",
        "\n",
        "import pandas as pd\n",
        "from datetime import date\n",
        "\n",
        "url = 'https://data.ontario.ca/dataset/1115d5fe-dd84-4c69-b5ed-05bf0c0a0ff9/resource/d1bfe1ad-6575-4352-8302-09ca81f7ddfc/download/cases_by_status_and_phu.csv'\n",
        "df = pd.read_csv(url)\n",
        "df.columns"
      ],
      "execution_count": 13,
      "outputs": [
        {
          "output_type": "execute_result",
          "data": {
            "text/plain": [
              "Index(['FILE_DATE', 'PHU_NAME', 'PHU_NUM', 'ACTIVE_CASES', 'RESOLVED_CASES',\n",
              "       'DEATHS'],\n",
              "      dtype='object')"
            ]
          },
          "metadata": {
            "tags": []
          },
          "execution_count": 13
        }
      ]
    },
    {
      "cell_type": "code",
      "metadata": {
        "colab": {
          "base_uri": "https://localhost:8080/",
          "height": 419
        },
        "id": "vkAEqEMb3FBY",
        "outputId": "46af7a5d-56f0-4699-982d-a4334b0950c8"
      },
      "source": [
        "# We only want to keep 'FILE_DATE' and 'PHU_NAME'\n",
        "# Put the columns you want to keep in the command\n",
        "\n",
        "df = df.drop(df.columns.difference(['FILE_DATE', 'PHU_NAME']), 1)\n",
        "df"
      ],
      "execution_count": 14,
      "outputs": [
        {
          "output_type": "execute_result",
          "data": {
            "text/html": [
              "<div>\n",
              "<style scoped>\n",
              "    .dataframe tbody tr th:only-of-type {\n",
              "        vertical-align: middle;\n",
              "    }\n",
              "\n",
              "    .dataframe tbody tr th {\n",
              "        vertical-align: top;\n",
              "    }\n",
              "\n",
              "    .dataframe thead th {\n",
              "        text-align: right;\n",
              "    }\n",
              "</style>\n",
              "<table border=\"1\" class=\"dataframe\">\n",
              "  <thead>\n",
              "    <tr style=\"text-align: right;\">\n",
              "      <th></th>\n",
              "      <th>FILE_DATE</th>\n",
              "      <th>PHU_NAME</th>\n",
              "    </tr>\n",
              "  </thead>\n",
              "  <tbody>\n",
              "    <tr>\n",
              "      <th>0</th>\n",
              "      <td>2020-04-10</td>\n",
              "      <td>HALIBURTON, KAWARTHA, PINE RIDGE</td>\n",
              "    </tr>\n",
              "    <tr>\n",
              "      <th>1</th>\n",
              "      <td>2020-04-10</td>\n",
              "      <td>HALTON REGION</td>\n",
              "    </tr>\n",
              "    <tr>\n",
              "      <th>2</th>\n",
              "      <td>2020-04-10</td>\n",
              "      <td>HASTINGS &amp; PRINCE EDWARD COUNTIES</td>\n",
              "    </tr>\n",
              "    <tr>\n",
              "      <th>3</th>\n",
              "      <td>2020-04-10</td>\n",
              "      <td>HURON PERTH</td>\n",
              "    </tr>\n",
              "    <tr>\n",
              "      <th>4</th>\n",
              "      <td>2020-04-10</td>\n",
              "      <td>KINGSTON, FRONTENAC, LENNOX &amp; ADDINGTON</td>\n",
              "    </tr>\n",
              "    <tr>\n",
              "      <th>...</th>\n",
              "      <td>...</td>\n",
              "      <td>...</td>\n",
              "    </tr>\n",
              "    <tr>\n",
              "      <th>13969</th>\n",
              "      <td>2021-05-10</td>\n",
              "      <td>TORONTO</td>\n",
              "    </tr>\n",
              "    <tr>\n",
              "      <th>13970</th>\n",
              "      <td>2021-05-10</td>\n",
              "      <td>WATERLOO REGION</td>\n",
              "    </tr>\n",
              "    <tr>\n",
              "      <th>13971</th>\n",
              "      <td>2021-05-10</td>\n",
              "      <td>WELLINGTON-DUFFERIN-GUELPH</td>\n",
              "    </tr>\n",
              "    <tr>\n",
              "      <th>13972</th>\n",
              "      <td>2021-05-10</td>\n",
              "      <td>WINDSOR-ESSEX COUNTY</td>\n",
              "    </tr>\n",
              "    <tr>\n",
              "      <th>13973</th>\n",
              "      <td>2021-05-10</td>\n",
              "      <td>YORK REGION</td>\n",
              "    </tr>\n",
              "  </tbody>\n",
              "</table>\n",
              "<p>13974 rows × 2 columns</p>\n",
              "</div>"
            ],
            "text/plain": [
              "        FILE_DATE                                 PHU_NAME\n",
              "0      2020-04-10         HALIBURTON, KAWARTHA, PINE RIDGE\n",
              "1      2020-04-10                            HALTON REGION\n",
              "2      2020-04-10        HASTINGS & PRINCE EDWARD COUNTIES\n",
              "3      2020-04-10                              HURON PERTH\n",
              "4      2020-04-10  KINGSTON, FRONTENAC, LENNOX & ADDINGTON\n",
              "...           ...                                      ...\n",
              "13969  2021-05-10                                  TORONTO\n",
              "13970  2021-05-10                          WATERLOO REGION\n",
              "13971  2021-05-10               WELLINGTON-DUFFERIN-GUELPH\n",
              "13972  2021-05-10                     WINDSOR-ESSEX COUNTY\n",
              "13973  2021-05-10                              YORK REGION\n",
              "\n",
              "[13974 rows x 2 columns]"
            ]
          },
          "metadata": {
            "tags": []
          },
          "execution_count": 14
        }
      ]
    },
    {
      "cell_type": "markdown",
      "metadata": {
        "id": "bzrkJGpC3-26"
      },
      "source": [
        "# Editing Headings"
      ]
    },
    {
      "cell_type": "markdown",
      "metadata": {
        "id": "JchszspL4K-9"
      },
      "source": [
        "Often we don't like the way the headings look when we import them. Here are some typical fixes you might want to make."
      ]
    },
    {
      "cell_type": "code",
      "metadata": {
        "colab": {
          "base_uri": "https://localhost:8080/"
        },
        "id": "LEmHgoIB4MI6",
        "outputId": "e0158cfb-55e2-4bcc-c513-ad9a1cb01b98"
      },
      "source": [
        "# Read in and prep the test data\n",
        "\n",
        "import pandas as pd\n",
        "\n",
        "url = 'https://data.ontario.ca/dataset/1115d5fe-dd84-4c69-b5ed-05bf0c0a0ff9/resource/d1bfe1ad-6575-4352-8302-09ca81f7ddfc/download/cases_by_status_and_phu.csv'\n",
        "df = pd.read_csv(url)\n",
        "df.columns"
      ],
      "execution_count": 15,
      "outputs": [
        {
          "output_type": "execute_result",
          "data": {
            "text/plain": [
              "Index(['FILE_DATE', 'PHU_NAME', 'PHU_NUM', 'ACTIVE_CASES', 'RESOLVED_CASES',\n",
              "       'DEATHS'],\n",
              "      dtype='object')"
            ]
          },
          "metadata": {
            "tags": []
          },
          "execution_count": 15
        }
      ]
    },
    {
      "cell_type": "markdown",
      "metadata": {
        "id": "QjFooO657W6Y"
      },
      "source": [
        "## Replace Characters"
      ]
    },
    {
      "cell_type": "code",
      "metadata": {
        "colab": {
          "base_uri": "https://localhost:8080/"
        },
        "id": "o_JGdBPN4X8k",
        "outputId": "946c290b-8113-4b4e-b2a4-f2d5e2324edc"
      },
      "source": [
        "# Let's replace all the underscores with spaces\n",
        "\n",
        "df.columns = df.columns.str.replace('_', ' ')\n",
        "df.columns"
      ],
      "execution_count": 16,
      "outputs": [
        {
          "output_type": "execute_result",
          "data": {
            "text/plain": [
              "Index(['FILE DATE', 'PHU NAME', 'PHU NUM', 'ACTIVE CASES', 'RESOLVED CASES',\n",
              "       'DEATHS'],\n",
              "      dtype='object')"
            ]
          },
          "metadata": {
            "tags": []
          },
          "execution_count": 16
        }
      ]
    },
    {
      "cell_type": "markdown",
      "metadata": {
        "id": "RLA8Kd8L7am0"
      },
      "source": [
        "## Change Case"
      ]
    },
    {
      "cell_type": "code",
      "metadata": {
        "colab": {
          "base_uri": "https://localhost:8080/"
        },
        "id": "UQWfykRO4oIR",
        "outputId": "84a5f580-2d73-46d1-d65a-b17611bfe88e"
      },
      "source": [
        "# title case\n",
        "\n",
        "df.columns = df.columns.str.title()\n",
        "df.columns"
      ],
      "execution_count": 17,
      "outputs": [
        {
          "output_type": "execute_result",
          "data": {
            "text/plain": [
              "Index(['File Date', 'Phu Name', 'Phu Num', 'Active Cases', 'Resolved Cases',\n",
              "       'Deaths'],\n",
              "      dtype='object')"
            ]
          },
          "metadata": {
            "tags": []
          },
          "execution_count": 17
        }
      ]
    },
    {
      "cell_type": "code",
      "metadata": {
        "colab": {
          "base_uri": "https://localhost:8080/"
        },
        "id": "TrCqs-Gf5KXQ",
        "outputId": "aafb372f-7109-4876-fbd8-d69695d6af6f"
      },
      "source": [
        "# upper case\n",
        "\n",
        "df.columns = df.columns.str.upper() # see also lower()\n",
        "df.columns"
      ],
      "execution_count": 18,
      "outputs": [
        {
          "output_type": "execute_result",
          "data": {
            "text/plain": [
              "Index(['FILE DATE', 'PHU NAME', 'PHU NUM', 'ACTIVE CASES', 'RESOLVED CASES',\n",
              "       'DEATHS'],\n",
              "      dtype='object')"
            ]
          },
          "metadata": {
            "tags": []
          },
          "execution_count": 18
        }
      ]
    },
    {
      "cell_type": "markdown",
      "metadata": {
        "id": "UPKo9UN07hb_"
      },
      "source": [
        "## Renaming One Heading"
      ]
    },
    {
      "cell_type": "code",
      "metadata": {
        "colab": {
          "base_uri": "https://localhost:8080/"
        },
        "id": "H0Zvp5TH5wjq",
        "outputId": "0840f083-4d52-4439-8718-30623eebb920"
      },
      "source": [
        "# renaming one heading\n",
        "# not very friendly syntax\n",
        "# note inplace=True\n",
        "\n",
        "df.rename(columns={'FILE DATE': 'DATE'}, inplace=True)\n",
        "df.columns"
      ],
      "execution_count": 19,
      "outputs": [
        {
          "output_type": "execute_result",
          "data": {
            "text/plain": [
              "Index(['DATE', 'PHU NAME', 'PHU NUM', 'ACTIVE CASES', 'RESOLVED CASES',\n",
              "       'DEATHS'],\n",
              "      dtype='object')"
            ]
          },
          "metadata": {
            "tags": []
          },
          "execution_count": 19
        }
      ]
    },
    {
      "cell_type": "markdown",
      "metadata": {
        "id": "lavIZzHC7k8x"
      },
      "source": [
        "## Renaming Multiple Headings"
      ]
    },
    {
      "cell_type": "code",
      "metadata": {
        "colab": {
          "base_uri": "https://localhost:8080/"
        },
        "id": "wwJ1i3ES5_t0",
        "outputId": "53a29db5-36f5-47b4-f2a5-4f5b95efa40f"
      },
      "source": [
        "# renaming multiple headings\n",
        "\n",
        "df.rename(columns={'PHU NAME': 'REGION',\n",
        "                   'PHU NUM': 'NUMBER'}, inplace=True)\n",
        "df.columns"
      ],
      "execution_count": 20,
      "outputs": [
        {
          "output_type": "execute_result",
          "data": {
            "text/plain": [
              "Index(['DATE', 'REGION', 'NUMBER', 'ACTIVE CASES', 'RESOLVED CASES', 'DEATHS'], dtype='object')"
            ]
          },
          "metadata": {
            "tags": []
          },
          "execution_count": 20
        }
      ]
    },
    {
      "cell_type": "code",
      "metadata": {
        "colab": {
          "base_uri": "https://localhost:8080/",
          "height": 204
        },
        "id": "gfu-U_sm7utS",
        "outputId": "3728e0ed-d357-4f83-e609-b2398fcf58d2"
      },
      "source": [
        "df.head()"
      ],
      "execution_count": 21,
      "outputs": [
        {
          "output_type": "execute_result",
          "data": {
            "text/html": [
              "<div>\n",
              "<style scoped>\n",
              "    .dataframe tbody tr th:only-of-type {\n",
              "        vertical-align: middle;\n",
              "    }\n",
              "\n",
              "    .dataframe tbody tr th {\n",
              "        vertical-align: top;\n",
              "    }\n",
              "\n",
              "    .dataframe thead th {\n",
              "        text-align: right;\n",
              "    }\n",
              "</style>\n",
              "<table border=\"1\" class=\"dataframe\">\n",
              "  <thead>\n",
              "    <tr style=\"text-align: right;\">\n",
              "      <th></th>\n",
              "      <th>DATE</th>\n",
              "      <th>REGION</th>\n",
              "      <th>NUMBER</th>\n",
              "      <th>ACTIVE CASES</th>\n",
              "      <th>RESOLVED CASES</th>\n",
              "      <th>DEATHS</th>\n",
              "    </tr>\n",
              "  </thead>\n",
              "  <tbody>\n",
              "    <tr>\n",
              "      <th>0</th>\n",
              "      <td>2020-04-10</td>\n",
              "      <td>HALIBURTON, KAWARTHA, PINE RIDGE</td>\n",
              "      <td>2235.0</td>\n",
              "      <td>23</td>\n",
              "      <td>69</td>\n",
              "      <td>18</td>\n",
              "    </tr>\n",
              "    <tr>\n",
              "      <th>1</th>\n",
              "      <td>2020-04-10</td>\n",
              "      <td>HALTON REGION</td>\n",
              "      <td>2236.0</td>\n",
              "      <td>112</td>\n",
              "      <td>137</td>\n",
              "      <td>9</td>\n",
              "    </tr>\n",
              "    <tr>\n",
              "      <th>2</th>\n",
              "      <td>2020-04-10</td>\n",
              "      <td>HASTINGS &amp; PRINCE EDWARD COUNTIES</td>\n",
              "      <td>2238.0</td>\n",
              "      <td>12</td>\n",
              "      <td>11</td>\n",
              "      <td>1</td>\n",
              "    </tr>\n",
              "    <tr>\n",
              "      <th>3</th>\n",
              "      <td>2020-04-10</td>\n",
              "      <td>HURON PERTH</td>\n",
              "      <td>5183.0</td>\n",
              "      <td>20</td>\n",
              "      <td>8</td>\n",
              "      <td>1</td>\n",
              "    </tr>\n",
              "    <tr>\n",
              "      <th>4</th>\n",
              "      <td>2020-04-10</td>\n",
              "      <td>KINGSTON, FRONTENAC, LENNOX &amp; ADDINGTON</td>\n",
              "      <td>2241.0</td>\n",
              "      <td>13</td>\n",
              "      <td>39</td>\n",
              "      <td>0</td>\n",
              "    </tr>\n",
              "  </tbody>\n",
              "</table>\n",
              "</div>"
            ],
            "text/plain": [
              "         DATE                                   REGION  ...  RESOLVED CASES  DEATHS\n",
              "0  2020-04-10         HALIBURTON, KAWARTHA, PINE RIDGE  ...              69      18\n",
              "1  2020-04-10                            HALTON REGION  ...             137       9\n",
              "2  2020-04-10        HASTINGS & PRINCE EDWARD COUNTIES  ...              11       1\n",
              "3  2020-04-10                              HURON PERTH  ...               8       1\n",
              "4  2020-04-10  KINGSTON, FRONTENAC, LENNOX & ADDINGTON  ...              39       0\n",
              "\n",
              "[5 rows x 6 columns]"
            ]
          },
          "metadata": {
            "tags": []
          },
          "execution_count": 21
        }
      ]
    },
    {
      "cell_type": "markdown",
      "metadata": {
        "id": "l-tV-TwLWk5h"
      },
      "source": [
        "# Filtering Data"
      ]
    },
    {
      "cell_type": "markdown",
      "metadata": {
        "id": "pW3_esMaWxIZ"
      },
      "source": [
        "Often we only want to work with a subset of the data. Here's an example of how to filter your data. We'll concentrate on one day and only the largest values of ACTIVE_CASES."
      ]
    },
    {
      "cell_type": "code",
      "metadata": {
        "colab": {
          "base_uri": "https://localhost:8080/",
          "height": 419
        },
        "id": "4Nl3tYGA8pIK",
        "outputId": "6e64a7a9-297b-4e18-f782-d349a592e434"
      },
      "source": [
        "# Read in and prep the test data\n",
        "# This is Ontario's active COVID data, by region\n",
        "\n",
        "import pandas as pd\n",
        "\n",
        "url = 'https://data.ontario.ca/dataset/1115d5fe-dd84-4c69-b5ed-05bf0c0a0ff9/resource/d1bfe1ad-6575-4352-8302-09ca81f7ddfc/download/cases_by_status_and_phu.csv'\n",
        "df = pd.read_csv(url)\n",
        "df"
      ],
      "execution_count": 22,
      "outputs": [
        {
          "output_type": "execute_result",
          "data": {
            "text/html": [
              "<div>\n",
              "<style scoped>\n",
              "    .dataframe tbody tr th:only-of-type {\n",
              "        vertical-align: middle;\n",
              "    }\n",
              "\n",
              "    .dataframe tbody tr th {\n",
              "        vertical-align: top;\n",
              "    }\n",
              "\n",
              "    .dataframe thead th {\n",
              "        text-align: right;\n",
              "    }\n",
              "</style>\n",
              "<table border=\"1\" class=\"dataframe\">\n",
              "  <thead>\n",
              "    <tr style=\"text-align: right;\">\n",
              "      <th></th>\n",
              "      <th>FILE_DATE</th>\n",
              "      <th>PHU_NAME</th>\n",
              "      <th>PHU_NUM</th>\n",
              "      <th>ACTIVE_CASES</th>\n",
              "      <th>RESOLVED_CASES</th>\n",
              "      <th>DEATHS</th>\n",
              "    </tr>\n",
              "  </thead>\n",
              "  <tbody>\n",
              "    <tr>\n",
              "      <th>0</th>\n",
              "      <td>2020-04-10</td>\n",
              "      <td>HALIBURTON, KAWARTHA, PINE RIDGE</td>\n",
              "      <td>2235.0</td>\n",
              "      <td>23</td>\n",
              "      <td>69</td>\n",
              "      <td>18</td>\n",
              "    </tr>\n",
              "    <tr>\n",
              "      <th>1</th>\n",
              "      <td>2020-04-10</td>\n",
              "      <td>HALTON REGION</td>\n",
              "      <td>2236.0</td>\n",
              "      <td>112</td>\n",
              "      <td>137</td>\n",
              "      <td>9</td>\n",
              "    </tr>\n",
              "    <tr>\n",
              "      <th>2</th>\n",
              "      <td>2020-04-10</td>\n",
              "      <td>HASTINGS &amp; PRINCE EDWARD COUNTIES</td>\n",
              "      <td>2238.0</td>\n",
              "      <td>12</td>\n",
              "      <td>11</td>\n",
              "      <td>1</td>\n",
              "    </tr>\n",
              "    <tr>\n",
              "      <th>3</th>\n",
              "      <td>2020-04-10</td>\n",
              "      <td>HURON PERTH</td>\n",
              "      <td>5183.0</td>\n",
              "      <td>20</td>\n",
              "      <td>8</td>\n",
              "      <td>1</td>\n",
              "    </tr>\n",
              "    <tr>\n",
              "      <th>4</th>\n",
              "      <td>2020-04-10</td>\n",
              "      <td>KINGSTON, FRONTENAC, LENNOX &amp; ADDINGTON</td>\n",
              "      <td>2241.0</td>\n",
              "      <td>13</td>\n",
              "      <td>39</td>\n",
              "      <td>0</td>\n",
              "    </tr>\n",
              "    <tr>\n",
              "      <th>...</th>\n",
              "      <td>...</td>\n",
              "      <td>...</td>\n",
              "      <td>...</td>\n",
              "      <td>...</td>\n",
              "      <td>...</td>\n",
              "      <td>...</td>\n",
              "    </tr>\n",
              "    <tr>\n",
              "      <th>13969</th>\n",
              "      <td>2021-05-10</td>\n",
              "      <td>TORONTO</td>\n",
              "      <td>3895.0</td>\n",
              "      <td>10643</td>\n",
              "      <td>138275</td>\n",
              "      <td>3164</td>\n",
              "    </tr>\n",
              "    <tr>\n",
              "      <th>13970</th>\n",
              "      <td>2021-05-10</td>\n",
              "      <td>WATERLOO REGION</td>\n",
              "      <td>2265.0</td>\n",
              "      <td>453</td>\n",
              "      <td>14094</td>\n",
              "      <td>254</td>\n",
              "    </tr>\n",
              "    <tr>\n",
              "      <th>13971</th>\n",
              "      <td>2021-05-10</td>\n",
              "      <td>WELLINGTON-DUFFERIN-GUELPH</td>\n",
              "      <td>2266.0</td>\n",
              "      <td>433</td>\n",
              "      <td>6911</td>\n",
              "      <td>110</td>\n",
              "    </tr>\n",
              "    <tr>\n",
              "      <th>13972</th>\n",
              "      <td>2021-05-10</td>\n",
              "      <td>WINDSOR-ESSEX COUNTY</td>\n",
              "      <td>2268.0</td>\n",
              "      <td>360</td>\n",
              "      <td>15050</td>\n",
              "      <td>420</td>\n",
              "    </tr>\n",
              "    <tr>\n",
              "      <th>13973</th>\n",
              "      <td>2021-05-10</td>\n",
              "      <td>YORK REGION</td>\n",
              "      <td>2270.0</td>\n",
              "      <td>2319</td>\n",
              "      <td>45870</td>\n",
              "      <td>688</td>\n",
              "    </tr>\n",
              "  </tbody>\n",
              "</table>\n",
              "<p>13974 rows × 6 columns</p>\n",
              "</div>"
            ],
            "text/plain": [
              "        FILE_DATE  ... DEATHS\n",
              "0      2020-04-10  ...     18\n",
              "1      2020-04-10  ...      9\n",
              "2      2020-04-10  ...      1\n",
              "3      2020-04-10  ...      1\n",
              "4      2020-04-10  ...      0\n",
              "...           ...  ...    ...\n",
              "13969  2021-05-10  ...   3164\n",
              "13970  2021-05-10  ...    254\n",
              "13971  2021-05-10  ...    110\n",
              "13972  2021-05-10  ...    420\n",
              "13973  2021-05-10  ...    688\n",
              "\n",
              "[13974 rows x 6 columns]"
            ]
          },
          "metadata": {
            "tags": []
          },
          "execution_count": 22
        }
      ]
    },
    {
      "cell_type": "code",
      "metadata": {
        "colab": {
          "base_uri": "https://localhost:8080/",
          "height": 328
        },
        "id": "fNb4qyQJXAtJ",
        "outputId": "fab4eb2d-a622-4ddb-c899-c9560cd2d183"
      },
      "source": [
        "# First we configure the filter, then we use is in the dataframe\n",
        "# The boolean expressions are <, <=, >, >=, ==, and !=\n",
        "# This example puts the filtered data in a new dataframe (today_df). \n",
        "#     This isn't necessary.\n",
        "\n",
        "filt = (df['FILE_DATE'] == '2021-05-01') & (df['ACTIVE_CASES'] > 1000)\n",
        "today_df = df[filt].sort_values('ACTIVE_CASES', ascending=False) # note new dataframe name\n",
        "today_df"
      ],
      "execution_count": 23,
      "outputs": [
        {
          "output_type": "execute_result",
          "data": {
            "text/html": [
              "<div>\n",
              "<style scoped>\n",
              "    .dataframe tbody tr th:only-of-type {\n",
              "        vertical-align: middle;\n",
              "    }\n",
              "\n",
              "    .dataframe tbody tr th {\n",
              "        vertical-align: top;\n",
              "    }\n",
              "\n",
              "    .dataframe thead th {\n",
              "        text-align: right;\n",
              "    }\n",
              "</style>\n",
              "<table border=\"1\" class=\"dataframe\">\n",
              "  <thead>\n",
              "    <tr style=\"text-align: right;\">\n",
              "      <th></th>\n",
              "      <th>FILE_DATE</th>\n",
              "      <th>PHU_NAME</th>\n",
              "      <th>PHU_NUM</th>\n",
              "      <th>ACTIVE_CASES</th>\n",
              "      <th>RESOLVED_CASES</th>\n",
              "      <th>DEATHS</th>\n",
              "    </tr>\n",
              "  </thead>\n",
              "  <tbody>\n",
              "    <tr>\n",
              "      <th>13663</th>\n",
              "      <td>2021-05-01</td>\n",
              "      <td>TORONTO</td>\n",
              "      <td>3895.0</td>\n",
              "      <td>12425</td>\n",
              "      <td>128342</td>\n",
              "      <td>3049</td>\n",
              "    </tr>\n",
              "    <tr>\n",
              "      <th>13655</th>\n",
              "      <td>2021-05-01</td>\n",
              "      <td>PEEL REGION</td>\n",
              "      <td>2253.0</td>\n",
              "      <td>8629</td>\n",
              "      <td>83337</td>\n",
              "      <td>691</td>\n",
              "    </tr>\n",
              "    <tr>\n",
              "      <th>13667</th>\n",
              "      <td>2021-05-01</td>\n",
              "      <td>YORK REGION</td>\n",
              "      <td>2270.0</td>\n",
              "      <td>3289</td>\n",
              "      <td>42232</td>\n",
              "      <td>665</td>\n",
              "    </tr>\n",
              "    <tr>\n",
              "      <th>13638</th>\n",
              "      <td>2021-05-01</td>\n",
              "      <td>CITY OF OTTAWA</td>\n",
              "      <td>2251.0</td>\n",
              "      <td>2162</td>\n",
              "      <td>21633</td>\n",
              "      <td>507</td>\n",
              "    </tr>\n",
              "    <tr>\n",
              "      <th>13639</th>\n",
              "      <td>2021-05-01</td>\n",
              "      <td>DURHAM REGION</td>\n",
              "      <td>2230.0</td>\n",
              "      <td>1752</td>\n",
              "      <td>18637</td>\n",
              "      <td>338</td>\n",
              "    </tr>\n",
              "    <tr>\n",
              "      <th>13651</th>\n",
              "      <td>2021-05-01</td>\n",
              "      <td>NIAGARA REGION</td>\n",
              "      <td>2246.0</td>\n",
              "      <td>1432</td>\n",
              "      <td>11983</td>\n",
              "      <td>394</td>\n",
              "    </tr>\n",
              "    <tr>\n",
              "      <th>13644</th>\n",
              "      <td>2021-05-01</td>\n",
              "      <td>HALTON REGION</td>\n",
              "      <td>2236.0</td>\n",
              "      <td>1270</td>\n",
              "      <td>13135</td>\n",
              "      <td>211</td>\n",
              "    </tr>\n",
              "    <tr>\n",
              "      <th>13637</th>\n",
              "      <td>2021-05-01</td>\n",
              "      <td>CITY OF HAMILTON</td>\n",
              "      <td>2237.0</td>\n",
              "      <td>1087</td>\n",
              "      <td>15783</td>\n",
              "      <td>360</td>\n",
              "    </tr>\n",
              "    <tr>\n",
              "      <th>13650</th>\n",
              "      <td>2021-05-01</td>\n",
              "      <td>MIDDLESEX-LONDON</td>\n",
              "      <td>2244.0</td>\n",
              "      <td>1022</td>\n",
              "      <td>9254</td>\n",
              "      <td>200</td>\n",
              "    </tr>\n",
              "  </tbody>\n",
              "</table>\n",
              "</div>"
            ],
            "text/plain": [
              "        FILE_DATE          PHU_NAME  ...  RESOLVED_CASES  DEATHS\n",
              "13663  2021-05-01           TORONTO  ...          128342    3049\n",
              "13655  2021-05-01       PEEL REGION  ...           83337     691\n",
              "13667  2021-05-01       YORK REGION  ...           42232     665\n",
              "13638  2021-05-01    CITY OF OTTAWA  ...           21633     507\n",
              "13639  2021-05-01     DURHAM REGION  ...           18637     338\n",
              "13651  2021-05-01    NIAGARA REGION  ...           11983     394\n",
              "13644  2021-05-01     HALTON REGION  ...           13135     211\n",
              "13637  2021-05-01  CITY OF HAMILTON  ...           15783     360\n",
              "13650  2021-05-01  MIDDLESEX-LONDON  ...            9254     200\n",
              "\n",
              "[9 rows x 6 columns]"
            ]
          },
          "metadata": {
            "tags": []
          },
          "execution_count": 23
        }
      ]
    },
    {
      "cell_type": "code",
      "metadata": {
        "colab": {
          "base_uri": "https://localhost:8080/",
          "height": 392
        },
        "id": "NDOJSepoXRir",
        "outputId": "ff9a7e07-1c7b-4592-c6be-1bcd168a792e"
      },
      "source": [
        "# Confirm with a plot!\n",
        "\n",
        "today_df.plot(kind='bar', # also try barh\n",
        "        x='PHU_NAME',\n",
        "        y='ACTIVE_CASES')"
      ],
      "execution_count": 24,
      "outputs": [
        {
          "output_type": "execute_result",
          "data": {
            "text/plain": [
              "<matplotlib.axes._subplots.AxesSubplot at 0x7f646a7c8990>"
            ]
          },
          "metadata": {
            "tags": []
          },
          "execution_count": 24
        },
        {
          "output_type": "display_data",
          "data": {
            "image/png": "[encoded data removed]",
            "text/plain": [
              "<Figure size 432x288 with 1 Axes>"
            ]
          },
          "metadata": {
            "tags": [],
            "needs_background": "light"
          }
        }
      ]
    },
    {
      "cell_type": "markdown",
      "metadata": {
        "id": "bqOuUjbfhV71"
      },
      "source": [
        "# Plotting\n"
      ]
    },
    {
      "cell_type": "markdown",
      "metadata": {
        "id": "_1WcCdRPhZnt"
      },
      "source": [
        "## Evenly Spaced Dates on X-Axis"
      ]
    },
    {
      "cell_type": "code",
      "metadata": {
        "id": "mkcltI_9lD4H"
      },
      "source": [
        "# Read in and prep the test data\n",
        "# This is Ontario's vaccine data\n",
        "\n",
        "import pandas as pd\n",
        "url = 'https://data.ontario.ca/dataset/752ce2b7-c15a-4965-a3dc-397bf405e7cc/resource/8a89caa9-511c-4568-af89-7f2174b4378c/download/vaccine_doses.csv'\n",
        "df = pd.read_csv(url)\n",
        "\n",
        "# the dates aren't in date format so we need to fix that\n",
        "df['report_date'] = pd.to_datetime(df['report_date'])"
      ],
      "execution_count": 25,
      "outputs": []
    },
    {
      "cell_type": "code",
      "metadata": {
        "colab": {
          "base_uri": "https://localhost:8080/",
          "height": 302
        },
        "id": "KpYIgZZ8lnWM",
        "outputId": "f2451a00-aabf-4cb2-df61-515813578a9d"
      },
      "source": [
        "# By default the x-axis ticks on this plot are spaced unevenly. See how we fix\n",
        "# that in the next cell.\n",
        "\n",
        "plot = df.plot(kind='line',\n",
        "               x='report_date',\n",
        "               y='total_doses_administered',\n",
        "               title=\"BAD PLOT\") "
      ],
      "execution_count": 26,
      "outputs": [
        {
          "output_type": "display_data",
          "data": {
            "image/png": "[encoded data removed]",
            "text/plain": [
              "<Figure size 432x288 with 1 Axes>"
            ]
          },
          "metadata": {
            "tags": [],
            "needs_background": "light"
          }
        }
      ]
    },
    {
      "cell_type": "code",
      "metadata": {
        "colab": {
          "base_uri": "https://localhost:8080/",
          "height": 302
        },
        "id": "L9YbqinplyzI",
        "outputId": "bc1f0a9b-9311-4c8e-8bed-96fd2ede15bd"
      },
      "source": [
        "# First, we create a list of the x-ticks we want. 'MS' means beginning of month.\n",
        "dateIndex = pd.date_range(start='2020-12-1', end='2021-6-1', freq='MS')\n",
        "\n",
        "# Then we tell the plot we want to use that list for the xticks:\n",
        "plot = df.plot(kind='line',\n",
        "               x='report_date',\n",
        "               y='total_doses_administered',  \n",
        "               xticks=dateIndex,  # this line was added\n",
        "               title='FIXED PLOT')"
      ],
      "execution_count": 27,
      "outputs": [
        {
          "output_type": "display_data",
          "data": {
            "image/png": "[encoded data removed]",
            "text/plain": [
              "<Figure size 432x288 with 1 Axes>"
            ]
          },
          "metadata": {
            "tags": [],
            "needs_background": "light"
          }
        }
      ]
    },
    {
      "cell_type": "markdown",
      "metadata": {
        "id": "b0oLFz8lnjLg"
      },
      "source": [
        "---\n",
        "The short URL of this notebook on Colab is https://is.gd/VJTlyg.\n"
      ]
    }
  ]
}