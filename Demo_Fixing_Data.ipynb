{
  "nbformat": 4,
  "nbformat_minor": 0,
  "metadata": {
    "colab": {
      "name": "Demo - Fixing Data.ipynb",
      "provenance": [],
      "collapsed_sections": [],
      "toc_visible": true,
      "authorship_tag": "ABX9TyPVhxrXfI94UI7Rm5yyCiEh",
      "include_colab_link": true
    },
    "kernelspec": {
      "name": "python3",
      "display_name": "Python 3"
    },
    "language_info": {
      "name": "python"
    }
  },
  "cells": [
    {
      "cell_type": "markdown",
      "metadata": {
        "id": "view-in-github",
        "colab_type": "text"
      },
      "source": [
        "<a href=\"https://colab.research.google.com/github/pbeens/OTF-Data-Analysis-2021-05/blob/main/Demo_Fixing_Data.ipynb\" target=\"_parent\"><img src=\"https://colab.research.google.com/assets/colab-badge.svg\" alt=\"Open In Colab\"/></a>"
      ]
    },
    {
      "cell_type": "markdown",
      "metadata": {
        "id": "ukh14rYvP5wL"
      },
      "source": [
        "**If you open this document in Colab, use the Table of Contents on the left to go directly to the section you are interested in.**"
      ]
    },
    {
      "cell_type": "markdown",
      "metadata": {
        "id": "lgY8DrHlMPWo"
      },
      "source": [
        "# Deleting Rows"
      ]
    },
    {
      "cell_type": "markdown",
      "metadata": {
        "id": "5NH2SIsdMZR9"
      },
      "source": [
        "This data has an extra row at the bottom that needs to be removed."
      ]
    },
    {
      "cell_type": "code",
      "metadata": {
        "colab": {
          "base_uri": "https://localhost:8080/",
          "height": 235
        },
        "id": "bRe9tWdXMTOP",
        "outputId": "d719a5ee-5324-4912-a1b5-0a3475fbd908"
      },
      "source": [
        "# Read in and prep the test data\n",
        "# The data is a partial extract from https://dieselnet.com/standards/us/fe.php\n",
        "# Observation: The last line is not needed and needs to be deleted\n",
        "\n",
        "import pandas as pd\n",
        "\n",
        "url = 'https://raw.githubusercontent.com/pbeens/OTF-Data-Analysis-2021-05/main/datafiles/bad_cafe_data.csv'\n",
        "\n",
        "df = pd.read_csv(url)\n",
        "df"
      ],
      "execution_count": 1,
      "outputs": [
        {
          "output_type": "execute_result",
          "data": {
            "text/html": [
              "<div>\n",
              "<style scoped>\n",
              "    .dataframe tbody tr th:only-of-type {\n",
              "        vertical-align: middle;\n",
              "    }\n",
              "\n",
              "    .dataframe tbody tr th {\n",
              "        vertical-align: top;\n",
              "    }\n",
              "\n",
              "    .dataframe thead th {\n",
              "        text-align: right;\n",
              "    }\n",
              "</style>\n",
              "<table border=\"1\" class=\"dataframe\">\n",
              "  <thead>\n",
              "    <tr style=\"text-align: right;\">\n",
              "      <th></th>\n",
              "      <th>Year</th>\n",
              "      <th>CAFE MPG</th>\n",
              "      <th>All Light Trucks CAFE MPG</th>\n",
              "    </tr>\n",
              "  </thead>\n",
              "  <tbody>\n",
              "    <tr>\n",
              "      <th>0</th>\n",
              "      <td>2007</td>\n",
              "      <td>27.5</td>\n",
              "      <td>22.2</td>\n",
              "    </tr>\n",
              "    <tr>\n",
              "      <th>1</th>\n",
              "      <td>2008</td>\n",
              "      <td>27.5</td>\n",
              "      <td>22.5</td>\n",
              "    </tr>\n",
              "    <tr>\n",
              "      <th>2</th>\n",
              "      <td>2009</td>\n",
              "      <td>27.5</td>\n",
              "      <td>23.1</td>\n",
              "    </tr>\n",
              "    <tr>\n",
              "      <th>3</th>\n",
              "      <td>2010</td>\n",
              "      <td>27.5</td>\n",
              "      <td>23.5</td>\n",
              "    </tr>\n",
              "    <tr>\n",
              "      <th>4</th>\n",
              "      <td>2011</td>\n",
              "      <td>27.5</td>\n",
              "      <td>a</td>\n",
              "    </tr>\n",
              "    <tr>\n",
              "      <th>5</th>\n",
              "      <td>a Reformed CAFE standards</td>\n",
              "      <td>a Reformed CAFE standards</td>\n",
              "      <td>a Reformed CAFE standards</td>\n",
              "    </tr>\n",
              "  </tbody>\n",
              "</table>\n",
              "</div>"
            ],
            "text/plain": [
              "                        Year  ...  All Light Trucks CAFE MPG\n",
              "0                       2007  ...                       22.2\n",
              "1                       2008  ...                       22.5\n",
              "2                       2009  ...                       23.1\n",
              "3                       2010  ...                       23.5\n",
              "4                       2011  ...                          a\n",
              "5  a Reformed CAFE standards  ...  a Reformed CAFE standards\n",
              "\n",
              "[6 rows x 3 columns]"
            ]
          },
          "metadata": {
            "tags": []
          },
          "execution_count": 1
        }
      ]
    },
    {
      "cell_type": "code",
      "metadata": {
        "colab": {
          "base_uri": "https://localhost:8080/",
          "height": 204
        },
        "id": "fRgYWkXvMysY",
        "outputId": "bc1b5e4f-e033-4aba-8fd7-0ca34d71a0f6"
      },
      "source": [
        "# Let's use slicing to only keep the lines we want (0-4).\n",
        "# For more info on slicing, see https://realpython.com/lessons/indexing-and-slicing/\n",
        "\n",
        "df = df[:-1] \n",
        "df"
      ],
      "execution_count": 2,
      "outputs": [
        {
          "output_type": "execute_result",
          "data": {
            "text/html": [
              "<div>\n",
              "<style scoped>\n",
              "    .dataframe tbody tr th:only-of-type {\n",
              "        vertical-align: middle;\n",
              "    }\n",
              "\n",
              "    .dataframe tbody tr th {\n",
              "        vertical-align: top;\n",
              "    }\n",
              "\n",
              "    .dataframe thead th {\n",
              "        text-align: right;\n",
              "    }\n",
              "</style>\n",
              "<table border=\"1\" class=\"dataframe\">\n",
              "  <thead>\n",
              "    <tr style=\"text-align: right;\">\n",
              "      <th></th>\n",
              "      <th>Year</th>\n",
              "      <th>CAFE MPG</th>\n",
              "      <th>All Light Trucks CAFE MPG</th>\n",
              "    </tr>\n",
              "  </thead>\n",
              "  <tbody>\n",
              "    <tr>\n",
              "      <th>0</th>\n",
              "      <td>2007</td>\n",
              "      <td>27.5</td>\n",
              "      <td>22.2</td>\n",
              "    </tr>\n",
              "    <tr>\n",
              "      <th>1</th>\n",
              "      <td>2008</td>\n",
              "      <td>27.5</td>\n",
              "      <td>22.5</td>\n",
              "    </tr>\n",
              "    <tr>\n",
              "      <th>2</th>\n",
              "      <td>2009</td>\n",
              "      <td>27.5</td>\n",
              "      <td>23.1</td>\n",
              "    </tr>\n",
              "    <tr>\n",
              "      <th>3</th>\n",
              "      <td>2010</td>\n",
              "      <td>27.5</td>\n",
              "      <td>23.5</td>\n",
              "    </tr>\n",
              "    <tr>\n",
              "      <th>4</th>\n",
              "      <td>2011</td>\n",
              "      <td>27.5</td>\n",
              "      <td>a</td>\n",
              "    </tr>\n",
              "  </tbody>\n",
              "</table>\n",
              "</div>"
            ],
            "text/plain": [
              "   Year CAFE MPG All Light Trucks CAFE MPG\n",
              "0  2007     27.5                      22.2\n",
              "1  2008     27.5                      22.5\n",
              "2  2009     27.5                      23.1\n",
              "3  2010     27.5                      23.5\n",
              "4  2011     27.5                         a"
            ]
          },
          "metadata": {
            "tags": []
          },
          "execution_count": 2
        }
      ]
    },
    {
      "cell_type": "markdown",
      "metadata": {
        "id": "vNciNNZjR3Am"
      },
      "source": [
        "# Replacing Specific Data"
      ]
    },
    {
      "cell_type": "markdown",
      "metadata": {
        "id": "mHkGHAjnSKiN"
      },
      "source": [
        "This example shows corrupt data that needs to be manually replaced."
      ]
    },
    {
      "cell_type": "code",
      "metadata": {
        "colab": {
          "base_uri": "https://localhost:8080/",
          "height": 450
        },
        "id": "xT_HYRtCR_XS",
        "outputId": "91c4747d-e1ac-4668-fbf4-69ba4a9a99d9"
      },
      "source": [
        "# Read in and prep the test data\n",
        "# Observation: \"Earth\" in the name column is \"Earth(a)\" and has to be replaced.\n",
        "\n",
        "url = 'https://en.wikipedia.org/wiki/Planet'\n",
        "\n",
        "df_list_of_tables = pd.read_html(url) \n",
        "df = df_list_of_tables[7] # enter the index number of the table\n",
        "\n",
        "df"
      ],
      "execution_count": 3,
      "outputs": [
        {
          "output_type": "execute_result",
          "data": {
            "text/html": [
              "<div>\n",
              "<style scoped>\n",
              "    .dataframe tbody tr th:only-of-type {\n",
              "        vertical-align: middle;\n",
              "    }\n",
              "\n",
              "    .dataframe tbody tr th {\n",
              "        vertical-align: top;\n",
              "    }\n",
              "\n",
              "    .dataframe thead th {\n",
              "        text-align: right;\n",
              "    }\n",
              "</style>\n",
              "<table border=\"1\" class=\"dataframe\">\n",
              "  <thead>\n",
              "    <tr style=\"text-align: right;\">\n",
              "      <th></th>\n",
              "      <th>Unnamed: 0</th>\n",
              "      <th>Name</th>\n",
              "      <th>Equatorialdiameter [i]</th>\n",
              "      <th>Mass [i]</th>\n",
              "      <th>Semi-major axis (AU)</th>\n",
              "      <th>Orbital period(years)</th>\n",
              "      <th>Inclinationto Sun's equator (°)</th>\n",
              "      <th>Orbitaleccentricity</th>\n",
              "      <th>Rotation period(days)</th>\n",
              "      <th>Confirmedmoons</th>\n",
              "      <th>Axial tilt (°)</th>\n",
              "      <th>Rings</th>\n",
              "      <th>Atmosphere</th>\n",
              "    </tr>\n",
              "  </thead>\n",
              "  <tbody>\n",
              "    <tr>\n",
              "      <th>0</th>\n",
              "      <td>1.</td>\n",
              "      <td>Mercury</td>\n",
              "      <td>0.383</td>\n",
              "      <td>0.06</td>\n",
              "      <td>0.39</td>\n",
              "      <td>0.24</td>\n",
              "      <td>3.38</td>\n",
              "      <td>0.206</td>\n",
              "      <td>58.65</td>\n",
              "      <td>0</td>\n",
              "      <td>0.10</td>\n",
              "      <td>no</td>\n",
              "      <td>minimal</td>\n",
              "    </tr>\n",
              "    <tr>\n",
              "      <th>1</th>\n",
              "      <td>2.</td>\n",
              "      <td>Venus</td>\n",
              "      <td>0.949</td>\n",
              "      <td>0.81</td>\n",
              "      <td>0.72</td>\n",
              "      <td>0.62</td>\n",
              "      <td>3.86</td>\n",
              "      <td>0.007</td>\n",
              "      <td>−243.02</td>\n",
              "      <td>0</td>\n",
              "      <td>177.30</td>\n",
              "      <td>no</td>\n",
              "      <td>CO2, N2</td>\n",
              "    </tr>\n",
              "    <tr>\n",
              "      <th>2</th>\n",
              "      <td>3.</td>\n",
              "      <td>Earth (a)</td>\n",
              "      <td>1.000</td>\n",
              "      <td>1.00</td>\n",
              "      <td>1.00</td>\n",
              "      <td>1.00</td>\n",
              "      <td>7.25</td>\n",
              "      <td>0.017</td>\n",
              "      <td>1.00</td>\n",
              "      <td>1</td>\n",
              "      <td>23.44</td>\n",
              "      <td>no</td>\n",
              "      <td>N2, O2, Ar</td>\n",
              "    </tr>\n",
              "    <tr>\n",
              "      <th>3</th>\n",
              "      <td>4.</td>\n",
              "      <td>Mars</td>\n",
              "      <td>0.532</td>\n",
              "      <td>0.11</td>\n",
              "      <td>1.52</td>\n",
              "      <td>1.88</td>\n",
              "      <td>5.65</td>\n",
              "      <td>0.093</td>\n",
              "      <td>1.03</td>\n",
              "      <td>2</td>\n",
              "      <td>25.19</td>\n",
              "      <td>no</td>\n",
              "      <td>CO2, N2, Ar</td>\n",
              "    </tr>\n",
              "    <tr>\n",
              "      <th>4</th>\n",
              "      <td>5.</td>\n",
              "      <td>Jupiter</td>\n",
              "      <td>11.209</td>\n",
              "      <td>317.83</td>\n",
              "      <td>5.20</td>\n",
              "      <td>11.86</td>\n",
              "      <td>6.09</td>\n",
              "      <td>0.048</td>\n",
              "      <td>0.41</td>\n",
              "      <td>79</td>\n",
              "      <td>3.12</td>\n",
              "      <td>yes</td>\n",
              "      <td>H2, He</td>\n",
              "    </tr>\n",
              "    <tr>\n",
              "      <th>5</th>\n",
              "      <td>6.</td>\n",
              "      <td>Saturn</td>\n",
              "      <td>9.449</td>\n",
              "      <td>95.16</td>\n",
              "      <td>9.54</td>\n",
              "      <td>29.45</td>\n",
              "      <td>5.51</td>\n",
              "      <td>0.054</td>\n",
              "      <td>0.44</td>\n",
              "      <td>82</td>\n",
              "      <td>26.73</td>\n",
              "      <td>yes</td>\n",
              "      <td>H2, He</td>\n",
              "    </tr>\n",
              "    <tr>\n",
              "      <th>6</th>\n",
              "      <td>7.</td>\n",
              "      <td>Uranus</td>\n",
              "      <td>4.007</td>\n",
              "      <td>14.54</td>\n",
              "      <td>19.19</td>\n",
              "      <td>84.02</td>\n",
              "      <td>6.48</td>\n",
              "      <td>0.047</td>\n",
              "      <td>−0.72</td>\n",
              "      <td>27</td>\n",
              "      <td>97.86</td>\n",
              "      <td>yes</td>\n",
              "      <td>H2, He, CH4</td>\n",
              "    </tr>\n",
              "    <tr>\n",
              "      <th>7</th>\n",
              "      <td>8.</td>\n",
              "      <td>Neptune</td>\n",
              "      <td>3.883</td>\n",
              "      <td>17.15</td>\n",
              "      <td>30.07</td>\n",
              "      <td>164.79</td>\n",
              "      <td>6.43</td>\n",
              "      <td>0.009</td>\n",
              "      <td>0.67</td>\n",
              "      <td>14</td>\n",
              "      <td>29.60</td>\n",
              "      <td>yes</td>\n",
              "      <td>H2, He, CH4</td>\n",
              "    </tr>\n",
              "    <tr>\n",
              "      <th>8</th>\n",
              "      <td>Color legend: .mw-parser-output .legend{page-b...</td>\n",
              "      <td>Color legend: .mw-parser-output .legend{page-b...</td>\n",
              "      <td>Color legend: .mw-parser-output .legend{page-b...</td>\n",
              "      <td>Color legend: .mw-parser-output .legend{page-b...</td>\n",
              "      <td>Color legend: .mw-parser-output .legend{page-b...</td>\n",
              "      <td>Color legend: .mw-parser-output .legend{page-b...</td>\n",
              "      <td>Color legend: .mw-parser-output .legend{page-b...</td>\n",
              "      <td>Color legend: .mw-parser-output .legend{page-b...</td>\n",
              "      <td>Color legend: .mw-parser-output .legend{page-b...</td>\n",
              "      <td>Color legend: .mw-parser-output .legend{page-b...</td>\n",
              "      <td>Color legend: .mw-parser-output .legend{page-b...</td>\n",
              "      <td>Color legend: .mw-parser-output .legend{page-b...</td>\n",
              "      <td>Color legend: .mw-parser-output .legend{page-b...</td>\n",
              "    </tr>\n",
              "  </tbody>\n",
              "</table>\n",
              "</div>"
            ],
            "text/plain": [
              "                                          Unnamed: 0  ...                                         Atmosphere\n",
              "0                                                 1.  ...                                            minimal\n",
              "1                                                 2.  ...                                            CO2, N2\n",
              "2                                                 3.  ...                                         N2, O2, Ar\n",
              "3                                                 4.  ...                                        CO2, N2, Ar\n",
              "4                                                 5.  ...                                             H2, He\n",
              "5                                                 6.  ...                                             H2, He\n",
              "6                                                 7.  ...                                        H2, He, CH4\n",
              "7                                                 8.  ...                                        H2, He, CH4\n",
              "8  Color legend: .mw-parser-output .legend{page-b...  ...  Color legend: .mw-parser-output .legend{page-b...\n",
              "\n",
              "[9 rows x 13 columns]"
            ]
          },
          "metadata": {
            "tags": []
          },
          "execution_count": 3
        }
      ]
    },
    {
      "cell_type": "code",
      "metadata": {
        "colab": {
          "base_uri": "https://localhost:8080/"
        },
        "id": "SzHbfGyTSQhc",
        "outputId": "373aa528-52d6-46c4-c4d1-957db08f0d9e"
      },
      "source": [
        "# This is how we access the Earth line. It is index #2.\n",
        "\n",
        "df.loc[2]"
      ],
      "execution_count": 4,
      "outputs": [
        {
          "output_type": "execute_result",
          "data": {
            "text/plain": [
              "Unnamed: 0                                 3.\n",
              "Name                                Earth (a)\n",
              "Equatorialdiameter [i]                  1.000\n",
              "Mass [i]                                 1.00\n",
              "Semi-major axis (AU)                     1.00\n",
              "Orbital period(years)                    1.00\n",
              "Inclinationto Sun's equator (°)          7.25\n",
              "Orbitaleccentricity                     0.017\n",
              "Rotation period(days)                    1.00\n",
              "Confirmedmoons                              1\n",
              "Axial tilt (°)                          23.44\n",
              "Rings                                      no\n",
              "Atmosphere                         N2, O2, Ar\n",
              "Name: 2, dtype: object"
            ]
          },
          "metadata": {
            "tags": []
          },
          "execution_count": 4
        }
      ]
    },
    {
      "cell_type": "code",
      "metadata": {
        "colab": {
          "base_uri": "https://localhost:8080/",
          "height": 35
        },
        "id": "zUkNpTYASfyg",
        "outputId": "4742503a-bd21-40a4-c876-ddd00dd94a03"
      },
      "source": [
        "# This is how we access the Name column in index 2.bit_length\n",
        "# Note: the \\u2009 we see in the output is unicode for \"thin space\"\n",
        "\n",
        "df.loc[2]['Name']"
      ],
      "execution_count": 5,
      "outputs": [
        {
          "output_type": "execute_result",
          "data": {
            "application/vnd.google.colaboratory.intrinsic+json": {
              "type": "string"
            },
            "text/plain": [
              "'Earth\\u2009(a)'"
            ]
          },
          "metadata": {
            "tags": []
          },
          "execution_count": 5
        }
      ]
    },
    {
      "cell_type": "code",
      "metadata": {
        "colab": {
          "base_uri": "https://localhost:8080/"
        },
        "id": "BlMcJlC8Stnq",
        "outputId": "cfb161cf-1311-46f9-e8ad-ed841ec3385a"
      },
      "source": [
        "# Let's replace it...\n",
        "\n",
        "df.loc[2]['Name'] = 'Earth'\n",
        "\n",
        "df.loc[2]"
      ],
      "execution_count": 6,
      "outputs": [
        {
          "output_type": "execute_result",
          "data": {
            "text/plain": [
              "Unnamed: 0                                 3.\n",
              "Name                                    Earth\n",
              "Equatorialdiameter [i]                  1.000\n",
              "Mass [i]                                 1.00\n",
              "Semi-major axis (AU)                     1.00\n",
              "Orbital period(years)                    1.00\n",
              "Inclinationto Sun's equator (°)          7.25\n",
              "Orbitaleccentricity                     0.017\n",
              "Rotation period(days)                    1.00\n",
              "Confirmedmoons                              1\n",
              "Axial tilt (°)                          23.44\n",
              "Rings                                      no\n",
              "Atmosphere                         N2, O2, Ar\n",
              "Name: 2, dtype: object"
            ]
          },
          "metadata": {
            "tags": []
          },
          "execution_count": 6
        }
      ]
    },
    {
      "cell_type": "code",
      "metadata": {
        "id": "dUuy5oo-TEe4"
      },
      "source": [
        ""
      ],
      "execution_count": 6,
      "outputs": []
    },
    {
      "cell_type": "markdown",
      "metadata": {
        "id": "z1me1mD81t7g"
      },
      "source": [
        "# Converting to Dates"
      ]
    },
    {
      "cell_type": "markdown",
      "metadata": {
        "id": "3XaPrZC58f_O"
      },
      "source": [
        "This examples shows a date field (FILE_DATE) that need to be converted from \"object\" to \"datetime\" so the data can be plotted correctly.\n",
        "\n",
        "The data is Ontario Covid-19, organized by health region."
      ]
    },
    {
      "cell_type": "code",
      "metadata": {
        "colab": {
          "base_uri": "https://localhost:8080/"
        },
        "id": "Y4hYPzw013iT",
        "outputId": "4009eb9d-6167-4f1e-c911-e9f05884cc74"
      },
      "source": [
        "# Read in and prep the test data\n",
        "# Observation: FILE_DATE is an \"object\" not a valid date format\n",
        "\n",
        "import pandas as pd\n",
        "from datetime import date\n",
        "\n",
        "url = 'https://data.ontario.ca/dataset/1115d5fe-dd84-4c69-b5ed-05bf0c0a0ff9/resource/d1bfe1ad-6575-4352-8302-09ca81f7ddfc/download/cases_by_status_and_phu.csv'\n",
        "df = pd.read_csv(url)\n",
        "df.info()"
      ],
      "execution_count": 7,
      "outputs": [
        {
          "output_type": "stream",
          "text": [
            "<class 'pandas.core.frame.DataFrame'>\n",
            "RangeIndex: 13702 entries, 0 to 13701\n",
            "Data columns (total 6 columns):\n",
            " #   Column          Non-Null Count  Dtype  \n",
            "---  ------          --------------  -----  \n",
            " 0   FILE_DATE       13702 non-null  object \n",
            " 1   PHU_NAME        13701 non-null  object \n",
            " 2   PHU_NUM         13701 non-null  float64\n",
            " 3   ACTIVE_CASES    13702 non-null  int64  \n",
            " 4   RESOLVED_CASES  13702 non-null  int64  \n",
            " 5   DEATHS          13702 non-null  int64  \n",
            "dtypes: float64(1), int64(3), object(2)\n",
            "memory usage: 642.4+ KB\n"
          ],
          "name": "stdout"
        }
      ]
    },
    {
      "cell_type": "code",
      "metadata": {
        "colab": {
          "base_uri": "https://localhost:8080/"
        },
        "id": "7f0MNAu58c8C",
        "outputId": "3dc610e2-a54c-40f2-ec0d-893dee7c4e2e"
      },
      "source": [
        "# The method we need is to_datetime()\n",
        "# Observation: FILE_DATE has been converted to datetime64[ns]\n",
        "\n",
        "df['FILE_DATE']= pd.to_datetime(df['FILE_DATE'])\n",
        "df.info()"
      ],
      "execution_count": 8,
      "outputs": [
        {
          "output_type": "stream",
          "text": [
            "<class 'pandas.core.frame.DataFrame'>\n",
            "RangeIndex: 13702 entries, 0 to 13701\n",
            "Data columns (total 6 columns):\n",
            " #   Column          Non-Null Count  Dtype         \n",
            "---  ------          --------------  -----         \n",
            " 0   FILE_DATE       13702 non-null  datetime64[ns]\n",
            " 1   PHU_NAME        13701 non-null  object        \n",
            " 2   PHU_NUM         13701 non-null  float64       \n",
            " 3   ACTIVE_CASES    13702 non-null  int64         \n",
            " 4   RESOLVED_CASES  13702 non-null  int64         \n",
            " 5   DEATHS          13702 non-null  int64         \n",
            "dtypes: datetime64[ns](1), float64(1), int64(3), object(1)\n",
            "memory usage: 642.4+ KB\n"
          ],
          "name": "stdout"
        }
      ]
    },
    {
      "cell_type": "markdown",
      "metadata": {
        "id": "_yJeo7u9UtBA"
      },
      "source": [
        "# Deleting Columns"
      ]
    },
    {
      "cell_type": "markdown",
      "metadata": {
        "id": "LJoYcMZ-U5ML"
      },
      "source": [
        "It's generally not necessary to delete columns with the exception of wanting to export the data to a new data file. \n",
        "\n",
        "Here we delete the \"All Light Trucks CAFE MPG\" column."
      ]
    },
    {
      "cell_type": "code",
      "metadata": {
        "colab": {
          "base_uri": "https://localhost:8080/",
          "height": 204
        },
        "id": "h_Vc1tF1VI0-",
        "outputId": "396c6b14-dcd9-4b56-8dde-34889b7bd637"
      },
      "source": [
        "# Read in and prep the test data\n",
        "# The data is a partial extract from https://dieselnet.com/standards/us/fe.php\n",
        "\n",
        "import pandas as pd\n",
        "\n",
        "url = 'https://raw.githubusercontent.com/pbeens/OTF-Data-Analysis-2021-05/main/datafiles/bad_cafe_data.csv'\n",
        "\n",
        "df = pd.read_csv(url)\n",
        "df = df[:-1] \n",
        "df"
      ],
      "execution_count": 13,
      "outputs": [
        {
          "output_type": "execute_result",
          "data": {
            "text/html": [
              "<div>\n",
              "<style scoped>\n",
              "    .dataframe tbody tr th:only-of-type {\n",
              "        vertical-align: middle;\n",
              "    }\n",
              "\n",
              "    .dataframe tbody tr th {\n",
              "        vertical-align: top;\n",
              "    }\n",
              "\n",
              "    .dataframe thead th {\n",
              "        text-align: right;\n",
              "    }\n",
              "</style>\n",
              "<table border=\"1\" class=\"dataframe\">\n",
              "  <thead>\n",
              "    <tr style=\"text-align: right;\">\n",
              "      <th></th>\n",
              "      <th>Year</th>\n",
              "      <th>CAFE MPG</th>\n",
              "      <th>All Light Trucks CAFE MPG</th>\n",
              "    </tr>\n",
              "  </thead>\n",
              "  <tbody>\n",
              "    <tr>\n",
              "      <th>0</th>\n",
              "      <td>2007</td>\n",
              "      <td>27.5</td>\n",
              "      <td>22.2</td>\n",
              "    </tr>\n",
              "    <tr>\n",
              "      <th>1</th>\n",
              "      <td>2008</td>\n",
              "      <td>27.5</td>\n",
              "      <td>22.5</td>\n",
              "    </tr>\n",
              "    <tr>\n",
              "      <th>2</th>\n",
              "      <td>2009</td>\n",
              "      <td>27.5</td>\n",
              "      <td>23.1</td>\n",
              "    </tr>\n",
              "    <tr>\n",
              "      <th>3</th>\n",
              "      <td>2010</td>\n",
              "      <td>27.5</td>\n",
              "      <td>23.5</td>\n",
              "    </tr>\n",
              "    <tr>\n",
              "      <th>4</th>\n",
              "      <td>2011</td>\n",
              "      <td>27.5</td>\n",
              "      <td>a</td>\n",
              "    </tr>\n",
              "  </tbody>\n",
              "</table>\n",
              "</div>"
            ],
            "text/plain": [
              "   Year CAFE MPG All Light Trucks CAFE MPG\n",
              "0  2007     27.5                      22.2\n",
              "1  2008     27.5                      22.5\n",
              "2  2009     27.5                      23.1\n",
              "3  2010     27.5                      23.5\n",
              "4  2011     27.5                         a"
            ]
          },
          "metadata": {
            "tags": []
          },
          "execution_count": 13
        }
      ]
    },
    {
      "cell_type": "code",
      "metadata": {
        "colab": {
          "base_uri": "https://localhost:8080/",
          "height": 204
        },
        "id": "wEXbn123VPs6",
        "outputId": "62fc7440-4973-4a87-9c39-132419784335"
      },
      "source": [
        "# The command we want for deleting a column is \"del\"\n",
        "\n",
        "del df['All Light Trucks CAFE MPG'] # insert the name of the column\n",
        "df"
      ],
      "execution_count": 14,
      "outputs": [
        {
          "output_type": "execute_result",
          "data": {
            "text/html": [
              "<div>\n",
              "<style scoped>\n",
              "    .dataframe tbody tr th:only-of-type {\n",
              "        vertical-align: middle;\n",
              "    }\n",
              "\n",
              "    .dataframe tbody tr th {\n",
              "        vertical-align: top;\n",
              "    }\n",
              "\n",
              "    .dataframe thead th {\n",
              "        text-align: right;\n",
              "    }\n",
              "</style>\n",
              "<table border=\"1\" class=\"dataframe\">\n",
              "  <thead>\n",
              "    <tr style=\"text-align: right;\">\n",
              "      <th></th>\n",
              "      <th>Year</th>\n",
              "      <th>CAFE MPG</th>\n",
              "    </tr>\n",
              "  </thead>\n",
              "  <tbody>\n",
              "    <tr>\n",
              "      <th>0</th>\n",
              "      <td>2007</td>\n",
              "      <td>27.5</td>\n",
              "    </tr>\n",
              "    <tr>\n",
              "      <th>1</th>\n",
              "      <td>2008</td>\n",
              "      <td>27.5</td>\n",
              "    </tr>\n",
              "    <tr>\n",
              "      <th>2</th>\n",
              "      <td>2009</td>\n",
              "      <td>27.5</td>\n",
              "    </tr>\n",
              "    <tr>\n",
              "      <th>3</th>\n",
              "      <td>2010</td>\n",
              "      <td>27.5</td>\n",
              "    </tr>\n",
              "    <tr>\n",
              "      <th>4</th>\n",
              "      <td>2011</td>\n",
              "      <td>27.5</td>\n",
              "    </tr>\n",
              "  </tbody>\n",
              "</table>\n",
              "</div>"
            ],
            "text/plain": [
              "   Year CAFE MPG\n",
              "0  2007     27.5\n",
              "1  2008     27.5\n",
              "2  2009     27.5\n",
              "3  2010     27.5\n",
              "4  2011     27.5"
            ]
          },
          "metadata": {
            "tags": []
          },
          "execution_count": 14
        }
      ]
    },
    {
      "cell_type": "code",
      "metadata": {
        "id": "vghvoWFmVsgN"
      },
      "source": [
        ""
      ],
      "execution_count": null,
      "outputs": []
    }
  ]
}