{
  "nbformat": 4,
  "nbformat_minor": 0,
  "metadata": {
    "colab": {
      "name": "Demo - Teacher Years vs Grade.ipynb",
      "provenance": [],
      "collapsed_sections": [],
      "toc_visible": true,
      "authorship_tag": "ABX9TyNPGGORhbl5bTRYp7XDlYYP",
      "include_colab_link": true
    },
    "kernelspec": {
      "name": "python3",
      "display_name": "Python 3"
    },
    "language_info": {
      "name": "python"
    }
  },
  "cells": [
    {
      "cell_type": "markdown",
      "metadata": {
        "id": "view-in-github",
        "colab_type": "text"
      },
      "source": [
        "<a href=\"https://colab.research.google.com/github/pbeens/OTF-Data-Analysis-2021-05/blob/main/Demo_Teacher_Years_vs_Grade.ipynb\" target=\"_parent\"><img src=\"https://colab.research.google.com/assets/colab-badge.svg\" alt=\"Open In Colab\"/></a>"
      ]
    },
    {
      "cell_type": "markdown",
      "metadata": {
        "id": "Prz_IhNcPyOi"
      },
      "source": [
        "# Teacher Years of Service vs Grade\n",
        "\n",
        "---\n",
        "\n"
      ]
    },
    {
      "cell_type": "markdown",
      "metadata": {
        "id": "OY4D2XOWP8C_"
      },
      "source": [
        "This demo is being used to show how to use the basic data analysis template available at https://github.com/pbeens/OTF-Data-Analysis-2021-05/blob/main/Data_Analysis_Template.ipynb.\n",
        "\n",
        "The data is from a Google Form which goes into a Google Sheet. The sheet has been made public so it is available to import. The original URL of the sheet is https://docs.google.com/spreadsheets/d/1iPuWBPF4vfo-LYydHyASKsJcQZSyd-egfwbt7kNE6r8/edit?resourcekey#gid=2065641993"
      ]
    },
    {
      "cell_type": "markdown",
      "metadata": {
        "id": "3dD2gVVjyodq"
      },
      "source": [
        "# What is the Objective?"
      ]
    },
    {
      "cell_type": "markdown",
      "metadata": {
        "id": "j5OOAWhEy7qF"
      },
      "source": [
        "- To review the entered data for any correlations between grade taught and # of years of service."
      ]
    },
    {
      "cell_type": "markdown",
      "metadata": {
        "id": "BjoOfabZyojV"
      },
      "source": [
        "# Get the Data"
      ]
    },
    {
      "cell_type": "markdown",
      "metadata": {
        "id": "nf1cM4rJzmg8"
      },
      "source": [
        "- You need to import the Pandas library.\n",
        "- You need to define the URL of the source file or create the data within this notebook. There are two sections here for that. Delete the one you don't use.\n",
        "- You need to create the dataframe.\n",
        "- You may want to include some additional notes here about the data."
      ]
    },
    {
      "cell_type": "code",
      "metadata": {
        "id": "IKSGDsTByyUn"
      },
      "source": [
        "import pandas as pd"
      ],
      "execution_count": 2,
      "outputs": []
    },
    {
      "cell_type": "markdown",
      "metadata": {
        "id": "JrP4Z1Plfd5k"
      },
      "source": [
        "## From a Website"
      ]
    },
    {
      "cell_type": "code",
      "metadata": {
        "id": "z4288ey2z_Sl",
        "colab": {
          "base_uri": "https://localhost:8080/",
          "height": 328
        },
        "outputId": "2acab3b2-a01b-4910-fe1a-ff72ea848c32"
      },
      "source": [
        "# Enter the URL here\n",
        "url = 'https://docs.google.com/spreadsheets/d/1iPuWBPF4vfo-LYydHyASKsJcQZSyd-egfwbt7kNE6r8/export?format=csv'\n",
        "\n",
        "# From a Google Sheet\n",
        "# Note: You must change the last part of the URL to /export?format=csv\n",
        "# Note 2: The Google Sheet must be public! \n",
        "df = pd.read_csv(url)\n",
        "\n",
        "# Quick look at the data...\n",
        "df"
      ],
      "execution_count": 4,
      "outputs": [
        {
          "output_type": "execute_result",
          "data": {
            "text/html": [
              "<div>\n",
              "<style scoped>\n",
              "    .dataframe tbody tr th:only-of-type {\n",
              "        vertical-align: middle;\n",
              "    }\n",
              "\n",
              "    .dataframe tbody tr th {\n",
              "        vertical-align: top;\n",
              "    }\n",
              "\n",
              "    .dataframe thead th {\n",
              "        text-align: right;\n",
              "    }\n",
              "</style>\n",
              "<table border=\"1\" class=\"dataframe\">\n",
              "  <thead>\n",
              "    <tr style=\"text-align: right;\">\n",
              "      <th></th>\n",
              "      <th>Timestamp</th>\n",
              "      <th>How many years have you been teaching</th>\n",
              "      <th>What grade do you teach the most?</th>\n",
              "      <th>What subject do you teach the most?</th>\n",
              "    </tr>\n",
              "  </thead>\n",
              "  <tbody>\n",
              "    <tr>\n",
              "      <th>0</th>\n",
              "      <td>5/3/2021 18:11:56</td>\n",
              "      <td>25</td>\n",
              "      <td>9</td>\n",
              "      <td>Science (9-12)</td>\n",
              "    </tr>\n",
              "    <tr>\n",
              "      <th>1</th>\n",
              "      <td>5/3/2021 19:17:09</td>\n",
              "      <td>14</td>\n",
              "      <td>11</td>\n",
              "      <td>Technological Education</td>\n",
              "    </tr>\n",
              "    <tr>\n",
              "      <th>2</th>\n",
              "      <td>5/3/2021 17:56:54</td>\n",
              "      <td>15</td>\n",
              "      <td>11</td>\n",
              "      <td>Technological Education</td>\n",
              "    </tr>\n",
              "    <tr>\n",
              "      <th>3</th>\n",
              "      <td>5/3/2021 18:13:24</td>\n",
              "      <td>15</td>\n",
              "      <td>11</td>\n",
              "      <td>Computer Studies</td>\n",
              "    </tr>\n",
              "    <tr>\n",
              "      <th>4</th>\n",
              "      <td>5/3/2021 18:14:32</td>\n",
              "      <td>29</td>\n",
              "      <td>11</td>\n",
              "      <td>Technological Education</td>\n",
              "    </tr>\n",
              "    <tr>\n",
              "      <th>5</th>\n",
              "      <td>5/3/2021 18:58:39</td>\n",
              "      <td>21</td>\n",
              "      <td>12</td>\n",
              "      <td>Mathematics (9-12)</td>\n",
              "    </tr>\n",
              "    <tr>\n",
              "      <th>6</th>\n",
              "      <td>5/3/2021 19:23:27</td>\n",
              "      <td>21</td>\n",
              "      <td>12</td>\n",
              "      <td>Mathematics (9-12)</td>\n",
              "    </tr>\n",
              "    <tr>\n",
              "      <th>7</th>\n",
              "      <td>5/3/2021 18:34:58</td>\n",
              "      <td>25</td>\n",
              "      <td>12</td>\n",
              "      <td>English (9-12)</td>\n",
              "    </tr>\n",
              "    <tr>\n",
              "      <th>8</th>\n",
              "      <td>5/3/2021 17:42:48</td>\n",
              "      <td>26</td>\n",
              "      <td>12</td>\n",
              "      <td>Technological Education</td>\n",
              "    </tr>\n",
              "  </tbody>\n",
              "</table>\n",
              "</div>"
            ],
            "text/plain": [
              "           Timestamp  ...  What subject do you teach the most?\n",
              "0  5/3/2021 18:11:56  ...                       Science (9-12)\n",
              "1  5/3/2021 19:17:09  ...              Technological Education\n",
              "2  5/3/2021 17:56:54  ...              Technological Education\n",
              "3  5/3/2021 18:13:24  ...                     Computer Studies\n",
              "4  5/3/2021 18:14:32  ...              Technological Education\n",
              "5  5/3/2021 18:58:39  ...                   Mathematics (9-12)\n",
              "6  5/3/2021 19:23:27  ...                   Mathematics (9-12)\n",
              "7  5/3/2021 18:34:58  ...                       English (9-12)\n",
              "8  5/3/2021 17:42:48  ...              Technological Education\n",
              "\n",
              "[9 rows x 4 columns]"
            ]
          },
          "metadata": {
            "tags": []
          },
          "execution_count": 4
        }
      ]
    },
    {
      "cell_type": "markdown",
      "metadata": {
        "id": "kwnZ532qyoni"
      },
      "source": [
        "# Quick Look at the Data"
      ]
    },
    {
      "cell_type": "markdown",
      "metadata": {
        "id": "nATaBmVI1nGz"
      },
      "source": [
        "Common techniques are to look at the first few rows (`head()`), the column names (`columns`), and the data types (`dtypes`). A statistical summary (`describe()`) is sometimes useful, especially if the data is numeric."
      ]
    },
    {
      "cell_type": "code",
      "metadata": {
        "id": "vTCcAGUt1mGJ",
        "colab": {
          "base_uri": "https://localhost:8080/",
          "height": 204
        },
        "outputId": "6a47aac9-e72c-4d98-9131-73b26442b91d"
      },
      "source": [
        "# The first few records\n",
        "\n",
        "df.head()"
      ],
      "execution_count": 5,
      "outputs": [
        {
          "output_type": "execute_result",
          "data": {
            "text/html": [
              "<div>\n",
              "<style scoped>\n",
              "    .dataframe tbody tr th:only-of-type {\n",
              "        vertical-align: middle;\n",
              "    }\n",
              "\n",
              "    .dataframe tbody tr th {\n",
              "        vertical-align: top;\n",
              "    }\n",
              "\n",
              "    .dataframe thead th {\n",
              "        text-align: right;\n",
              "    }\n",
              "</style>\n",
              "<table border=\"1\" class=\"dataframe\">\n",
              "  <thead>\n",
              "    <tr style=\"text-align: right;\">\n",
              "      <th></th>\n",
              "      <th>Timestamp</th>\n",
              "      <th>How many years have you been teaching</th>\n",
              "      <th>What grade do you teach the most?</th>\n",
              "      <th>What subject do you teach the most?</th>\n",
              "    </tr>\n",
              "  </thead>\n",
              "  <tbody>\n",
              "    <tr>\n",
              "      <th>0</th>\n",
              "      <td>5/3/2021 18:11:56</td>\n",
              "      <td>25</td>\n",
              "      <td>9</td>\n",
              "      <td>Science (9-12)</td>\n",
              "    </tr>\n",
              "    <tr>\n",
              "      <th>1</th>\n",
              "      <td>5/3/2021 19:17:09</td>\n",
              "      <td>14</td>\n",
              "      <td>11</td>\n",
              "      <td>Technological Education</td>\n",
              "    </tr>\n",
              "    <tr>\n",
              "      <th>2</th>\n",
              "      <td>5/3/2021 17:56:54</td>\n",
              "      <td>15</td>\n",
              "      <td>11</td>\n",
              "      <td>Technological Education</td>\n",
              "    </tr>\n",
              "    <tr>\n",
              "      <th>3</th>\n",
              "      <td>5/3/2021 18:13:24</td>\n",
              "      <td>15</td>\n",
              "      <td>11</td>\n",
              "      <td>Computer Studies</td>\n",
              "    </tr>\n",
              "    <tr>\n",
              "      <th>4</th>\n",
              "      <td>5/3/2021 18:14:32</td>\n",
              "      <td>29</td>\n",
              "      <td>11</td>\n",
              "      <td>Technological Education</td>\n",
              "    </tr>\n",
              "  </tbody>\n",
              "</table>\n",
              "</div>"
            ],
            "text/plain": [
              "           Timestamp  ...  What subject do you teach the most?\n",
              "0  5/3/2021 18:11:56  ...                       Science (9-12)\n",
              "1  5/3/2021 19:17:09  ...              Technological Education\n",
              "2  5/3/2021 17:56:54  ...              Technological Education\n",
              "3  5/3/2021 18:13:24  ...                     Computer Studies\n",
              "4  5/3/2021 18:14:32  ...              Technological Education\n",
              "\n",
              "[5 rows x 4 columns]"
            ]
          },
          "metadata": {
            "tags": []
          },
          "execution_count": 5
        }
      ]
    },
    {
      "cell_type": "code",
      "metadata": {
        "id": "5kg19gjAy4Iz",
        "colab": {
          "base_uri": "https://localhost:8080/"
        },
        "outputId": "5c025ee7-f154-49f0-c2bc-69d879b4c919"
      },
      "source": [
        "# The names of the columns\n",
        "\n",
        "df.columns"
      ],
      "execution_count": 6,
      "outputs": [
        {
          "output_type": "execute_result",
          "data": {
            "text/plain": [
              "Index(['Timestamp', 'How many years have you been teaching',\n",
              "       'What grade do you teach the most?',\n",
              "       'What subject do you teach the most?'],\n",
              "      dtype='object')"
            ]
          },
          "metadata": {
            "tags": []
          },
          "execution_count": 6
        }
      ]
    },
    {
      "cell_type": "code",
      "metadata": {
        "id": "CCA9Zp1o1y5w",
        "colab": {
          "base_uri": "https://localhost:8080/"
        },
        "outputId": "78ade9c3-29bb-4cef-ecb9-5ddb944cad0c"
      },
      "source": [
        "# The datatypes\n",
        "\n",
        "df.dtypes"
      ],
      "execution_count": 7,
      "outputs": [
        {
          "output_type": "execute_result",
          "data": {
            "text/plain": [
              "Timestamp                                object\n",
              "How many years have you been teaching     int64\n",
              "What grade do you teach the most?         int64\n",
              "What subject do you teach the most?      object\n",
              "dtype: object"
            ]
          },
          "metadata": {
            "tags": []
          },
          "execution_count": 7
        }
      ]
    },
    {
      "cell_type": "code",
      "metadata": {
        "id": "Z3ykknRwpyM-",
        "colab": {
          "base_uri": "https://localhost:8080/",
          "height": 297
        },
        "outputId": "83bdc789-f9e6-47e0-b75e-f04d5cba09a8"
      },
      "source": [
        "# A statistical summary\n",
        "\n",
        "df.describe()"
      ],
      "execution_count": 8,
      "outputs": [
        {
          "output_type": "execute_result",
          "data": {
            "text/html": [
              "<div>\n",
              "<style scoped>\n",
              "    .dataframe tbody tr th:only-of-type {\n",
              "        vertical-align: middle;\n",
              "    }\n",
              "\n",
              "    .dataframe tbody tr th {\n",
              "        vertical-align: top;\n",
              "    }\n",
              "\n",
              "    .dataframe thead th {\n",
              "        text-align: right;\n",
              "    }\n",
              "</style>\n",
              "<table border=\"1\" class=\"dataframe\">\n",
              "  <thead>\n",
              "    <tr style=\"text-align: right;\">\n",
              "      <th></th>\n",
              "      <th>How many years have you been teaching</th>\n",
              "      <th>What grade do you teach the most?</th>\n",
              "    </tr>\n",
              "  </thead>\n",
              "  <tbody>\n",
              "    <tr>\n",
              "      <th>count</th>\n",
              "      <td>9.000000</td>\n",
              "      <td>9.000000</td>\n",
              "    </tr>\n",
              "    <tr>\n",
              "      <th>mean</th>\n",
              "      <td>21.222222</td>\n",
              "      <td>11.222222</td>\n",
              "    </tr>\n",
              "    <tr>\n",
              "      <th>std</th>\n",
              "      <td>5.494947</td>\n",
              "      <td>0.971825</td>\n",
              "    </tr>\n",
              "    <tr>\n",
              "      <th>min</th>\n",
              "      <td>14.000000</td>\n",
              "      <td>9.000000</td>\n",
              "    </tr>\n",
              "    <tr>\n",
              "      <th>25%</th>\n",
              "      <td>15.000000</td>\n",
              "      <td>11.000000</td>\n",
              "    </tr>\n",
              "    <tr>\n",
              "      <th>50%</th>\n",
              "      <td>21.000000</td>\n",
              "      <td>11.000000</td>\n",
              "    </tr>\n",
              "    <tr>\n",
              "      <th>75%</th>\n",
              "      <td>25.000000</td>\n",
              "      <td>12.000000</td>\n",
              "    </tr>\n",
              "    <tr>\n",
              "      <th>max</th>\n",
              "      <td>29.000000</td>\n",
              "      <td>12.000000</td>\n",
              "    </tr>\n",
              "  </tbody>\n",
              "</table>\n",
              "</div>"
            ],
            "text/plain": [
              "       How many years have you been teaching  What grade do you teach the most?\n",
              "count                               9.000000                           9.000000\n",
              "mean                               21.222222                          11.222222\n",
              "std                                 5.494947                           0.971825\n",
              "min                                14.000000                           9.000000\n",
              "25%                                15.000000                          11.000000\n",
              "50%                                21.000000                          11.000000\n",
              "75%                                25.000000                          12.000000\n",
              "max                                29.000000                          12.000000"
            ]
          },
          "metadata": {
            "tags": []
          },
          "execution_count": 8
        }
      ]
    },
    {
      "cell_type": "markdown",
      "metadata": {
        "id": "jUHJ26tZyorH"
      },
      "source": [
        "# Clean/Fix the Data"
      ]
    },
    {
      "cell_type": "markdown",
      "metadata": {
        "id": "8KUkxE6m185n"
      },
      "source": [
        "This will depend on the data we're looking at. Some issues may be:\n",
        "\n",
        "- extraneous text in the data\n",
        "- incorrect data type\n",
        "- invalid (or no) data\n",
        "- we need to add columns\n",
        "\n",
        "Use this [notebook](https://github.com/pbeens/OTF-Data-Analysis-2021-05/blob/main/Demo_Fixing_Data.ipynb) for hints on how to clean or fix the data. It is recommended to open the notebook in Colab so you can see the table of contents, which will make it much easier to use."
      ]
    },
    {
      "cell_type": "code",
      "metadata": {
        "id": "UdLz4ekmzWPp",
        "colab": {
          "base_uri": "https://localhost:8080/"
        },
        "outputId": "c6feeb96-80cf-4d26-80a9-ee295bf68de9"
      },
      "source": [
        "# Code goes here\n",
        "\n",
        "df.rename(columns={'How many years have you been teaching': 'Num_Years',\n",
        "                   'What grade do you teach the most?': 'Grade',\n",
        "                   'What subject do you teach the most?': 'Subject'}, inplace=True)\n",
        "df.columns\n",
        "\n"
      ],
      "execution_count": 13,
      "outputs": [
        {
          "output_type": "execute_result",
          "data": {
            "text/plain": [
              "Index(['Timestamp', 'Num_Years', 'Grade', 'Subject'], dtype='object')"
            ]
          },
          "metadata": {
            "tags": []
          },
          "execution_count": 13
        }
      ]
    },
    {
      "cell_type": "markdown",
      "metadata": {
        "id": "hbSCQrwrhS5r"
      },
      "source": [
        "# Filter the Data"
      ]
    },
    {
      "cell_type": "markdown",
      "metadata": {
        "id": "lsawbvVJhWKp"
      },
      "source": [
        "You might want a subset of the data. This video is a great intro for how to do this: [https://www.youtube.com/watch?v=Lw2rlcxScZY](https://www.youtube.com/watch?v=Lw2rlcxScZY)\n",
        "\n",
        "If you don't need to filter the data then delete these rows. "
      ]
    },
    {
      "cell_type": "code",
      "metadata": {
        "id": "VwZp3T5FhsJU",
        "colab": {
          "base_uri": "https://localhost:8080/",
          "height": 49
        },
        "outputId": "5b7ba501-5715-460e-8a85-7be6a6df07b5"
      },
      "source": [
        "# create the filter\n",
        "high_school_filter = (df['Grade'] >= 9) \n",
        "elem_filter = (df['Grade'] < 9)\n",
        "\n",
        "\n",
        "# apply the filter & create new dataframes\n",
        "sec_df = df.loc[high_school_filter]\n",
        "elem_df = df.loc[elem_filter] \n",
        "\n",
        "# check that it worked\n",
        "elem_df"
      ],
      "execution_count": 15,
      "outputs": [
        {
          "output_type": "execute_result",
          "data": {
            "text/html": [
              "<div>\n",
              "<style scoped>\n",
              "    .dataframe tbody tr th:only-of-type {\n",
              "        vertical-align: middle;\n",
              "    }\n",
              "\n",
              "    .dataframe tbody tr th {\n",
              "        vertical-align: top;\n",
              "    }\n",
              "\n",
              "    .dataframe thead th {\n",
              "        text-align: right;\n",
              "    }\n",
              "</style>\n",
              "<table border=\"1\" class=\"dataframe\">\n",
              "  <thead>\n",
              "    <tr style=\"text-align: right;\">\n",
              "      <th></th>\n",
              "      <th>Timestamp</th>\n",
              "      <th>Num_Years</th>\n",
              "      <th>Grade</th>\n",
              "      <th>Subject</th>\n",
              "    </tr>\n",
              "  </thead>\n",
              "  <tbody>\n",
              "  </tbody>\n",
              "</table>\n",
              "</div>"
            ],
            "text/plain": [
              "Empty DataFrame\n",
              "Columns: [Timestamp, Num_Years, Grade, Subject]\n",
              "Index: []"
            ]
          },
          "metadata": {
            "tags": []
          },
          "execution_count": 15
        }
      ]
    },
    {
      "cell_type": "markdown",
      "metadata": {
        "id": "TQ6TzpTryouO"
      },
      "source": [
        "# Plot the Data"
      ]
    },
    {
      "cell_type": "markdown",
      "metadata": {
        "id": "ACrnP6OB20A_"
      },
      "source": [
        "Kinds of plots:\n",
        "\n",
        "- ‘bar’ or ‘barh’ for bar plots\n",
        "- ‘hist’ for histogram\n",
        "- ‘box’ for boxplot\n",
        "- ‘kde’ or ‘density’ for density plots\n",
        "- ‘area’ for area plots\n",
        "- ‘scatter’ for scatter plots\n",
        "- ‘hexbin’ for hexagonal bin plots\n",
        "- ‘pie’ for pie plots\n",
        "\n",
        "The following code is a good starting point to modify:"
      ]
    },
    {
      "cell_type": "code",
      "metadata": {
        "id": "2ej63Xzpzatd",
        "colab": {
          "base_uri": "https://localhost:8080/",
          "height": 362
        },
        "outputId": "52746a77-3e9e-462a-906f-aff489c59416"
      },
      "source": [
        "# Plot the data. Be sure to edit all the options!\n",
        "\n",
        "plot = sec_df.plot(kind='scatter',\n",
        "                      x='Grade',\n",
        "                      y='Num_Years',  # if plotting more than one column, use a list\n",
        "                      rot=90,  # to rotate labels\n",
        "                      figsize=(10, 5),  # in inches\n",
        "                      style='-.',  # styles are '-', '--', '-.', ':'\n",
        "                      grid=True,  # grid on\n",
        "                      legend=False,  # legend off \n",
        "                      xlabel='Grade',\n",
        "                      ylabel='Num_Years',\n",
        "                      title='Grade Taught vs Num Years Taught')"
      ],
      "execution_count": 17,
      "outputs": [
        {
          "output_type": "display_data",
          "data": {
            "image/png": "[encoded data removed]",
            "text/plain": [
              "<Figure size 720x360 with 1 Axes>"
            ]
          },
          "metadata": {
            "tags": [],
            "needs_background": "light"
          }
        }
      ]
    },
    {
      "cell_type": "code",
      "metadata": {
        "id": "b_FMLHMRbhd3"
      },
      "source": [
        "# Want to save the plot?\n",
        "\n",
        "fig = plot.get_figure()\n",
        "fig.savefig(\"output.png\")"
      ],
      "execution_count": null,
      "outputs": []
    },
    {
      "cell_type": "code",
      "metadata": {
        "colab": {
          "base_uri": "https://localhost:8080/",
          "height": 542
        },
        "id": "8fellgaY1J7n",
        "outputId": "df79669b-7639-473d-da7c-731929813bd5"
      },
      "source": [
        "# An alternative method for plotting which allows curve fitting is to use \n",
        "# the plotly library. See https://plotly.com/python/plotly-express/ for more details.\n",
        "\n",
        "import plotly.express as px\n",
        "\n",
        "fig = px.scatter(sec_df, \n",
        "                 x=\"Grade\", \n",
        "                 y=\"Num_Years\",\n",
        "                 title='Num_Years vs Grade',\n",
        "                 trendline=\"ols\") # ols = Ordinary Least Squares\n",
        "fig.update_layout(xaxis = dict(tickmode = 'linear',        \n",
        "                               tick0 = 9,        \n",
        "                               dtick = 1))\n",
        "fig.show()\n",
        "\n",
        "# save the plot as output2.png\n",
        "fig = plot.get_figure()\n",
        "fig.savefig(\"output2.png\")"
      ],
      "execution_count": 39,
      "outputs": [
        {
          "output_type": "display_data",
          "data": {
            "text/html": [
              "<html>\n",
              "<head><meta charset=\"utf-8\" /></head>\n",
              "<body>\n",
              "    <div>\n",
              "            <script src=\"https://cdnjs.cloudflare.com/ajax/libs/mathjax/2.7.5/MathJax.js?config=TeX-AMS-MML_SVG\"></script><script type=\"text/javascript\">if (window.MathJax) {MathJax.Hub.Config({SVG: {font: \"STIX-Web\"}});}</script>\n",
              "                <script type=\"text/javascript\">window.PlotlyConfig = {MathJaxConfig: 'local'};</script>\n",
              "        <script src=\"https://cdn.plot.ly/plotly-latest.min.js\"></script>    \n",
              "            <div id=\"75edfb11-d373-4687-b9db-96e95a48116c\" class=\"plotly-graph-div\" style=\"height:525px; width:100%;\"></div>\n",
              "            <script type=\"text/javascript\">\n",
              "                \n",
              "                    window.PLOTLYENV=window.PLOTLYENV || {};\n",
              "                    \n",
              "                if (document.getElementById(\"75edfb11-d373-4687-b9db-96e95a48116c\")) {\n",
              "                    Plotly.newPlot(\n",
              "                        '75edfb11-d373-4687-b9db-96e95a48116c',\n",
              "                        [{\"hoverlabel\": {\"namelength\": 0}, \"hovertemplate\": \"Grade=%{x}<br>Num_Years=%{y}\", \"legendgroup\": \"\", \"marker\": {\"color\": \"#636efa\", \"symbol\": \"circle\"}, \"mode\": \"markers\", \"name\": \"\", \"showlegend\": false, \"type\": \"scatter\", \"x\": [9, 11, 11, 11, 11, 12, 12, 12, 12], \"xaxis\": \"x\", \"y\": [25, 14, 15, 15, 29, 21, 21, 25, 26], \"yaxis\": \"y\"}, {\"hoverlabel\": {\"namelength\": 0}, \"hovertemplate\": \"<b>OLS trendline</b><br>Num_Years = 0.073529 * Grade + 20.397059<br>R<sup>2</sup>=0.000169<br><br>Grade=%{x}<br>Num_Years=%{y} <b>(trend)</b>\", \"legendgroup\": \"\", \"marker\": {\"color\": \"#636efa\", \"symbol\": \"circle\"}, \"mode\": \"lines\", \"name\": \"\", \"showlegend\": false, \"type\": \"scatter\", \"x\": [9, 11, 11, 11, 11, 12, 12, 12, 12], \"xaxis\": \"x\", \"y\": [21.058823529411764, 21.205882352941174, 21.205882352941174, 21.205882352941174, 21.205882352941174, 21.27941176470588, 21.27941176470588, 21.27941176470588, 21.27941176470588], \"yaxis\": \"y\"}],\n",
              "                        {\"legend\": {\"tracegroupgap\": 0}, \"template\": {\"data\": {\"bar\": [{\"error_x\": {\"color\": \"#2a3f5f\"}, \"error_y\": {\"color\": \"#2a3f5f\"}, \"marker\": {\"line\": {\"color\": \"#E5ECF6\", \"width\": 0.5}}, \"type\": \"bar\"}], \"barpolar\": [{\"marker\": {\"line\": {\"color\": \"#E5ECF6\", \"width\": 0.5}}, \"type\": \"barpolar\"}], \"carpet\": [{\"aaxis\": {\"endlinecolor\": \"#2a3f5f\", \"gridcolor\": \"white\", \"linecolor\": \"white\", \"minorgridcolor\": \"white\", \"startlinecolor\": \"#2a3f5f\"}, \"baxis\": {\"endlinecolor\": \"#2a3f5f\", \"gridcolor\": \"white\", \"linecolor\": \"white\", \"minorgridcolor\": \"white\", \"startlinecolor\": \"#2a3f5f\"}, \"type\": \"carpet\"}], \"choropleth\": [{\"colorbar\": {\"outlinewidth\": 0, \"ticks\": \"\"}, \"type\": \"choropleth\"}], \"contour\": [{\"colorbar\": {\"outlinewidth\": 0, \"ticks\": \"\"}, \"colorscale\": [[0.0, \"#0d0887\"], [0.1111111111111111, \"#46039f\"], [0.2222222222222222, \"#7201a8\"], [0.3333333333333333, \"#9c179e\"], [0.4444444444444444, \"#bd3786\"], [0.5555555555555556, \"#d8576b\"], [0.6666666666666666, \"#ed7953\"], [0.7777777777777778, \"#fb9f3a\"], [0.8888888888888888, \"#fdca26\"], [1.0, \"#f0f921\"]], \"type\": \"contour\"}], \"contourcarpet\": [{\"colorbar\": {\"outlinewidth\": 0, \"ticks\": \"\"}, \"type\": \"contourcarpet\"}], \"heatmap\": [{\"colorbar\": {\"outlinewidth\": 0, \"ticks\": \"\"}, \"colorscale\": [[0.0, \"#0d0887\"], [0.1111111111111111, \"#46039f\"], [0.2222222222222222, \"#7201a8\"], [0.3333333333333333, \"#9c179e\"], [0.4444444444444444, \"#bd3786\"], [0.5555555555555556, \"#d8576b\"], [0.6666666666666666, \"#ed7953\"], [0.7777777777777778, \"#fb9f3a\"], [0.8888888888888888, \"#fdca26\"], [1.0, \"#f0f921\"]], \"type\": \"heatmap\"}], \"heatmapgl\": [{\"colorbar\": {\"outlinewidth\": 0, \"ticks\": \"\"}, \"colorscale\": [[0.0, \"#0d0887\"], [0.1111111111111111, \"#46039f\"], [0.2222222222222222, \"#7201a8\"], [0.3333333333333333, \"#9c179e\"], [0.4444444444444444, \"#bd3786\"], [0.5555555555555556, \"#d8576b\"], [0.6666666666666666, \"#ed7953\"], [0.7777777777777778, \"#fb9f3a\"], [0.8888888888888888, \"#fdca26\"], [1.0, \"#f0f921\"]], \"type\": \"heatmapgl\"}], \"histogram\": [{\"marker\": {\"colorbar\": {\"outlinewidth\": 0, \"ticks\": \"\"}}, \"type\": \"histogram\"}], \"histogram2d\": [{\"colorbar\": {\"outlinewidth\": 0, \"ticks\": \"\"}, \"colorscale\": [[0.0, \"#0d0887\"], [0.1111111111111111, \"#46039f\"], [0.2222222222222222, \"#7201a8\"], [0.3333333333333333, \"#9c179e\"], [0.4444444444444444, \"#bd3786\"], [0.5555555555555556, \"#d8576b\"], [0.6666666666666666, \"#ed7953\"], [0.7777777777777778, \"#fb9f3a\"], [0.8888888888888888, \"#fdca26\"], [1.0, \"#f0f921\"]], \"type\": \"histogram2d\"}], \"histogram2dcontour\": [{\"colorbar\": {\"outlinewidth\": 0, \"ticks\": \"\"}, \"colorscale\": [[0.0, \"#0d0887\"], [0.1111111111111111, \"#46039f\"], [0.2222222222222222, \"#7201a8\"], [0.3333333333333333, \"#9c179e\"], [0.4444444444444444, \"#bd3786\"], [0.5555555555555556, \"#d8576b\"], [0.6666666666666666, \"#ed7953\"], [0.7777777777777778, \"#fb9f3a\"], [0.8888888888888888, \"#fdca26\"], [1.0, \"#f0f921\"]], \"type\": \"histogram2dcontour\"}], \"mesh3d\": [{\"colorbar\": {\"outlinewidth\": 0, \"ticks\": \"\"}, \"type\": \"mesh3d\"}], \"parcoords\": [{\"line\": {\"colorbar\": {\"outlinewidth\": 0, \"ticks\": \"\"}}, \"type\": \"parcoords\"}], \"pie\": [{\"automargin\": true, \"type\": \"pie\"}], \"scatter\": [{\"marker\": {\"colorbar\": {\"outlinewidth\": 0, \"ticks\": \"\"}}, \"type\": \"scatter\"}], \"scatter3d\": [{\"line\": {\"colorbar\": {\"outlinewidth\": 0, \"ticks\": \"\"}}, \"marker\": {\"colorbar\": {\"outlinewidth\": 0, \"ticks\": \"\"}}, \"type\": \"scatter3d\"}], \"scattercarpet\": [{\"marker\": {\"colorbar\": {\"outlinewidth\": 0, \"ticks\": \"\"}}, \"type\": \"scattercarpet\"}], \"scattergeo\": [{\"marker\": {\"colorbar\": {\"outlinewidth\": 0, \"ticks\": \"\"}}, \"type\": \"scattergeo\"}], \"scattergl\": [{\"marker\": {\"colorbar\": {\"outlinewidth\": 0, \"ticks\": \"\"}}, \"type\": \"scattergl\"}], \"scattermapbox\": [{\"marker\": {\"colorbar\": {\"outlinewidth\": 0, \"ticks\": \"\"}}, \"type\": \"scattermapbox\"}], \"scatterpolar\": [{\"marker\": {\"colorbar\": {\"outlinewidth\": 0, \"ticks\": \"\"}}, \"type\": \"scatterpolar\"}], \"scatterpolargl\": [{\"marker\": {\"colorbar\": {\"outlinewidth\": 0, \"ticks\": \"\"}}, \"type\": \"scatterpolargl\"}], \"scatterternary\": [{\"marker\": {\"colorbar\": {\"outlinewidth\": 0, \"ticks\": \"\"}}, \"type\": \"scatterternary\"}], \"surface\": [{\"colorbar\": {\"outlinewidth\": 0, \"ticks\": \"\"}, \"colorscale\": [[0.0, \"#0d0887\"], [0.1111111111111111, \"#46039f\"], [0.2222222222222222, \"#7201a8\"], [0.3333333333333333, \"#9c179e\"], [0.4444444444444444, \"#bd3786\"], [0.5555555555555556, \"#d8576b\"], [0.6666666666666666, \"#ed7953\"], [0.7777777777777778, \"#fb9f3a\"], [0.8888888888888888, \"#fdca26\"], [1.0, \"#f0f921\"]], \"type\": \"surface\"}], \"table\": [{\"cells\": {\"fill\": {\"color\": \"#EBF0F8\"}, \"line\": {\"color\": \"white\"}}, \"header\": {\"fill\": {\"color\": \"#C8D4E3\"}, \"line\": {\"color\": \"white\"}}, \"type\": \"table\"}]}, \"layout\": {\"annotationdefaults\": {\"arrowcolor\": \"#2a3f5f\", \"arrowhead\": 0, \"arrowwidth\": 1}, \"coloraxis\": {\"colorbar\": {\"outlinewidth\": 0, \"ticks\": \"\"}}, \"colorscale\": {\"diverging\": [[0, \"#8e0152\"], [0.1, \"#c51b7d\"], [0.2, \"#de77ae\"], [0.3, \"#f1b6da\"], [0.4, \"#fde0ef\"], [0.5, \"#f7f7f7\"], [0.6, \"#e6f5d0\"], [0.7, \"#b8e186\"], [0.8, \"#7fbc41\"], [0.9, \"#4d9221\"], [1, \"#276419\"]], \"sequential\": [[0.0, \"#0d0887\"], [0.1111111111111111, \"#46039f\"], [0.2222222222222222, \"#7201a8\"], [0.3333333333333333, \"#9c179e\"], [0.4444444444444444, \"#bd3786\"], [0.5555555555555556, \"#d8576b\"], [0.6666666666666666, \"#ed7953\"], [0.7777777777777778, \"#fb9f3a\"], [0.8888888888888888, \"#fdca26\"], [1.0, \"#f0f921\"]], \"sequentialminus\": [[0.0, \"#0d0887\"], [0.1111111111111111, \"#46039f\"], [0.2222222222222222, \"#7201a8\"], [0.3333333333333333, \"#9c179e\"], [0.4444444444444444, \"#bd3786\"], [0.5555555555555556, \"#d8576b\"], [0.6666666666666666, \"#ed7953\"], [0.7777777777777778, \"#fb9f3a\"], [0.8888888888888888, \"#fdca26\"], [1.0, \"#f0f921\"]]}, \"colorway\": [\"#636efa\", \"#EF553B\", \"#00cc96\", \"#ab63fa\", \"#FFA15A\", \"#19d3f3\", \"#FF6692\", \"#B6E880\", \"#FF97FF\", \"#FECB52\"], \"font\": {\"color\": \"#2a3f5f\"}, \"geo\": {\"bgcolor\": \"white\", \"lakecolor\": \"white\", \"landcolor\": \"#E5ECF6\", \"showlakes\": true, \"showland\": true, \"subunitcolor\": \"white\"}, \"hoverlabel\": {\"align\": \"left\"}, \"hovermode\": \"closest\", \"mapbox\": {\"style\": \"light\"}, \"paper_bgcolor\": \"white\", \"plot_bgcolor\": \"#E5ECF6\", \"polar\": {\"angularaxis\": {\"gridcolor\": \"white\", \"linecolor\": \"white\", \"ticks\": \"\"}, \"bgcolor\": \"#E5ECF6\", \"radialaxis\": {\"gridcolor\": \"white\", \"linecolor\": \"white\", \"ticks\": \"\"}}, \"scene\": {\"xaxis\": {\"backgroundcolor\": \"#E5ECF6\", \"gridcolor\": \"white\", \"gridwidth\": 2, \"linecolor\": \"white\", \"showbackground\": true, \"ticks\": \"\", \"zerolinecolor\": \"white\"}, \"yaxis\": {\"backgroundcolor\": \"#E5ECF6\", \"gridcolor\": \"white\", \"gridwidth\": 2, \"linecolor\": \"white\", \"showbackground\": true, \"ticks\": \"\", \"zerolinecolor\": \"white\"}, \"zaxis\": {\"backgroundcolor\": \"#E5ECF6\", \"gridcolor\": \"white\", \"gridwidth\": 2, \"linecolor\": \"white\", \"showbackground\": true, \"ticks\": \"\", \"zerolinecolor\": \"white\"}}, \"shapedefaults\": {\"line\": {\"color\": \"#2a3f5f\"}}, \"ternary\": {\"aaxis\": {\"gridcolor\": \"white\", \"linecolor\": \"white\", \"ticks\": \"\"}, \"baxis\": {\"gridcolor\": \"white\", \"linecolor\": \"white\", \"ticks\": \"\"}, \"bgcolor\": \"#E5ECF6\", \"caxis\": {\"gridcolor\": \"white\", \"linecolor\": \"white\", \"ticks\": \"\"}}, \"title\": {\"x\": 0.05}, \"xaxis\": {\"automargin\": true, \"gridcolor\": \"white\", \"linecolor\": \"white\", \"ticks\": \"\", \"title\": {\"standoff\": 15}, \"zerolinecolor\": \"white\", \"zerolinewidth\": 2}, \"yaxis\": {\"automargin\": true, \"gridcolor\": \"white\", \"linecolor\": \"white\", \"ticks\": \"\", \"title\": {\"standoff\": 15}, \"zerolinecolor\": \"white\", \"zerolinewidth\": 2}}}, \"title\": {\"text\": \"Num_Years vs Grade\"}, \"xaxis\": {\"anchor\": \"y\", \"domain\": [0.0, 1.0], \"dtick\": 1, \"tick0\": 9, \"tickmode\": \"linear\", \"title\": {\"text\": \"Grade\"}}, \"yaxis\": {\"anchor\": \"x\", \"domain\": [0.0, 1.0], \"title\": {\"text\": \"Num_Years\"}}},\n",
              "                        {\"responsive\": true}\n",
              "                    ).then(function(){\n",
              "                            \n",
              "var gd = document.getElementById('75edfb11-d373-4687-b9db-96e95a48116c');\n",
              "var x = new MutationObserver(function (mutations, observer) {{\n",
              "        var display = window.getComputedStyle(gd).display;\n",
              "        if (!display || display === 'none') {{\n",
              "            console.log([gd, 'removed!']);\n",
              "            Plotly.purge(gd);\n",
              "            observer.disconnect();\n",
              "        }}\n",
              "}});\n",
              "\n",
              "// Listen for the removal of the full notebook cells\n",
              "var notebookContainer = gd.closest('#notebook-container');\n",
              "if (notebookContainer) {{\n",
              "    x.observe(notebookContainer, {childList: true});\n",
              "}}\n",
              "\n",
              "// Listen for the clearing of the current output cell\n",
              "var outputEl = gd.closest('.output');\n",
              "if (outputEl) {{\n",
              "    x.observe(outputEl, {childList: true});\n",
              "}}\n",
              "\n",
              "                        })\n",
              "                };\n",
              "                \n",
              "            </script>\n",
              "        </div>\n",
              "</body>\n",
              "</html>"
            ]
          },
          "metadata": {
            "tags": []
          }
        }
      ]
    },
    {
      "cell_type": "markdown",
      "metadata": {
        "id": "_scZ_F_JTqip"
      },
      "source": [
        "<br>\n",
        "\n",
        "---\n",
        "Note: The original of this template can be found on Google Colab at [bit.ly/beensdatatemplate](https://bit.ly/beensdatatemplate).\n"
      ]
    }
  ]
}