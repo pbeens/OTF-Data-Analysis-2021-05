{
  "nbformat": 4,
  "nbformat_minor": 0,
  "metadata": {
    "colab": {
      "name": "Fixing Data Demo.ipynb",
      "provenance": [],
      "collapsed_sections": [],
      "toc_visible": true,
      "authorship_tag": "ABX9TyPpzTFzT9TzVpgTWybK3L7U",
      "include_colab_link": true
    },
    "kernelspec": {
      "name": "python3",
      "display_name": "Python 3"
    },
    "language_info": {
      "name": "python"
    }
  },
  "cells": [
    {
      "cell_type": "markdown",
      "metadata": {
        "id": "view-in-github",
        "colab_type": "text"
      },
      "source": [
        "<a href=\"https://colab.research.google.com/github/pbeens/OTF-Data-Analysis-2021-05/blob/main/Fixing_Data_Demo.ipynb\" target=\"_parent\"><img src=\"https://colab.research.google.com/assets/colab-badge.svg\" alt=\"Open In Colab\"/></a>"
      ]
    },
    {
      "cell_type": "markdown",
      "metadata": {
        "id": "ukh14rYvP5wL"
      },
      "source": [
        "**If you open this document in Colab, use the Table of Contents on the left to go directly to the section you are interested in.**"
      ]
    },
    {
      "cell_type": "markdown",
      "metadata": {
        "id": "z1me1mD81t7g"
      },
      "source": [
        "# Converting to Dates"
      ]
    },
    {
      "cell_type": "markdown",
      "metadata": {
        "id": "3XaPrZC58f_O"
      },
      "source": [
        "This examples shows a date field (FILE_DATE) that need to be converted from \"object\" to \"datetime\" so the data can be plotted correctly.\n",
        "\n",
        "The data is Ontario Covid-19, organized by health region."
      ]
    },
    {
      "cell_type": "code",
      "metadata": {
        "colab": {
          "base_uri": "https://localhost:8080/"
        },
        "id": "Y4hYPzw013iT",
        "outputId": "a672c0e2-7f89-4b92-bf7b-ed35b002ce0d"
      },
      "source": [
        "# Read in and prep the test data\n",
        "# Observation: FILE_DATE is an \"object\" not a valid date format\n",
        "\n",
        "import pandas as pd\n",
        "from datetime import date\n",
        "\n",
        "url = 'https://data.ontario.ca/dataset/1115d5fe-dd84-4c69-b5ed-05bf0c0a0ff9/resource/d1bfe1ad-6575-4352-8302-09ca81f7ddfc/download/cases_by_status_and_phu.csv'\n",
        "df = pd.read_csv(url)\n",
        "df.info()"
      ],
      "execution_count": 1,
      "outputs": [
        {
          "output_type": "stream",
          "text": [
            "<class 'pandas.core.frame.DataFrame'>\n",
            "RangeIndex: 13702 entries, 0 to 13701\n",
            "Data columns (total 6 columns):\n",
            " #   Column          Non-Null Count  Dtype  \n",
            "---  ------          --------------  -----  \n",
            " 0   FILE_DATE       13702 non-null  object \n",
            " 1   PHU_NAME        13701 non-null  object \n",
            " 2   PHU_NUM         13701 non-null  float64\n",
            " 3   ACTIVE_CASES    13702 non-null  int64  \n",
            " 4   RESOLVED_CASES  13702 non-null  int64  \n",
            " 5   DEATHS          13702 non-null  int64  \n",
            "dtypes: float64(1), int64(3), object(2)\n",
            "memory usage: 642.4+ KB\n"
          ],
          "name": "stdout"
        }
      ]
    },
    {
      "cell_type": "code",
      "metadata": {
        "colab": {
          "base_uri": "https://localhost:8080/"
        },
        "id": "7f0MNAu58c8C",
        "outputId": "4f38ee28-2553-462a-86f6-0fe0a59e9ee2"
      },
      "source": [
        "# The method we need is to_datetime()\n",
        "# Observation: FILE_DATE has been converted to datetime64[ns]\n",
        "\n",
        "df['FILE_DATE']= pd.to_datetime(df['FILE_DATE'])\n",
        "df.info()"
      ],
      "execution_count": 2,
      "outputs": [
        {
          "output_type": "stream",
          "text": [
            "<class 'pandas.core.frame.DataFrame'>\n",
            "RangeIndex: 13702 entries, 0 to 13701\n",
            "Data columns (total 6 columns):\n",
            " #   Column          Non-Null Count  Dtype         \n",
            "---  ------          --------------  -----         \n",
            " 0   FILE_DATE       13702 non-null  datetime64[ns]\n",
            " 1   PHU_NAME        13701 non-null  object        \n",
            " 2   PHU_NUM         13701 non-null  float64       \n",
            " 3   ACTIVE_CASES    13702 non-null  int64         \n",
            " 4   RESOLVED_CASES  13702 non-null  int64         \n",
            " 5   DEATHS          13702 non-null  int64         \n",
            "dtypes: datetime64[ns](1), float64(1), int64(3), object(1)\n",
            "memory usage: 642.4+ KB\n"
          ],
          "name": "stdout"
        }
      ]
    },
    {
      "cell_type": "markdown",
      "metadata": {
        "id": "lgY8DrHlMPWo"
      },
      "source": [
        "# Deleting Rows"
      ]
    },
    {
      "cell_type": "markdown",
      "metadata": {
        "id": "5NH2SIsdMZR9"
      },
      "source": [
        "This data has an extra row at the bottom that needs to be removed."
      ]
    },
    {
      "cell_type": "code",
      "metadata": {
        "colab": {
          "base_uri": "https://localhost:8080/",
          "height": 235
        },
        "id": "bRe9tWdXMTOP",
        "outputId": "4806ba34-2cee-4dea-95ee-c0ee5d2279cf"
      },
      "source": [
        "# Read in and prep the test data\n",
        "# The data is a partial extract from https://dieselnet.com/standards/us/fe.php\n",
        "# Observation: The last line is not needed and needs to be deleted\n",
        "\n",
        "import pandas as pd\n",
        "\n",
        "url = 'https://raw.githubusercontent.com/pbeens/OTF-Data-Analysis-2021-05/main/datafiles/bad_cafe_data.csv'\n",
        "\n",
        "df = pd.read_csv(url)\n",
        "df"
      ],
      "execution_count": 3,
      "outputs": [
        {
          "output_type": "execute_result",
          "data": {
            "text/html": [
              "<div>\n",
              "<style scoped>\n",
              "    .dataframe tbody tr th:only-of-type {\n",
              "        vertical-align: middle;\n",
              "    }\n",
              "\n",
              "    .dataframe tbody tr th {\n",
              "        vertical-align: top;\n",
              "    }\n",
              "\n",
              "    .dataframe thead th {\n",
              "        text-align: right;\n",
              "    }\n",
              "</style>\n",
              "<table border=\"1\" class=\"dataframe\">\n",
              "  <thead>\n",
              "    <tr style=\"text-align: right;\">\n",
              "      <th></th>\n",
              "      <th>Year</th>\n",
              "      <th>CAFE MPG</th>\n",
              "      <th>All Light Trucks CAFE MPG</th>\n",
              "    </tr>\n",
              "  </thead>\n",
              "  <tbody>\n",
              "    <tr>\n",
              "      <th>0</th>\n",
              "      <td>2007</td>\n",
              "      <td>27.5</td>\n",
              "      <td>22.2</td>\n",
              "    </tr>\n",
              "    <tr>\n",
              "      <th>1</th>\n",
              "      <td>2008</td>\n",
              "      <td>27.5</td>\n",
              "      <td>22.5</td>\n",
              "    </tr>\n",
              "    <tr>\n",
              "      <th>2</th>\n",
              "      <td>2009</td>\n",
              "      <td>27.5</td>\n",
              "      <td>23.1</td>\n",
              "    </tr>\n",
              "    <tr>\n",
              "      <th>3</th>\n",
              "      <td>2010</td>\n",
              "      <td>27.5</td>\n",
              "      <td>23.5</td>\n",
              "    </tr>\n",
              "    <tr>\n",
              "      <th>4</th>\n",
              "      <td>2011</td>\n",
              "      <td>27.5</td>\n",
              "      <td>a</td>\n",
              "    </tr>\n",
              "    <tr>\n",
              "      <th>5</th>\n",
              "      <td>a Reformed CAFE standards</td>\n",
              "      <td>a Reformed CAFE standards</td>\n",
              "      <td>a Reformed CAFE standards</td>\n",
              "    </tr>\n",
              "  </tbody>\n",
              "</table>\n",
              "</div>"
            ],
            "text/plain": [
              "                        Year  ...  All Light Trucks CAFE MPG\n",
              "0                       2007  ...                       22.2\n",
              "1                       2008  ...                       22.5\n",
              "2                       2009  ...                       23.1\n",
              "3                       2010  ...                       23.5\n",
              "4                       2011  ...                          a\n",
              "5  a Reformed CAFE standards  ...  a Reformed CAFE standards\n",
              "\n",
              "[6 rows x 3 columns]"
            ]
          },
          "metadata": {
            "tags": []
          },
          "execution_count": 3
        }
      ]
    },
    {
      "cell_type": "code",
      "metadata": {
        "colab": {
          "base_uri": "https://localhost:8080/",
          "height": 204
        },
        "id": "fRgYWkXvMysY",
        "outputId": "259a8d68-0f0f-47c6-9079-b0dca741eb8f"
      },
      "source": [
        "# Let's use slicing to only keep the lines we want (0-4).\n",
        "# For more info on slicing, see https://realpython.com/lessons/indexing-and-slicing/\n",
        "\n",
        "df = df[:-1] \n",
        "df"
      ],
      "execution_count": 4,
      "outputs": [
        {
          "output_type": "execute_result",
          "data": {
            "text/html": [
              "<div>\n",
              "<style scoped>\n",
              "    .dataframe tbody tr th:only-of-type {\n",
              "        vertical-align: middle;\n",
              "    }\n",
              "\n",
              "    .dataframe tbody tr th {\n",
              "        vertical-align: top;\n",
              "    }\n",
              "\n",
              "    .dataframe thead th {\n",
              "        text-align: right;\n",
              "    }\n",
              "</style>\n",
              "<table border=\"1\" class=\"dataframe\">\n",
              "  <thead>\n",
              "    <tr style=\"text-align: right;\">\n",
              "      <th></th>\n",
              "      <th>Year</th>\n",
              "      <th>CAFE MPG</th>\n",
              "      <th>All Light Trucks CAFE MPG</th>\n",
              "    </tr>\n",
              "  </thead>\n",
              "  <tbody>\n",
              "    <tr>\n",
              "      <th>0</th>\n",
              "      <td>2007</td>\n",
              "      <td>27.5</td>\n",
              "      <td>22.2</td>\n",
              "    </tr>\n",
              "    <tr>\n",
              "      <th>1</th>\n",
              "      <td>2008</td>\n",
              "      <td>27.5</td>\n",
              "      <td>22.5</td>\n",
              "    </tr>\n",
              "    <tr>\n",
              "      <th>2</th>\n",
              "      <td>2009</td>\n",
              "      <td>27.5</td>\n",
              "      <td>23.1</td>\n",
              "    </tr>\n",
              "    <tr>\n",
              "      <th>3</th>\n",
              "      <td>2010</td>\n",
              "      <td>27.5</td>\n",
              "      <td>23.5</td>\n",
              "    </tr>\n",
              "    <tr>\n",
              "      <th>4</th>\n",
              "      <td>2011</td>\n",
              "      <td>27.5</td>\n",
              "      <td>a</td>\n",
              "    </tr>\n",
              "  </tbody>\n",
              "</table>\n",
              "</div>"
            ],
            "text/plain": [
              "   Year CAFE MPG All Light Trucks CAFE MPG\n",
              "0  2007     27.5                      22.2\n",
              "1  2008     27.5                      22.5\n",
              "2  2009     27.5                      23.1\n",
              "3  2010     27.5                      23.5\n",
              "4  2011     27.5                         a"
            ]
          },
          "metadata": {
            "tags": []
          },
          "execution_count": 4
        }
      ]
    }
  ]
}