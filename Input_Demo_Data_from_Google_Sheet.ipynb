{
  "nbformat": 4,
  "nbformat_minor": 0,
  "metadata": {
    "colab": {
      "name": "Input Demo - Data from Google Sheet.ipynb",
      "provenance": [],
      "collapsed_sections": [],
      "authorship_tag": "ABX9TyNT6h7c+nhV4ia/5/1x+glN",
      "include_colab_link": true
    },
    "kernelspec": {
      "name": "python3",
      "display_name": "Python 3"
    },
    "language_info": {
      "name": "python"
    }
  },
  "cells": [
    {
      "cell_type": "markdown",
      "metadata": {
        "id": "view-in-github",
        "colab_type": "text"
      },
      "source": [
        "<a href=\"https://colab.research.google.com/github/pbeens/OTF-Data-Analysis-2021-05/blob/main/Input_Demo_Data_from_Google_Sheet.ipynb\" target=\"_parent\"><img src=\"https://colab.research.google.com/assets/colab-badge.svg\" alt=\"Open In Colab\"/></a>"
      ]
    },
    {
      "cell_type": "code",
      "metadata": {
        "id": "Xk-19fYNzZtf"
      },
      "source": [
        "# read in pandas library\n",
        "\n",
        "import pandas as pd"
      ],
      "execution_count": null,
      "outputs": []
    },
    {
      "cell_type": "code",
      "metadata": {
        "id": "pdP0j8lwzek0"
      },
      "source": [
        "# Make sure Google Sheet is shared with anyone with the link.\n",
        "# Note the last part of the URL. It must be changed to /export?format=csv\n",
        "# The original URL is https://docs.google.com/spreadsheets/d/1UmY4bodvLONJLTPrWH4gyKPMhFMuuwSnr4rJ3VSaK7k/edit#gid=0\n",
        "\n",
        "url = 'https://docs.google.com/spreadsheets/d/1UmY4bodvLONJLTPrWH4gyKPMhFMuuwSnr4rJ3VSaK7k/export?format=csv'"
      ],
      "execution_count": null,
      "outputs": []
    },
    {
      "cell_type": "code",
      "metadata": {
        "id": "Txz89Nl0zfz9"
      },
      "source": [
        "# Read in the data from the Google Sheet and put it in a dataframe\n",
        "\n",
        "df = pd.read_csv(url)"
      ],
      "execution_count": null,
      "outputs": []
    },
    {
      "cell_type": "code",
      "metadata": {
        "id": "FxIKVzZ74eF8"
      },
      "source": [
        "# Let's look at the first few rows\n",
        "\n",
        "df.head()"
      ],
      "execution_count": null,
      "outputs": []
    },
    {
      "cell_type": "code",
      "metadata": {
        "id": "_EzsSjEXzlEa"
      },
      "source": [
        "# Let's plot the data\n",
        "\n",
        "df.plot(kind='line', \n",
        "        x='X', \n",
        "        y='Y',\n",
        "        ylabel='$X^2$', # the $$ enables TeX markup (^, _, frac)\n",
        "        legend=False)"
      ],
      "execution_count": null,
      "outputs": []
    }
  ]
}