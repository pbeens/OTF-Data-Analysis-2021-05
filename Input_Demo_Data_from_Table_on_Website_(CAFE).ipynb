{
  "nbformat": 4,
  "nbformat_minor": 0,
  "metadata": {
    "colab": {
      "name": "Input Demo - Data from Table on Website (CAFE).ipynb",
      "provenance": [],
      "collapsed_sections": [],
      "authorship_tag": "ABX9TyPzYKsluAPKiH7V47nVy2Zs",
      "include_colab_link": true
    },
    "kernelspec": {
      "name": "python3",
      "display_name": "Python 3"
    },
    "language_info": {
      "name": "python"
    }
  },
  "cells": [
    {
      "cell_type": "markdown",
      "metadata": {
        "id": "view-in-github",
        "colab_type": "text"
      },
      "source": [
        "<a href=\"https://colab.research.google.com/github/pbeens/OTF-Data-Analysis-2021-05/blob/main/Input_Demo_Data_from_Table_on_Website_(CAFE).ipynb\" target=\"_parent\"><img src=\"https://colab.research.google.com/assets/colab-badge.svg\" alt=\"Open In Colab\"/></a>"
      ]
    },
    {
      "cell_type": "markdown",
      "metadata": {
        "id": "SoJ3P9B430fI"
      },
      "source": [
        "This example introduces some typical problems you might run into when trying to process your data. Specifically:\n",
        "\n",
        "- we need to get rid of the last row\n",
        "- we need to convert data to numeric so it can be graphed\n",
        "- we need to deal with a multi-row header (called a MultiIndex)\n",
        "- we need to rename some headings"
      ]
    },
    {
      "cell_type": "code",
      "metadata": {
        "id": "Xk-19fYNzZtf"
      },
      "source": [
        "# Read in pandas library\n",
        "\n",
        "import pandas as pd"
      ],
      "execution_count": 1,
      "outputs": []
    },
    {
      "cell_type": "code",
      "metadata": {
        "id": "pdP0j8lwzek0"
      },
      "source": [
        "# Enter the URL here\n",
        "\n",
        "url = 'https://dieselnet.com/standards/us/fe.php'"
      ],
      "execution_count": 2,
      "outputs": []
    },
    {
      "cell_type": "code",
      "metadata": {
        "id": "Txz89Nl0zfz9",
        "colab": {
          "base_uri": "https://localhost:8080/",
          "height": 886
        },
        "outputId": "b5a515cd-9f4b-4bb5-914e-08d6c0d28c3f"
      },
      "source": [
        "# Read in the data from the website and put it in a dataframe\n",
        "# Observation: We need to delete the last row.\n",
        "\n",
        "df_list = pd.read_html(url)\n",
        "df = df_list[0] # first table = index 0\n",
        "df"
      ],
      "execution_count": 3,
      "outputs": [
        {
          "output_type": "execute_result",
          "data": {
            "text/html": [
              "<div>\n",
              "<style scoped>\n",
              "    .dataframe tbody tr th:only-of-type {\n",
              "        vertical-align: middle;\n",
              "    }\n",
              "\n",
              "    .dataframe tbody tr th {\n",
              "        vertical-align: top;\n",
              "    }\n",
              "\n",
              "    .dataframe thead tr th {\n",
              "        text-align: left;\n",
              "    }\n",
              "</style>\n",
              "<table border=\"1\" class=\"dataframe\">\n",
              "  <thead>\n",
              "    <tr>\n",
              "      <th></th>\n",
              "      <th>Year</th>\n",
              "      <th>Cars</th>\n",
              "      <th colspan=\"3\" halign=\"left\">Light Trucks</th>\n",
              "    </tr>\n",
              "    <tr>\n",
              "      <th></th>\n",
              "      <th>Year</th>\n",
              "      <th>Cars</th>\n",
              "      <th>Combined</th>\n",
              "      <th>2WD</th>\n",
              "      <th>4WD</th>\n",
              "    </tr>\n",
              "  </thead>\n",
              "  <tbody>\n",
              "    <tr>\n",
              "      <th>0</th>\n",
              "      <td>1978</td>\n",
              "      <td>18.0</td>\n",
              "      <td>NaN</td>\n",
              "      <td>NaN</td>\n",
              "      <td>NaN</td>\n",
              "    </tr>\n",
              "    <tr>\n",
              "      <th>1</th>\n",
              "      <td>1979</td>\n",
              "      <td>19.0</td>\n",
              "      <td>NaN</td>\n",
              "      <td>17.2</td>\n",
              "      <td>15.8</td>\n",
              "    </tr>\n",
              "    <tr>\n",
              "      <th>2</th>\n",
              "      <td>1980</td>\n",
              "      <td>20.0</td>\n",
              "      <td>NaN</td>\n",
              "      <td>16.0</td>\n",
              "      <td>14.0</td>\n",
              "    </tr>\n",
              "    <tr>\n",
              "      <th>3</th>\n",
              "      <td>1981</td>\n",
              "      <td>22.0</td>\n",
              "      <td>NaN</td>\n",
              "      <td>16.7</td>\n",
              "      <td>15.0</td>\n",
              "    </tr>\n",
              "    <tr>\n",
              "      <th>4</th>\n",
              "      <td>1982</td>\n",
              "      <td>24.0</td>\n",
              "      <td>17.5</td>\n",
              "      <td>18.0</td>\n",
              "      <td>16.0</td>\n",
              "    </tr>\n",
              "    <tr>\n",
              "      <th>5</th>\n",
              "      <td>1983</td>\n",
              "      <td>26.0</td>\n",
              "      <td>19.0</td>\n",
              "      <td>19.5</td>\n",
              "      <td>17.5</td>\n",
              "    </tr>\n",
              "    <tr>\n",
              "      <th>6</th>\n",
              "      <td>1984</td>\n",
              "      <td>27.0</td>\n",
              "      <td>20.0</td>\n",
              "      <td>20.3</td>\n",
              "      <td>18.5</td>\n",
              "    </tr>\n",
              "    <tr>\n",
              "      <th>7</th>\n",
              "      <td>1985</td>\n",
              "      <td>27.5</td>\n",
              "      <td>19.5</td>\n",
              "      <td>19.7</td>\n",
              "      <td>18.9</td>\n",
              "    </tr>\n",
              "    <tr>\n",
              "      <th>8</th>\n",
              "      <td>1986</td>\n",
              "      <td>26.0</td>\n",
              "      <td>20.0</td>\n",
              "      <td>20.5</td>\n",
              "      <td>19.5</td>\n",
              "    </tr>\n",
              "    <tr>\n",
              "      <th>9</th>\n",
              "      <td>1987</td>\n",
              "      <td>26.0</td>\n",
              "      <td>20.5</td>\n",
              "      <td>21.0</td>\n",
              "      <td>19.5</td>\n",
              "    </tr>\n",
              "    <tr>\n",
              "      <th>10</th>\n",
              "      <td>1989</td>\n",
              "      <td>26.5</td>\n",
              "      <td>20.5</td>\n",
              "      <td>21.5</td>\n",
              "      <td>19.0</td>\n",
              "    </tr>\n",
              "    <tr>\n",
              "      <th>11</th>\n",
              "      <td>1990</td>\n",
              "      <td>27.5</td>\n",
              "      <td>20.0</td>\n",
              "      <td>20.5</td>\n",
              "      <td>19.0</td>\n",
              "    </tr>\n",
              "    <tr>\n",
              "      <th>12</th>\n",
              "      <td>1991</td>\n",
              "      <td>27.5</td>\n",
              "      <td>20.2</td>\n",
              "      <td>20.7</td>\n",
              "      <td>19.1</td>\n",
              "    </tr>\n",
              "    <tr>\n",
              "      <th>13</th>\n",
              "      <td>1992</td>\n",
              "      <td>27.5</td>\n",
              "      <td>20.2</td>\n",
              "      <td>NaN</td>\n",
              "      <td>NaN</td>\n",
              "    </tr>\n",
              "    <tr>\n",
              "      <th>14</th>\n",
              "      <td>1993</td>\n",
              "      <td>27.5</td>\n",
              "      <td>20.4</td>\n",
              "      <td>NaN</td>\n",
              "      <td>NaN</td>\n",
              "    </tr>\n",
              "    <tr>\n",
              "      <th>15</th>\n",
              "      <td>1994</td>\n",
              "      <td>27.5</td>\n",
              "      <td>20.5</td>\n",
              "      <td>NaN</td>\n",
              "      <td>NaN</td>\n",
              "    </tr>\n",
              "    <tr>\n",
              "      <th>16</th>\n",
              "      <td>1995</td>\n",
              "      <td>27.5</td>\n",
              "      <td>20.6</td>\n",
              "      <td>NaN</td>\n",
              "      <td>NaN</td>\n",
              "    </tr>\n",
              "    <tr>\n",
              "      <th>17</th>\n",
              "      <td>1996</td>\n",
              "      <td>27.5</td>\n",
              "      <td>20.7</td>\n",
              "      <td>NaN</td>\n",
              "      <td>NaN</td>\n",
              "    </tr>\n",
              "    <tr>\n",
              "      <th>18</th>\n",
              "      <td>2005</td>\n",
              "      <td>27.5</td>\n",
              "      <td>21.0</td>\n",
              "      <td>NaN</td>\n",
              "      <td>NaN</td>\n",
              "    </tr>\n",
              "    <tr>\n",
              "      <th>19</th>\n",
              "      <td>2006</td>\n",
              "      <td>27.5</td>\n",
              "      <td>21.6</td>\n",
              "      <td>NaN</td>\n",
              "      <td>NaN</td>\n",
              "    </tr>\n",
              "    <tr>\n",
              "      <th>20</th>\n",
              "      <td>2007</td>\n",
              "      <td>27.5</td>\n",
              "      <td>22.2</td>\n",
              "      <td>NaN</td>\n",
              "      <td>NaN</td>\n",
              "    </tr>\n",
              "    <tr>\n",
              "      <th>21</th>\n",
              "      <td>2008</td>\n",
              "      <td>27.5</td>\n",
              "      <td>22.5</td>\n",
              "      <td>NaN</td>\n",
              "      <td>NaN</td>\n",
              "    </tr>\n",
              "    <tr>\n",
              "      <th>22</th>\n",
              "      <td>2009</td>\n",
              "      <td>27.5</td>\n",
              "      <td>23.1</td>\n",
              "      <td>NaN</td>\n",
              "      <td>NaN</td>\n",
              "    </tr>\n",
              "    <tr>\n",
              "      <th>23</th>\n",
              "      <td>2010</td>\n",
              "      <td>27.5</td>\n",
              "      <td>23.5</td>\n",
              "      <td>NaN</td>\n",
              "      <td>NaN</td>\n",
              "    </tr>\n",
              "    <tr>\n",
              "      <th>24</th>\n",
              "      <td>2011</td>\n",
              "      <td>27.5</td>\n",
              "      <td>a</td>\n",
              "      <td>NaN</td>\n",
              "      <td>NaN</td>\n",
              "    </tr>\n",
              "    <tr>\n",
              "      <th>25</th>\n",
              "      <td>a Reformed CAFE standards</td>\n",
              "      <td>a Reformed CAFE standards</td>\n",
              "      <td>a Reformed CAFE standards</td>\n",
              "      <td>a Reformed CAFE standards</td>\n",
              "      <td>a Reformed CAFE standards</td>\n",
              "    </tr>\n",
              "  </tbody>\n",
              "</table>\n",
              "</div>"
            ],
            "text/plain": [
              "                         Year  ...               Light Trucks\n",
              "                         Year  ...                        4WD\n",
              "0                        1978  ...                        NaN\n",
              "1                        1979  ...                       15.8\n",
              "2                        1980  ...                       14.0\n",
              "3                        1981  ...                       15.0\n",
              "4                        1982  ...                       16.0\n",
              "5                        1983  ...                       17.5\n",
              "6                        1984  ...                       18.5\n",
              "7                        1985  ...                       18.9\n",
              "8                        1986  ...                       19.5\n",
              "9                        1987  ...                       19.5\n",
              "10                       1989  ...                       19.0\n",
              "11                       1990  ...                       19.0\n",
              "12                       1991  ...                       19.1\n",
              "13                       1992  ...                        NaN\n",
              "14                       1993  ...                        NaN\n",
              "15                       1994  ...                        NaN\n",
              "16                       1995  ...                        NaN\n",
              "17                       1996  ...                        NaN\n",
              "18                       2005  ...                        NaN\n",
              "19                       2006  ...                        NaN\n",
              "20                       2007  ...                        NaN\n",
              "21                       2008  ...                        NaN\n",
              "22                       2009  ...                        NaN\n",
              "23                       2010  ...                        NaN\n",
              "24                       2011  ...                        NaN\n",
              "25  a Reformed CAFE standards  ...  a Reformed CAFE standards\n",
              "\n",
              "[26 rows x 5 columns]"
            ]
          },
          "metadata": {
            "tags": []
          },
          "execution_count": 3
        }
      ]
    },
    {
      "cell_type": "code",
      "metadata": {
        "colab": {
          "base_uri": "https://localhost:8080/",
          "height": 855
        },
        "id": "-CvCsCptuCNQ",
        "outputId": "7e3b1f68-7d33-4ac2-e3f8-89381d782f77"
      },
      "source": [
        "# Let's get rid of the last row\n",
        "\n",
        "df = df[:-1] # this is called slicing\n",
        "df"
      ],
      "execution_count": 4,
      "outputs": [
        {
          "output_type": "execute_result",
          "data": {
            "text/html": [
              "<div>\n",
              "<style scoped>\n",
              "    .dataframe tbody tr th:only-of-type {\n",
              "        vertical-align: middle;\n",
              "    }\n",
              "\n",
              "    .dataframe tbody tr th {\n",
              "        vertical-align: top;\n",
              "    }\n",
              "\n",
              "    .dataframe thead tr th {\n",
              "        text-align: left;\n",
              "    }\n",
              "</style>\n",
              "<table border=\"1\" class=\"dataframe\">\n",
              "  <thead>\n",
              "    <tr>\n",
              "      <th></th>\n",
              "      <th>Year</th>\n",
              "      <th>Cars</th>\n",
              "      <th colspan=\"3\" halign=\"left\">Light Trucks</th>\n",
              "    </tr>\n",
              "    <tr>\n",
              "      <th></th>\n",
              "      <th>Year</th>\n",
              "      <th>Cars</th>\n",
              "      <th>Combined</th>\n",
              "      <th>2WD</th>\n",
              "      <th>4WD</th>\n",
              "    </tr>\n",
              "  </thead>\n",
              "  <tbody>\n",
              "    <tr>\n",
              "      <th>0</th>\n",
              "      <td>1978</td>\n",
              "      <td>18.0</td>\n",
              "      <td>NaN</td>\n",
              "      <td>NaN</td>\n",
              "      <td>NaN</td>\n",
              "    </tr>\n",
              "    <tr>\n",
              "      <th>1</th>\n",
              "      <td>1979</td>\n",
              "      <td>19.0</td>\n",
              "      <td>NaN</td>\n",
              "      <td>17.2</td>\n",
              "      <td>15.8</td>\n",
              "    </tr>\n",
              "    <tr>\n",
              "      <th>2</th>\n",
              "      <td>1980</td>\n",
              "      <td>20.0</td>\n",
              "      <td>NaN</td>\n",
              "      <td>16.0</td>\n",
              "      <td>14.0</td>\n",
              "    </tr>\n",
              "    <tr>\n",
              "      <th>3</th>\n",
              "      <td>1981</td>\n",
              "      <td>22.0</td>\n",
              "      <td>NaN</td>\n",
              "      <td>16.7</td>\n",
              "      <td>15.0</td>\n",
              "    </tr>\n",
              "    <tr>\n",
              "      <th>4</th>\n",
              "      <td>1982</td>\n",
              "      <td>24.0</td>\n",
              "      <td>17.5</td>\n",
              "      <td>18.0</td>\n",
              "      <td>16.0</td>\n",
              "    </tr>\n",
              "    <tr>\n",
              "      <th>5</th>\n",
              "      <td>1983</td>\n",
              "      <td>26.0</td>\n",
              "      <td>19.0</td>\n",
              "      <td>19.5</td>\n",
              "      <td>17.5</td>\n",
              "    </tr>\n",
              "    <tr>\n",
              "      <th>6</th>\n",
              "      <td>1984</td>\n",
              "      <td>27.0</td>\n",
              "      <td>20.0</td>\n",
              "      <td>20.3</td>\n",
              "      <td>18.5</td>\n",
              "    </tr>\n",
              "    <tr>\n",
              "      <th>7</th>\n",
              "      <td>1985</td>\n",
              "      <td>27.5</td>\n",
              "      <td>19.5</td>\n",
              "      <td>19.7</td>\n",
              "      <td>18.9</td>\n",
              "    </tr>\n",
              "    <tr>\n",
              "      <th>8</th>\n",
              "      <td>1986</td>\n",
              "      <td>26.0</td>\n",
              "      <td>20.0</td>\n",
              "      <td>20.5</td>\n",
              "      <td>19.5</td>\n",
              "    </tr>\n",
              "    <tr>\n",
              "      <th>9</th>\n",
              "      <td>1987</td>\n",
              "      <td>26.0</td>\n",
              "      <td>20.5</td>\n",
              "      <td>21.0</td>\n",
              "      <td>19.5</td>\n",
              "    </tr>\n",
              "    <tr>\n",
              "      <th>10</th>\n",
              "      <td>1989</td>\n",
              "      <td>26.5</td>\n",
              "      <td>20.5</td>\n",
              "      <td>21.5</td>\n",
              "      <td>19.0</td>\n",
              "    </tr>\n",
              "    <tr>\n",
              "      <th>11</th>\n",
              "      <td>1990</td>\n",
              "      <td>27.5</td>\n",
              "      <td>20.0</td>\n",
              "      <td>20.5</td>\n",
              "      <td>19.0</td>\n",
              "    </tr>\n",
              "    <tr>\n",
              "      <th>12</th>\n",
              "      <td>1991</td>\n",
              "      <td>27.5</td>\n",
              "      <td>20.2</td>\n",
              "      <td>20.7</td>\n",
              "      <td>19.1</td>\n",
              "    </tr>\n",
              "    <tr>\n",
              "      <th>13</th>\n",
              "      <td>1992</td>\n",
              "      <td>27.5</td>\n",
              "      <td>20.2</td>\n",
              "      <td>NaN</td>\n",
              "      <td>NaN</td>\n",
              "    </tr>\n",
              "    <tr>\n",
              "      <th>14</th>\n",
              "      <td>1993</td>\n",
              "      <td>27.5</td>\n",
              "      <td>20.4</td>\n",
              "      <td>NaN</td>\n",
              "      <td>NaN</td>\n",
              "    </tr>\n",
              "    <tr>\n",
              "      <th>15</th>\n",
              "      <td>1994</td>\n",
              "      <td>27.5</td>\n",
              "      <td>20.5</td>\n",
              "      <td>NaN</td>\n",
              "      <td>NaN</td>\n",
              "    </tr>\n",
              "    <tr>\n",
              "      <th>16</th>\n",
              "      <td>1995</td>\n",
              "      <td>27.5</td>\n",
              "      <td>20.6</td>\n",
              "      <td>NaN</td>\n",
              "      <td>NaN</td>\n",
              "    </tr>\n",
              "    <tr>\n",
              "      <th>17</th>\n",
              "      <td>1996</td>\n",
              "      <td>27.5</td>\n",
              "      <td>20.7</td>\n",
              "      <td>NaN</td>\n",
              "      <td>NaN</td>\n",
              "    </tr>\n",
              "    <tr>\n",
              "      <th>18</th>\n",
              "      <td>2005</td>\n",
              "      <td>27.5</td>\n",
              "      <td>21.0</td>\n",
              "      <td>NaN</td>\n",
              "      <td>NaN</td>\n",
              "    </tr>\n",
              "    <tr>\n",
              "      <th>19</th>\n",
              "      <td>2006</td>\n",
              "      <td>27.5</td>\n",
              "      <td>21.6</td>\n",
              "      <td>NaN</td>\n",
              "      <td>NaN</td>\n",
              "    </tr>\n",
              "    <tr>\n",
              "      <th>20</th>\n",
              "      <td>2007</td>\n",
              "      <td>27.5</td>\n",
              "      <td>22.2</td>\n",
              "      <td>NaN</td>\n",
              "      <td>NaN</td>\n",
              "    </tr>\n",
              "    <tr>\n",
              "      <th>21</th>\n",
              "      <td>2008</td>\n",
              "      <td>27.5</td>\n",
              "      <td>22.5</td>\n",
              "      <td>NaN</td>\n",
              "      <td>NaN</td>\n",
              "    </tr>\n",
              "    <tr>\n",
              "      <th>22</th>\n",
              "      <td>2009</td>\n",
              "      <td>27.5</td>\n",
              "      <td>23.1</td>\n",
              "      <td>NaN</td>\n",
              "      <td>NaN</td>\n",
              "    </tr>\n",
              "    <tr>\n",
              "      <th>23</th>\n",
              "      <td>2010</td>\n",
              "      <td>27.5</td>\n",
              "      <td>23.5</td>\n",
              "      <td>NaN</td>\n",
              "      <td>NaN</td>\n",
              "    </tr>\n",
              "    <tr>\n",
              "      <th>24</th>\n",
              "      <td>2011</td>\n",
              "      <td>27.5</td>\n",
              "      <td>a</td>\n",
              "      <td>NaN</td>\n",
              "      <td>NaN</td>\n",
              "    </tr>\n",
              "  </tbody>\n",
              "</table>\n",
              "</div>"
            ],
            "text/plain": [
              "    Year  Cars Light Trucks            \n",
              "    Year  Cars     Combined   2WD   4WD\n",
              "0   1978  18.0          NaN   NaN   NaN\n",
              "1   1979  19.0          NaN  17.2  15.8\n",
              "2   1980  20.0          NaN  16.0  14.0\n",
              "3   1981  22.0          NaN  16.7  15.0\n",
              "4   1982  24.0         17.5  18.0  16.0\n",
              "5   1983  26.0         19.0  19.5  17.5\n",
              "6   1984  27.0         20.0  20.3  18.5\n",
              "7   1985  27.5         19.5  19.7  18.9\n",
              "8   1986  26.0         20.0  20.5  19.5\n",
              "9   1987  26.0         20.5  21.0  19.5\n",
              "10  1989  26.5         20.5  21.5  19.0\n",
              "11  1990  27.5         20.0  20.5  19.0\n",
              "12  1991  27.5         20.2  20.7  19.1\n",
              "13  1992  27.5         20.2   NaN   NaN\n",
              "14  1993  27.5         20.4   NaN   NaN\n",
              "15  1994  27.5         20.5   NaN   NaN\n",
              "16  1995  27.5         20.6   NaN   NaN\n",
              "17  1996  27.5         20.7   NaN   NaN\n",
              "18  2005  27.5         21.0   NaN   NaN\n",
              "19  2006  27.5         21.6   NaN   NaN\n",
              "20  2007  27.5         22.2   NaN   NaN\n",
              "21  2008  27.5         22.5   NaN   NaN\n",
              "22  2009  27.5         23.1   NaN   NaN\n",
              "23  2010  27.5         23.5   NaN   NaN\n",
              "24  2011  27.5            a   NaN   NaN"
            ]
          },
          "metadata": {
            "tags": []
          },
          "execution_count": 4
        }
      ]
    },
    {
      "cell_type": "code",
      "metadata": {
        "colab": {
          "base_uri": "https://localhost:8080/"
        },
        "id": "R9wkZdraxgvy",
        "outputId": "d5257bbd-94c8-4402-b988-2fd7d3df4b01"
      },
      "source": [
        "# Let's look at the datatypes\n",
        "# Note that the Year and Cars columns aren't numeric so we'll have\n",
        "# to fix that before we can graph it.\n",
        "\n",
        "df.dtypes"
      ],
      "execution_count": 5,
      "outputs": [
        {
          "output_type": "execute_result",
          "data": {
            "text/plain": [
              "Year          Year        object\n",
              "Cars          Cars        object\n",
              "Light Trucks  Combined    object\n",
              "              2WD         object\n",
              "              4WD         object\n",
              "dtype: object"
            ]
          },
          "metadata": {
            "tags": []
          },
          "execution_count": 5
        }
      ]
    },
    {
      "cell_type": "code",
      "metadata": {
        "colab": {
          "base_uri": "https://localhost:8080/"
        },
        "id": "NsM_AD2ftrLZ",
        "outputId": "04b1aa62-f0bb-48a1-ea6a-3210276402f4"
      },
      "source": [
        "# Let's look at the columns\n",
        "# Observation: it's a MultiIndex\n",
        "\n",
        "df.columns"
      ],
      "execution_count": 6,
      "outputs": [
        {
          "output_type": "execute_result",
          "data": {
            "text/plain": [
              "MultiIndex([(        'Year',     'Year'),\n",
              "            (        'Cars',     'Cars'),\n",
              "            ('Light Trucks', 'Combined'),\n",
              "            ('Light Trucks',      '2WD'),\n",
              "            ('Light Trucks',      '4WD')],\n",
              "           )"
            ]
          },
          "metadata": {
            "tags": []
          },
          "execution_count": 6
        }
      ]
    },
    {
      "cell_type": "code",
      "metadata": {
        "colab": {
          "base_uri": "https://localhost:8080/"
        },
        "id": "NvXnOtgfv_fh",
        "outputId": "bc803010-269c-45c1-c526-d8f81984c0a1"
      },
      "source": [
        "# Let's get rid of the MultiIndex\n",
        "# Observation: Horrible names so let's rename them in the next cell\n",
        "\n",
        "df.columns = df.columns.map(''.join)\n",
        "df.columns"
      ],
      "execution_count": 7,
      "outputs": [
        {
          "output_type": "execute_result",
          "data": {
            "text/plain": [
              "Index(['YearYear', 'CarsCars', 'Light TrucksCombined', 'Light Trucks2WD',\n",
              "       'Light Trucks4WD'],\n",
              "      dtype='object')"
            ]
          },
          "metadata": {
            "tags": []
          },
          "execution_count": 7
        }
      ]
    },
    {
      "cell_type": "code",
      "metadata": {
        "colab": {
          "base_uri": "https://localhost:8080/"
        },
        "id": "MO-GnRWxzjOm",
        "outputId": "e0738db4-eb78-491d-a653-8ae44d156a75"
      },
      "source": [
        "# Let's rename the columns to something nicer\n",
        "\n",
        "df = df.rename(columns={'YearYear': 'Year',\n",
        "                        'CarsCars': 'CAFE MPG',\n",
        "                        'Light TrucksCombined': 'All Light Trucks CAFE MPG',\n",
        "                        'Light Trucks2WD': '2WD Light Trucks CAFE MPG',\n",
        "                        'Light Trucks4WD': '4WD Light Trucks CAFE MPG'})\n",
        "df.columns\n"
      ],
      "execution_count": 8,
      "outputs": [
        {
          "output_type": "execute_result",
          "data": {
            "text/plain": [
              "Index(['Year', 'CAFE MPG', 'All Light Trucks CAFE MPG',\n",
              "       '2WD Light Trucks CAFE MPG', '4WD Light Trucks CAFE MPG'],\n",
              "      dtype='object')"
            ]
          },
          "metadata": {
            "tags": []
          },
          "execution_count": 8
        }
      ]
    },
    {
      "cell_type": "code",
      "metadata": {
        "colab": {
          "base_uri": "https://localhost:8080/"
        },
        "id": "krc_15PFzbV2",
        "outputId": "2aee4bb9-4162-40fc-83b9-8744d6292bad"
      },
      "source": [
        "# Now we have to convert the columns we want to graph to numeric\n",
        "\n",
        "df['Year'] = pd.to_numeric(df['Year'])\n",
        "df['CAFE MPG'] = pd.to_numeric(df['CAFE MPG'])\n",
        "df.dtypes"
      ],
      "execution_count": 9,
      "outputs": [
        {
          "output_type": "execute_result",
          "data": {
            "text/plain": [
              "Year                           int64\n",
              "CAFE MPG                     float64\n",
              "All Light Trucks CAFE MPG     object\n",
              "2WD Light Trucks CAFE MPG     object\n",
              "4WD Light Trucks CAFE MPG     object\n",
              "dtype: object"
            ]
          },
          "metadata": {
            "tags": []
          },
          "execution_count": 9
        }
      ]
    },
    {
      "cell_type": "code",
      "metadata": {
        "colab": {
          "base_uri": "https://localhost:8080/",
          "height": 296
        },
        "id": "u0l8j_vjvR8G",
        "outputId": "ab2bd410-a316-4bb9-f6f3-d2d9890330cb"
      },
      "source": [
        "# Let's plot!\n",
        "# Some options to play with here: legend, ylabel, grid, title\n",
        "\n",
        "df.plot(kind='line',\n",
        "        x='Year',\n",
        "        y='CAFE MPG')"
      ],
      "execution_count": 10,
      "outputs": [
        {
          "output_type": "execute_result",
          "data": {
            "text/plain": [
              "<matplotlib.axes._subplots.AxesSubplot at 0x7f8b7639d410>"
            ]
          },
          "metadata": {
            "tags": []
          },
          "execution_count": 10
        },
        {
          "output_type": "display_data",
          "data": {
            "image/png": "[encoded data removed]",
            "text/plain": [
              "<Figure size 432x288 with 1 Axes>"
            ]
          },
          "metadata": {
            "tags": [],
            "needs_background": "light"
          }
        }
      ]
    }
  ]
}